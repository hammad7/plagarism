{
  "cells": [
    {
      "cell_type": "markdown",
      "source": [
        "Trained Model at:\n",
        "[https://huggingface.co/Hammad7/plag-col-rev-en-v2](https://huggingface.co/Hammad7/plag-col-rev-en-v2)"
      ],
      "metadata": {
        "id": "X3zX6cgMVPRB"
      }
    },
    {
      "cell_type": "code",
      "execution_count": null,
      "metadata": {
        "id": "qQivOuYJKFOP",
        "outputId": "8eaf0487-a331-4435-cbb0-eb586d8e2e41"
      },
      "outputs": [
        {
          "name": "stderr",
          "output_type": "stream",
          "text": [
            "/mnt/disks/user/anaconda3/lib/python3.7/site-packages/sklearn/feature_extraction/image.py:167: DeprecationWarning: `np.int` is a deprecated alias for the builtin `int`. To silence this warning, use `int` by itself. Doing this will not modify any behavior and is safe. When replacing `np.int`, you may wish to use e.g. `np.int64` or `np.int32` to specify the precision. If you wish to review your current use, check the release note link for additional information.\n",
            "Deprecated in NumPy 1.20; for more details and guidance: https://numpy.org/devdocs/release/1.20.0-notes.html#deprecations\n",
            "  dtype=np.int):\n",
            "/mnt/disks/user/anaconda3/lib/python3.7/site-packages/sklearn/linear_model/least_angle.py:35: DeprecationWarning: `np.float` is a deprecated alias for the builtin `float`. To silence this warning, use `float` by itself. Doing this will not modify any behavior and is safe. If you specifically wanted the numpy scalar type, use `np.float64` here.\n",
            "Deprecated in NumPy 1.20; for more details and guidance: https://numpy.org/devdocs/release/1.20.0-notes.html#deprecations\n",
            "  eps=np.finfo(np.float).eps,\n",
            "/mnt/disks/user/anaconda3/lib/python3.7/site-packages/sklearn/linear_model/least_angle.py:597: DeprecationWarning: `np.float` is a deprecated alias for the builtin `float`. To silence this warning, use `float` by itself. Doing this will not modify any behavior and is safe. If you specifically wanted the numpy scalar type, use `np.float64` here.\n",
            "Deprecated in NumPy 1.20; for more details and guidance: https://numpy.org/devdocs/release/1.20.0-notes.html#deprecations\n",
            "  eps=np.finfo(np.float).eps, copy_X=True, fit_path=True,\n",
            "/mnt/disks/user/anaconda3/lib/python3.7/site-packages/sklearn/linear_model/least_angle.py:836: DeprecationWarning: `np.float` is a deprecated alias for the builtin `float`. To silence this warning, use `float` by itself. Doing this will not modify any behavior and is safe. If you specifically wanted the numpy scalar type, use `np.float64` here.\n",
            "Deprecated in NumPy 1.20; for more details and guidance: https://numpy.org/devdocs/release/1.20.0-notes.html#deprecations\n",
            "  eps=np.finfo(np.float).eps, copy_X=True, fit_path=True,\n",
            "/mnt/disks/user/anaconda3/lib/python3.7/site-packages/sklearn/linear_model/least_angle.py:862: DeprecationWarning: `np.float` is a deprecated alias for the builtin `float`. To silence this warning, use `float` by itself. Doing this will not modify any behavior and is safe. If you specifically wanted the numpy scalar type, use `np.float64` here.\n",
            "Deprecated in NumPy 1.20; for more details and guidance: https://numpy.org/devdocs/release/1.20.0-notes.html#deprecations\n",
            "  eps=np.finfo(np.float).eps, positive=False):\n",
            "/mnt/disks/user/anaconda3/lib/python3.7/site-packages/sklearn/linear_model/least_angle.py:1097: DeprecationWarning: `np.float` is a deprecated alias for the builtin `float`. To silence this warning, use `float` by itself. Doing this will not modify any behavior and is safe. If you specifically wanted the numpy scalar type, use `np.float64` here.\n",
            "Deprecated in NumPy 1.20; for more details and guidance: https://numpy.org/devdocs/release/1.20.0-notes.html#deprecations\n",
            "  max_n_alphas=1000, n_jobs=None, eps=np.finfo(np.float).eps,\n",
            "/mnt/disks/user/anaconda3/lib/python3.7/site-packages/sklearn/linear_model/least_angle.py:1344: DeprecationWarning: `np.float` is a deprecated alias for the builtin `float`. To silence this warning, use `float` by itself. Doing this will not modify any behavior and is safe. If you specifically wanted the numpy scalar type, use `np.float64` here.\n",
            "Deprecated in NumPy 1.20; for more details and guidance: https://numpy.org/devdocs/release/1.20.0-notes.html#deprecations\n",
            "  max_n_alphas=1000, n_jobs=None, eps=np.finfo(np.float).eps,\n",
            "/mnt/disks/user/anaconda3/lib/python3.7/site-packages/sklearn/linear_model/least_angle.py:1480: DeprecationWarning: `np.float` is a deprecated alias for the builtin `float`. To silence this warning, use `float` by itself. Doing this will not modify any behavior and is safe. If you specifically wanted the numpy scalar type, use `np.float64` here.\n",
            "Deprecated in NumPy 1.20; for more details and guidance: https://numpy.org/devdocs/release/1.20.0-notes.html#deprecations\n",
            "  eps=np.finfo(np.float).eps, copy_X=True, positive=False):\n",
            "/mnt/disks/user/anaconda3/lib/python3.7/site-packages/sklearn/linear_model/randomized_l1.py:152: DeprecationWarning: `np.float` is a deprecated alias for the builtin `float`. To silence this warning, use `float` by itself. Doing this will not modify any behavior and is safe. If you specifically wanted the numpy scalar type, use `np.float64` here.\n",
            "Deprecated in NumPy 1.20; for more details and guidance: https://numpy.org/devdocs/release/1.20.0-notes.html#deprecations\n",
            "  precompute=False, eps=np.finfo(np.float).eps,\n",
            "/mnt/disks/user/anaconda3/lib/python3.7/site-packages/sklearn/linear_model/randomized_l1.py:320: DeprecationWarning: `np.float` is a deprecated alias for the builtin `float`. To silence this warning, use `float` by itself. Doing this will not modify any behavior and is safe. If you specifically wanted the numpy scalar type, use `np.float64` here.\n",
            "Deprecated in NumPy 1.20; for more details and guidance: https://numpy.org/devdocs/release/1.20.0-notes.html#deprecations\n",
            "  eps=np.finfo(np.float).eps, random_state=None,\n",
            "/mnt/disks/user/anaconda3/lib/python3.7/site-packages/sklearn/linear_model/randomized_l1.py:580: DeprecationWarning: `np.float` is a deprecated alias for the builtin `float`. To silence this warning, use `float` by itself. Doing this will not modify any behavior and is safe. If you specifically wanted the numpy scalar type, use `np.float64` here.\n",
            "Deprecated in NumPy 1.20; for more details and guidance: https://numpy.org/devdocs/release/1.20.0-notes.html#deprecations\n",
            "  eps=4 * np.finfo(np.float).eps, n_jobs=None,\n"
          ]
        }
      ],
      "source": [
        "import sentence_transformers\n",
        "# from terminal \n",
        "# pip install sentence-transformers"
      ]
    },
    {
      "cell_type": "code",
      "execution_count": null,
      "metadata": {
        "id": "iqWSTp98KFOT",
        "outputId": "ffd05b2d-f1e6-4991-f4ce-45b139828b1b"
      },
      "outputs": [
        {
          "name": "stdout",
          "output_type": "stream",
          "text": [
            "Downloading...\n",
            "From: https://drive.google.com/uc?id=12YB0YDkmLtGjqBcx400HuCSyYnvVXgj8\n",
            "To: /mnt/disks/user/project/data.pickle\n",
            "100%|███████████████████████████████████████| 77.1M/77.1M [00:00<00:00, 183MB/s]\n"
          ]
        }
      ],
      "source": [
        "# !pip install gdown\n",
        "# https://drive.google.com/file/d/12YB0YDkmLtGjqBcx400HuCSyYnvVXgj8/view?usp=sharing\n",
        "!gdown --id \"12YB0YDkmLtGjqBcx400HuCSyYnvVXgj8\""
      ]
    },
    {
      "cell_type": "code",
      "execution_count": null,
      "metadata": {
        "id": "BYk97BXQKFOU",
        "outputId": "9322ede0-7c99-43e6-d7da-5915f6847ba3"
      },
      "outputs": [
        {
          "data": {
            "text/plain": [
              "(90097, 10000, 4000)"
            ]
          },
          "execution_count": 1,
          "metadata": {},
          "output_type": "execute_result"
        }
      ],
      "source": [
        "# !pip3 install pickle5\n",
        "# import pickle5 as pickle\n",
        "import logging\n",
        "logging.basicConfig()\n",
        "logging.getLogger().setLevel(logging.DEBUG\n",
        "\n",
        "import pickle\n",
        "rfile = \"data.pickle\"\n",
        "with open(rfile, 'rb') as handle:\n",
        "    train = pickle.load(handle)\n",
        "\n",
        "train = [[row[1],row[2],row[3]] for row in train]\n",
        "test = train[-4000:] ## already shuffled\n",
        "train = train[0:len(train)-4000]\n",
        "val = train[-10000:] \n",
        "train = train[0:len(train)-10000]\n",
        "len(train),len(val),len(test)"
      ]
    },
    {
      "cell_type": "code",
      "execution_count": null,
      "metadata": {
        "colab": {
          "base_uri": "https://localhost:8080/"
        },
        "id": "bQJgbXhdpP8W",
        "outputId": "640df7f1-4d76-405d-9a52-fd7cde2823bf"
      },
      "outputs": [
        {
          "data": {
            "text/plain": [
              "(100097, 4000)"
            ]
          },
          "execution_count": 6,
          "metadata": {},
          "output_type": "execute_result"
        }
      ],
      "source": [
        "# import pandas as pd\n",
        "# rfile = \"drive/MyDrive/Colab Notebooks/train.csv\"\n",
        "# rData = pd.read_csv(rfile)\n",
        "# rData = rData.iloc[:,2].tolist()\n",
        "\n",
        "# # rData = rData[0:10000] ######### take 10%\n",
        "\n",
        "# import nltk,random\n",
        "# nltk.download('punkt')\n",
        "# from tqdm import tqdm\n",
        "# train = []\n",
        "# #positives\n",
        "# for review in tqdm(rData):\n",
        "#     sent = nltk.sent_tokenize(review)\n",
        "#     train.append([random.choice(sent),review,1])\n",
        "\n",
        "# #negatives\n",
        "# for review in tqdm(rData):\n",
        "#     random_review = random.choice(rData)\n",
        "#     sent = nltk.sent_tokenize(random_review)\n",
        "#     train.append([random.choice(sent),review,0])\n",
        "\n",
        "\n",
        "# random.shuffle(train)\n"
      ]
    },
    {
      "cell_type": "code",
      "execution_count": null,
      "metadata": {
        "colab": {
          "base_uri": "https://localhost:8080/"
        },
        "id": "J-lRio0EqBoX",
        "outputId": "570d66af-662b-4030-c528-5bd1a38ae434"
      },
      "outputs": [
        {
          "name": "stderr",
          "output_type": "stream",
          "text": [
            "/mnt/disks/user/anaconda3/lib/python3.7/site-packages/sklearn/feature_extraction/image.py:167: DeprecationWarning: `np.int` is a deprecated alias for the builtin `int`. To silence this warning, use `int` by itself. Doing this will not modify any behavior and is safe. When replacing `np.int`, you may wish to use e.g. `np.int64` or `np.int32` to specify the precision. If you wish to review your current use, check the release note link for additional information.\n",
            "Deprecated in NumPy 1.20; for more details and guidance: https://numpy.org/devdocs/release/1.20.0-notes.html#deprecations\n",
            "  dtype=np.int):\n",
            "/mnt/disks/user/anaconda3/lib/python3.7/site-packages/sklearn/linear_model/least_angle.py:35: DeprecationWarning: `np.float` is a deprecated alias for the builtin `float`. To silence this warning, use `float` by itself. Doing this will not modify any behavior and is safe. If you specifically wanted the numpy scalar type, use `np.float64` here.\n",
            "Deprecated in NumPy 1.20; for more details and guidance: https://numpy.org/devdocs/release/1.20.0-notes.html#deprecations\n",
            "  eps=np.finfo(np.float).eps,\n",
            "/mnt/disks/user/anaconda3/lib/python3.7/site-packages/sklearn/linear_model/least_angle.py:597: DeprecationWarning: `np.float` is a deprecated alias for the builtin `float`. To silence this warning, use `float` by itself. Doing this will not modify any behavior and is safe. If you specifically wanted the numpy scalar type, use `np.float64` here.\n",
            "Deprecated in NumPy 1.20; for more details and guidance: https://numpy.org/devdocs/release/1.20.0-notes.html#deprecations\n",
            "  eps=np.finfo(np.float).eps, copy_X=True, fit_path=True,\n",
            "/mnt/disks/user/anaconda3/lib/python3.7/site-packages/sklearn/linear_model/least_angle.py:836: DeprecationWarning: `np.float` is a deprecated alias for the builtin `float`. To silence this warning, use `float` by itself. Doing this will not modify any behavior and is safe. If you specifically wanted the numpy scalar type, use `np.float64` here.\n",
            "Deprecated in NumPy 1.20; for more details and guidance: https://numpy.org/devdocs/release/1.20.0-notes.html#deprecations\n",
            "  eps=np.finfo(np.float).eps, copy_X=True, fit_path=True,\n",
            "/mnt/disks/user/anaconda3/lib/python3.7/site-packages/sklearn/linear_model/least_angle.py:862: DeprecationWarning: `np.float` is a deprecated alias for the builtin `float`. To silence this warning, use `float` by itself. Doing this will not modify any behavior and is safe. If you specifically wanted the numpy scalar type, use `np.float64` here.\n",
            "Deprecated in NumPy 1.20; for more details and guidance: https://numpy.org/devdocs/release/1.20.0-notes.html#deprecations\n",
            "  eps=np.finfo(np.float).eps, positive=False):\n",
            "/mnt/disks/user/anaconda3/lib/python3.7/site-packages/sklearn/linear_model/least_angle.py:1097: DeprecationWarning: `np.float` is a deprecated alias for the builtin `float`. To silence this warning, use `float` by itself. Doing this will not modify any behavior and is safe. If you specifically wanted the numpy scalar type, use `np.float64` here.\n",
            "Deprecated in NumPy 1.20; for more details and guidance: https://numpy.org/devdocs/release/1.20.0-notes.html#deprecations\n",
            "  max_n_alphas=1000, n_jobs=None, eps=np.finfo(np.float).eps,\n",
            "/mnt/disks/user/anaconda3/lib/python3.7/site-packages/sklearn/linear_model/least_angle.py:1344: DeprecationWarning: `np.float` is a deprecated alias for the builtin `float`. To silence this warning, use `float` by itself. Doing this will not modify any behavior and is safe. If you specifically wanted the numpy scalar type, use `np.float64` here.\n",
            "Deprecated in NumPy 1.20; for more details and guidance: https://numpy.org/devdocs/release/1.20.0-notes.html#deprecations\n",
            "  max_n_alphas=1000, n_jobs=None, eps=np.finfo(np.float).eps,\n",
            "/mnt/disks/user/anaconda3/lib/python3.7/site-packages/sklearn/linear_model/least_angle.py:1480: DeprecationWarning: `np.float` is a deprecated alias for the builtin `float`. To silence this warning, use `float` by itself. Doing this will not modify any behavior and is safe. If you specifically wanted the numpy scalar type, use `np.float64` here.\n",
            "Deprecated in NumPy 1.20; for more details and guidance: https://numpy.org/devdocs/release/1.20.0-notes.html#deprecations\n",
            "  eps=np.finfo(np.float).eps, copy_X=True, positive=False):\n",
            "/mnt/disks/user/anaconda3/lib/python3.7/site-packages/sklearn/linear_model/randomized_l1.py:152: DeprecationWarning: `np.float` is a deprecated alias for the builtin `float`. To silence this warning, use `float` by itself. Doing this will not modify any behavior and is safe. If you specifically wanted the numpy scalar type, use `np.float64` here.\n",
            "Deprecated in NumPy 1.20; for more details and guidance: https://numpy.org/devdocs/release/1.20.0-notes.html#deprecations\n",
            "  precompute=False, eps=np.finfo(np.float).eps,\n",
            "/mnt/disks/user/anaconda3/lib/python3.7/site-packages/sklearn/linear_model/randomized_l1.py:320: DeprecationWarning: `np.float` is a deprecated alias for the builtin `float`. To silence this warning, use `float` by itself. Doing this will not modify any behavior and is safe. If you specifically wanted the numpy scalar type, use `np.float64` here.\n",
            "Deprecated in NumPy 1.20; for more details and guidance: https://numpy.org/devdocs/release/1.20.0-notes.html#deprecations\n",
            "  eps=np.finfo(np.float).eps, random_state=None,\n",
            "/mnt/disks/user/anaconda3/lib/python3.7/site-packages/sklearn/linear_model/randomized_l1.py:580: DeprecationWarning: `np.float` is a deprecated alias for the builtin `float`. To silence this warning, use `float` by itself. Doing this will not modify any behavior and is safe. If you specifically wanted the numpy scalar type, use `np.float64` here.\n",
            "Deprecated in NumPy 1.20; for more details and guidance: https://numpy.org/devdocs/release/1.20.0-notes.html#deprecations\n",
            "  eps=4 * np.finfo(np.float).eps, n_jobs=None,\n",
            "Some weights of BertForSequenceClassification were not initialized from the model checkpoint at sentence-transformers/all-MiniLM-L6-v2 and are newly initialized: ['classifier.weight', 'classifier.bias']\n",
            "You should probably TRAIN this model on a down-stream task to be able to use it for predictions and inference.\n"
          ]
        }
      ],
      "source": [
        "# !pip install --upgrade pip\n",
        "# !pip install -U sentence-transformers\n",
        "from sentence_transformers import SentenceTransformer, models, evaluation\n",
        "\n",
        "from sentence_transformers.cross_encoder import CrossEncoder\n",
        "from sentence_transformers.cross_encoder.evaluation import CECorrelationEvaluator,CEBinaryClassificationEvaluator, CEBinaryAccuracyEvaluator\n",
        "\n",
        "model = CrossEncoder('sentence-transformers/all-MiniLM-L6-v2', num_labels=1)  ###\n",
        "# model = CrossEncoder('cross-encoder/nli-deberta-v3-xsmall', num_labels=2)\n",
        "# model = CrossEncoder('sentence-transformers/all-MiniLM-L6-v2', num_labels=2)\n",
        "# model = CrossEncoder('cross-encoder/nli-deberta-v3-xsmall', num_labels=2)\n",
        "# cross-encoder/nli-deberta-v3-xsmall\n",
        "# cross-encoder/ms-marco-MiniLM-L-12-v2\n",
        "# https://huggingface.co/models?sort=downloads&search=cross-encoder%2F\n",
        "# cross-encoder/stsb-roberta-large\n",
        "# cross-encoder/quora-distilroberta-base\n",
        "\n",
        "# scores = model.predict([('A man is eating pizza', 'A man eats something'), ('A black race car starts up in front of a crowd of people.', 'A man is driving down a lonely road.')])\n",
        "\n",
        "#Convert scores to labels\n",
        "# label_mapping = ['contradiction', 'entailment', 'neutral']\n",
        "# labels = [label_mapping[score_max] for score_max in scores.argmax(axis=1)]\n",
        "\n",
        "\n",
        "## Step 1: use an existing language model\n",
        "# word_embedding_model = models.Transformer('microsoft/deberta-v3-xsmall')\n",
        "# word_embedding_model = models.Transformer('sentence-transformers/all-MiniLM-L6-v2')\n",
        "\n",
        "## Step 2: use a pool function over the token embeddings\n",
        "# pooling_model = models.Pooling(word_embedding_model.get_word_embedding_dimension())\n",
        "\n",
        "## Join steps 1 and 2 using the modules argument\n",
        "# model = SentenceTransformer(modules=[word_embedding_model, pooling_model])"
      ]
    },
    {
      "cell_type": "code",
      "execution_count": null,
      "metadata": {
        "id": "dF7qbREOqB0x"
      },
      "outputs": [],
      "source": [
        "from sentence_transformers import InputExample, losses\n",
        "from torch.utils.data import DataLoader\n",
        "\n",
        "\n",
        "train_examples = []\n",
        "for i in range(len(train)):\n",
        "  train_examples.append(InputExample(texts=[train[i][0], train[i][1]], label=train[i][2])) ### not int\n",
        "\n",
        "\n",
        "## greater batch better\n",
        "train_dataloader = DataLoader(train_examples, shuffle=True, batch_size=16)\n",
        "#### not used ???\n",
        "# train_loss = losses.SoftmaxLoss(model=model,sentence_embedding_dimension=384,num_labels=2)  ## OR .ContrastiveLoss\n",
        "num_epochs = 10 \n",
        "warmup_steps = int(len(train_dataloader) * num_epochs * 0.1) #10% of train data\n",
        "# CEBinaryClassificationEvaluator  ###### should works for 0,1\n",
        "evaluator = CECorrelationEvaluator([[row[0],row[1]] for row in val], \n",
        "                [row[2] for row in val])\n",
        "\n",
        "evaluatorAll = CECorrelationEvaluator([[row[0],row[1]] for row in train], \n",
        "                [row[2] for row in train])\n",
        "\n",
        "evaluatortest = CECorrelationEvaluator([[row[0],row[1]] for row in test], \n",
        "                [row[2] for row in test])\n",
        "\n"
      ]
    },
    {
      "cell_type": "code",
      "execution_count": null,
      "metadata": {
        "colab": {
          "base_uri": "https://localhost:8080/"
        },
        "id": "I3Ar-ZRfLaPM",
        "outputId": "94b79a49-9dfb-4917-a13b-008329b1e3eb"
      },
      "outputs": [
        {
          "data": {
            "text/plain": [
              "-0.0543511070468631"
            ]
          },
          "execution_count": 4,
          "metadata": {},
          "output_type": "execute_result"
        }
      ],
      "source": [
        "evaluator(model)"
      ]
    },
    {
      "cell_type": "code",
      "execution_count": null,
      "metadata": {
        "id": "JNZzNOWeKFOZ",
        "outputId": "e58cd01e-2430-4a8d-c950-8a37958f5f80"
      },
      "outputs": [
        {
          "name": "stderr",
          "output_type": "stream",
          "text": [
            "INFO:sentence_transformers.cross_encoder.evaluation.CECorrelationEvaluator:CECorrelationEvaluator: Evaluating the model on  dataset:\n",
            "INFO:sentence_transformers.cross_encoder.evaluation.CECorrelationEvaluator:Correlation:\tPearson: 0.0004\tSpearman: -0.0021\n"
          ]
        },
        {
          "data": {
            "text/plain": [
              "-0.002125256946879608"
            ]
          },
          "execution_count": 9,
          "metadata": {},
          "output_type": "execute_result"
        }
      ],
      "source": [
        "evaluatortest(model)"
      ]
    },
    {
      "cell_type": "code",
      "execution_count": null,
      "metadata": {
        "id": "1lM5cXrRKFOZ"
      },
      "outputs": [],
      "source": [
        "def testModel(score, epoch, steps):\n",
        "    print(evaluatortest(model))\n",
        "    print(score, epoch, steps)"
      ]
    },
    {
      "cell_type": "code",
      "execution_count": null,
      "metadata": {
        "colab": {
          "base_uri": "https://localhost:8080/",
          "height": 599,
          "referenced_widgets": [
            "7549303c56ac4ca1bcc90b2d6a1a2166",
            "57212ff8bceb4e93b632477b968fd106",
            "9d95a091a6ac4b9087f3dbfc9dde9672",
            "a03a837203c74c27970fc99af18f252b",
            "d2dc17cb19b545ca8e05320112006adb",
            "27db5435feb348d4bae4be611eca91bc",
            "2d07014ce7644fc0bd914d7f49703300",
            "3720a24bb8dd458db7130c8873c348e9",
            "b4e20643538a4325b4b6c4e784f9bd42",
            "11c23ef21acc4d1c936295a523488785",
            "5ca438dabca8407b85be1575c14ea25b",
            "4d56f3fcda8a46f2a4abca17436ab177",
            "bff3770dc92042f9888661980939fa6d",
            "aec7a226bca847ea91ff72ff1294fd3d",
            "5cb0f1e6be0a47e295a88c2fe87b1b3e",
            "956307948974420cb7c563e61576cb87",
            "9af5b6f44da54edc96709d24fabe21ff",
            "23c98d8c41f74de79616bd3ee56de1fb",
            "28868bd0250a425eb7ccbe8adcfa5204",
            "08cbac32233046ce8a63e0953e63e9fe",
            "3158c32774ee436c949ed9c3c7b46bb7",
            "21d6e0d41b3342d0825de4d2c839dd90",
            "9b169a5302094d1eb5408530af66e3bb",
            "d28d8a05f191491b89221014ef20e8cd",
            "872cb7d4bfa544feb5dde3c881285cc9",
            "d2fdc871a12343f4824bed15770e827a",
            "ebb4ba9bc188410bac595d334cb64821",
            "88978f7e26ae434e9906df75e9512bc0",
            "fc36f06dac7a4e4995884004c2974fb3",
            "ebe2e54d484244f6b2890a995e27225a",
            "8f46ba730212472f9f1957adac13c612",
            "6c6f0b90cc2b43479100e9532430ddc6",
            "c9ba57def25d4b7daf0d9b5ef5c6e9ec",
            "57d858ebdc1c4ecebb07d80fb903544b",
            "881ce66421284074b023063be31a161e"
          ]
        },
        "id": "0cVDCtHUqIBa",
        "outputId": "7915c20b-ace4-49f5-e0bb-e707bf0a465e"
      },
      "outputs": [
        {
          "name": "stderr",
          "output_type": "stream",
          "text": [
            "WARNING: Logging before flag parsing goes to stderr.\n",
            "I0914 16:51:05.407576 140604938979136 tpu_cluster_resolver.py:35] Falling back to TensorFlow client; we recommended you install the Cloud TPU client directly with pip install cloud-tpu-client.\n",
            "I0914 16:51:05.868639 140604938979136 __init__.py:415] $HOME=/home/ubuntu\n",
            "I0914 16:51:05.869856 140604938979136 __init__.py:415] CONFIGDIR=/home/ubuntu/.config/matplotlib\n",
            "I0914 16:51:05.870787 140604938979136 __init__.py:415] matplotlib data path: /mnt/disks/user/anaconda3/lib/python3.7/site-packages/matplotlib/mpl-data\n",
            "I0914 16:51:05.875625 140604938979136 __init__.py:1093] loaded rc file /mnt/disks/user/anaconda3/lib/python3.7/site-packages/matplotlib/mpl-data/matplotlibrc\n",
            "I0914 16:51:05.877369 140604938979136 __init__.py:1819] matplotlib version 3.0.3\n",
            "I0914 16:51:05.877919 140604938979136 __init__.py:1820] interactive is False\n",
            "I0914 16:51:05.878815 140604938979136 __init__.py:1821] platform is linux\n",
            "I0914 16:51:05.879868 140604938979136 __init__.py:1822] loaded modules: ['sys', 'builtins', '_frozen_importlib', '_imp', '_thread', '_warnings', '_weakref', 'zipimport', '_frozen_importlib_external', '_io', 'marshal', 'posix', 'encodings', 'codecs', '_codecs', 'encodings.aliases', 'encodings.utf_8', '_signal', '__main__', 'encodings.latin_1', 'io', 'abc', '_abc', '_bootlocale', '_locale', 'site', 'os', 'stat', '_stat', 'posixpath', 'genericpath', 'os.path', '_collections_abc', '_sitebuiltins', 'pwd', 'types', 'importlib', 'importlib._bootstrap', 'importlib._bootstrap_external', 'warnings', 'importlib.util', 'importlib.abc', 'importlib.machinery', 'contextlib', 'collections', 'operator', '_operator', 'keyword', 'heapq', '_heapq', 'itertools', 'reprlib', '_collections', 'functools', '_functools', 'google', 'mpl_toolkits', 'sphinxcontrib', 'zope', 'runpy', 'pkgutil', 'weakref', '_weakrefset', 'ipykernel', 'ipykernel._version', 'ipykernel.connect', '__future__', 'json', 'json.decoder', 're', 'enum', 'sre_compile', '_sre', 'sre_parse', 'sre_constants', 'copyreg', 'json.scanner', '_json', 'json.encoder', 'subprocess', 'time', 'signal', 'errno', '_posixsubprocess', 'select', 'selectors', 'collections.abc', 'math', 'threading', 'traceback', 'linecache', 'tokenize', 'token', 'IPython', 'IPython.core', 'IPython.core.getipython', 'IPython.core.release', 'IPython.core.application', 'atexit', 'copy', 'glob', 'fnmatch', 'logging', 'string', '_string', 'shutil', 'zlib', 'bz2', '_compression', '_bz2', 'lzma', '_lzma', 'grp', 'traitlets', 'traitlets.traitlets', 'inspect', 'dis', 'opcode', '_opcode', 'six', 'struct', '_struct', 'traitlets.utils', 'traitlets.utils.getargspec', 'traitlets.utils.importstring', 'ipython_genutils', 'ipython_genutils._version', 'ipython_genutils.py3compat', 'ipython_genutils.encoding', 'locale', 'platform', 'traitlets.utils.sentinel', 'traitlets.utils.bunch', 'traitlets._version', 'traitlets.config', 'traitlets.config.application', 'decorator', 'traitlets.config.configurable', 'traitlets.config.loader', 'argparse', 'gettext', 'ast', '_ast', 'ipython_genutils.path', 'random', 'hashlib', '_hashlib', '_blake2', '_sha3', 'bisect', '_bisect', '_random', 'ipython_genutils.text', 'textwrap', 'ipython_genutils.importstring', 'IPython.core.crashhandler', 'pprint', 'IPython.core.ultratb', 'pydoc', 'urllib', 'urllib.parse', 'IPython.core.debugger', 'bdb', 'IPython.utils', 'IPython.utils.PyColorize', 'IPython.utils.coloransi', 'IPython.utils.ipstruct', 'IPython.utils.colorable', 'pygments', 'pygments.util', 'IPython.utils.py3compat', 'IPython.utils.encoding', 'IPython.core.excolors', 'IPython.testing', 'IPython.testing.skipdoctest', 'pdb', 'cmd', 'code', 'codeop', 'IPython.core.display_trap', 'IPython.utils.path', 'IPython.utils.process', 'IPython.utils._process_posix', 'pexpect', 'pexpect.exceptions', 'pexpect.utils', 'pexpect.expect', 'pexpect.pty_spawn', 'pty', 'tty', 'termios', 'ptyprocess', 'ptyprocess.ptyprocess', 'fcntl', 'resource', 'ptyprocess.util', 'pexpect.spawnbase', 'pexpect.run', 'IPython.utils._process_common', 'shlex', 'IPython.utils.decorators', 'IPython.utils.data', 'IPython.utils.terminal', 'IPython.utils.sysinfo', 'IPython.utils._sysinfo', 'IPython.core.profiledir', 'IPython.paths', 'tempfile', 'IPython.utils.importstring', 'IPython.terminal', 'IPython.terminal.embed', 'IPython.core.compilerop', 'IPython.core.magic_arguments', 'IPython.core.error', 'IPython.utils.text', 'pathlib', 'ntpath', 'IPython.core.magic', 'getopt', 'IPython.core.oinspect', 'IPython.core.page', 'IPython.core.display', 'binascii', 'mimetypes', 'IPython.lib', 'IPython.lib.security', 'getpass', 'IPython.lib.pretty', 'datetime', '_datetime', 'IPython.utils.openpy', 'IPython.utils.dir2', 'IPython.utils.wildcard', 'pygments.lexers', 'pygments.lexers._mapping', 'pygments.modeline', 'pygments.plugin', 'pygments.lexers.python', 'pygments.lexer', 'pygments.filter', 'pygments.filters', 'pygments.token', 'pygments.regexopt', 'pygments.unistring', 'pygments.formatters', 'pygments.formatters._mapping', 'pygments.formatters.html', 'pygments.formatter', 'pygments.styles', 'IPython.core.inputtransformer2', 'typing', 'typing.io', 'typing.re', 'IPython.core.interactiveshell', 'asyncio', 'asyncio.base_events', 'concurrent', 'concurrent.futures', 'concurrent.futures._base', 'socket', '_socket', 'ssl', '_ssl', 'base64', 'asyncio.constants', 'asyncio.coroutines', 'asyncio.base_futures', 'asyncio.format_helpers', 'asyncio.log', 'asyncio.events', 'contextvars', '_contextvars', 'asyncio.base_tasks', '_asyncio', 'asyncio.futures', 'asyncio.protocols', 'asyncio.sslproto', 'asyncio.transports', 'asyncio.tasks', 'asyncio.locks', 'asyncio.runners', 'asyncio.queues', 'asyncio.streams', 'asyncio.subprocess', 'asyncio.unix_events', 'asyncio.base_subprocess', 'asyncio.selector_events', 'pickleshare', 'pickle', '_compat_pickle', '_pickle', 'IPython.core.prefilter', 'IPython.core.autocall', 'IPython.core.macro', 'IPython.core.splitinput', 'IPython.core.alias', 'IPython.core.builtin_trap', 'IPython.core.events', 'backcall', 'backcall.backcall', 'IPython.core.displayhook', 'IPython.core.displaypub', 'IPython.core.extensions', 'IPython.core.formatters', 'IPython.utils.sentinel', 'IPython.core.history', 'sqlite3', 'sqlite3.dbapi2', '_sqlite3', 'IPython.core.logger', 'IPython.core.payload', 'IPython.core.usage', 'IPython.display', 'IPython.lib.display', 'html', 'html.entities', 'IPython.utils.io', 'IPython.utils.capture', 'IPython.utils.strdispatch', 'IPython.core.hooks', 'IPython.utils.syspathcontext', 'IPython.utils.tempdir', 'IPython.utils.contexts', 'IPython.core.async_helpers', 'IPython.terminal.interactiveshell', 'prompt_toolkit', 'prompt_toolkit.application', 'prompt_toolkit.application.application', 'prompt_toolkit.buffer', 'prompt_toolkit.application.current', 'prompt_toolkit.eventloop', 'prompt_toolkit.eventloop.base', 'prompt_toolkit.log', 'prompt_toolkit.eventloop.coroutine', 'prompt_toolkit.eventloop.defaults', 'prompt_toolkit.utils', 'six.moves', 'wcwidth', 'wcwidth.wcwidth', 'wcwidth.table_wide', 'wcwidth.table_zero', 'prompt_toolkit.cache', 'prompt_toolkit.eventloop.future', 'prompt_toolkit.eventloop.context', 'prompt_toolkit.eventloop.async_generator', 'queue', '_queue', 'six.moves.queue', 'prompt_toolkit.eventloop.event', 'prompt_toolkit.application.run_in_terminal', 'prompt_toolkit.auto_suggest', 'prompt_toolkit.filters', 'prompt_toolkit.filters.base', 'prompt_toolkit.filters.app', 'prompt_toolkit.enums', 'prompt_toolkit.filters.utils', 'prompt_toolkit.filters.cli', 'prompt_toolkit.clipboard', 'prompt_toolkit.clipboard.base', 'prompt_toolkit.selection', 'prompt_toolkit.clipboard.in_memory', 'prompt_toolkit.completion', 'prompt_toolkit.completion.base', 'prompt_toolkit.completion.filesystem', 'prompt_toolkit.completion.word_completer', 'prompt_toolkit.completion.fuzzy_completer', 'prompt_toolkit.document', 'prompt_toolkit.history', 'prompt_toolkit.search', 'prompt_toolkit.key_binding', 'prompt_toolkit.key_binding.key_bindings', 'prompt_toolkit.keys', 'prompt_toolkit.key_binding.vi_state', 'prompt_toolkit.validation', 'prompt_toolkit.input', 'prompt_toolkit.input.base', 'prompt_toolkit.input.defaults', 'prompt_toolkit.input.typeahead', 'prompt_toolkit.key_binding.bindings', 'prompt_toolkit.key_binding.bindings.page_navigation', 'prompt_toolkit.key_binding.bindings.scroll', 'prompt_toolkit.key_binding.defaults', 'prompt_toolkit.key_binding.bindings.basic', 'prompt_toolkit.key_binding.key_processor', 'prompt_toolkit.key_binding.bindings.named_commands', 'prompt_toolkit.key_binding.bindings.completion', 'prompt_toolkit.key_binding.bindings.emacs', 'prompt_toolkit.key_binding.bindings.vi', 'prompt_toolkit.input.vt100_parser', 'prompt_toolkit.input.ansi_escape_sequences', 'prompt_toolkit.key_binding.digraphs', 'prompt_toolkit.key_binding.bindings.mouse', 'prompt_toolkit.layout', 'prompt_toolkit.layout.containers', 'prompt_toolkit.layout.controls', 'prompt_toolkit.formatted_text', 'prompt_toolkit.formatted_text.base', 'prompt_toolkit.formatted_text.html', 'xml', 'xml.dom', 'xml.dom.domreg', 'xml.dom.minidom', 'xml.dom.minicompat', 'xml.dom.xmlbuilder', 'xml.dom.NodeFilter', 'prompt_toolkit.formatted_text.ansi', 'prompt_toolkit.output', 'prompt_toolkit.output.base', 'prompt_toolkit.layout.screen', 'prompt_toolkit.output.defaults', 'prompt_toolkit.output.color_depth', 'prompt_toolkit.output.vt100', 'prompt_toolkit.styles', 'prompt_toolkit.styles.base', 'prompt_toolkit.styles.defaults', 'prompt_toolkit.styles.style', 'prompt_toolkit.styles.named_colors', 'prompt_toolkit.styles.pygments', 'prompt_toolkit.styles.style_transformation', 'colorsys', 'array', 'prompt_toolkit.formatted_text.pygments', 'prompt_toolkit.formatted_text.utils', 'prompt_toolkit.lexers', 'prompt_toolkit.lexers.base', 'prompt_toolkit.lexers.pygments', 'prompt_toolkit.mouse_events', 'prompt_toolkit.layout.processors', 'prompt_toolkit.layout.utils', 'prompt_toolkit.layout.dimension', 'prompt_toolkit.layout.margins', 'prompt_toolkit.layout.layout', 'prompt_toolkit.layout.menus', 'prompt_toolkit.renderer', 'prompt_toolkit.layout.mouse_handlers', 'prompt_toolkit.key_binding.bindings.cpr', 'prompt_toolkit.key_binding.emacs_state', 'prompt_toolkit.layout.dummy', 'prompt_toolkit.application.dummy', 'prompt_toolkit.shortcuts', 'prompt_toolkit.shortcuts.dialogs', 'prompt_toolkit.key_binding.bindings.focus', 'prompt_toolkit.widgets', 'prompt_toolkit.widgets.base', 'prompt_toolkit.widgets.toolbars', 'prompt_toolkit.widgets.dialogs', 'prompt_toolkit.widgets.menus', 'prompt_toolkit.shortcuts.prompt', 'prompt_toolkit.key_binding.bindings.auto_suggest', 'prompt_toolkit.key_binding.bindings.open_in_editor', 'prompt_toolkit.shortcuts.utils', 'prompt_toolkit.shortcuts.progress_bar', 'prompt_toolkit.shortcuts.progress_bar.base', 'prompt_toolkit.shortcuts.progress_bar.formatters', 'prompt_toolkit.patch_stdout', 'pygments.style', 'IPython.terminal.debugger', 'IPython.core.completer', 'unicodedata', 'IPython.core.latex_symbols', 'IPython.utils.generics', 'jedi', 'jedi.api', 'parso', 'parso.parser', 'parso.tree', 'parso._compatibility', 'parso.utils', 'parso.pgen2', 'parso.pgen2.generator', 'parso.pgen2.grammar_parser', 'parso.python', 'parso.python.tokenize', 'parso.python.token', 'parso.grammar', 'parso.python.diff', 'difflib', 'parso.python.parser', 'parso.python.tree', 'parso.python.prefix', 'parso.cache', 'gc', 'parso.python.errors', 'parso.normalizer', 'parso.python.pep8', 'jedi._compatibility', 'jedi.parser_utils', 'jedi.debug', 'colorama', 'colorama.initialise', 'colorama.ansitowin32', 'colorama.ansi', 'colorama.winterm', 'colorama.win32', 'ctypes', '_ctypes', 'ctypes._endian', 'jedi.settings', 'jedi.cache', 'jedi.api.classes', 'jedi.evaluate', 'jedi.evaluate.utils', 'jedi.evaluate.imports', 'jedi.evaluate.sys_path', 'jedi.evaluate.cache', 'jedi.evaluate.base_context', 'jedi.common', 'jedi.common.context', 'jedi.evaluate.helpers', 'jedi.common.utils', 'jedi.evaluate.compiled', 'jedi.evaluate.compiled.context', 'jedi.evaluate.filters', 'jedi.evaluate.flow_analysis', 'jedi.evaluate.recursion', 'jedi.evaluate.lazy_context', 'jedi.evaluate.compiled.access', 'jedi.evaluate.compiled.getattr_static', 'jedi.evaluate.compiled.fake', 'jedi.evaluate.analysis', 'jedi.evaluate.context', 'jedi.evaluate.context.module', 'jedi.evaluate.context.klass', 'jedi.evaluate.context.function', 'jedi.evaluate.docstrings', 'jedi.evaluate.pep0484', 'jedi.evaluate.arguments', 'jedi.evaluate.context.iterable', 'jedi.evaluate.param', 'jedi.evaluate.context.asynchronous', 'jedi.evaluate.parser_cache', 'jedi.evaluate.context.instance', 'jedi.evaluate.syntax_tree', 'jedi.evaluate.finder', 'jedi.api.keywords', 'pydoc_data', 'pydoc_data.topics', 'jedi.api.interpreter', 'jedi.evaluate.compiled.mixed', 'jedi.api.helpers', 'jedi.api.completion', 'jedi.api.environment', 'filecmp', 'jedi.evaluate.compiled.subprocess', 'jedi.evaluate.compiled.subprocess.functions', 'jedi.api.exceptions', 'jedi.api.project', 'jedi.evaluate.usages', 'IPython.terminal.ptutils', 'IPython.terminal.shortcuts', 'IPython.terminal.magics', 'IPython.lib.clipboard', 'IPython.terminal.pt_inputhooks', 'IPython.terminal.prompts', 'IPython.terminal.ipapp', 'IPython.core.magics', 'IPython.core.magics.auto', 'IPython.core.magics.basic', 'IPython.core.magics.code', 'urllib.request', 'email', 'http', 'http.client', 'email.parser', 'email.feedparser', 'email.errors', 'email._policybase', 'email.header', 'email.quoprimime', 'email.base64mime', 'email.charset', 'email.encoders', 'quopri', 'email.utils', 'email._parseaddr', 'calendar', 'email.message', 'uu', 'email._encoded_words', 'email.iterators', 'urllib.error', 'urllib.response', 'IPython.core.magics.config', 'IPython.core.magics.display', 'IPython.core.magics.execution', 'timeit', 'cProfile', '_lsprof', 'profile', 'pstats', 'IPython.utils.module_paths', 'IPython.utils.timing', 'IPython.core.magics.extension', 'IPython.core.magics.history', 'IPython.core.magics.logging', 'IPython.core.magics.namespace', 'IPython.core.magics.osm', 'IPython.core.magics.packaging', 'IPython.core.magics.pylab', 'IPython.core.pylabtools', 'IPython.core.magics.script', 'IPython.lib.backgroundjobs', 'IPython.core.shellapp', 'IPython.extensions', 'IPython.extensions.storemagic', 'IPython.utils.frame', 'jupyter_client', 'jupyter_client._version', 'jupyter_client.connect', 'zmq', 'zmq.backend', 'zmq.backend.select', 'zmq.backend.cython', 'zmq.backend.cython.constants', 'cython_runtime', 'zmq.backend.cython.error', '_cython_0_29_5', 'zmq.backend.cython.message', 'zmq.error', 'zmq.backend.cython.context', 'zmq.backend.cython.socket', 'zmq.backend.cython.utils', 'zmq.backend.cython._poll', 'zmq.backend.cython._version', 'zmq.backend.cython._device', 'zmq.backend.cython._proxy_steerable', 'zmq.sugar', 'zmq.sugar.constants', 'zmq.utils', 'zmq.utils.constant_names', 'zmq.sugar.context', 'zmq.sugar.attrsettr', 'zmq.sugar.socket', 'zmq.sugar.poll', 'zmq.utils.jsonapi', 'zmq.utils.strtypes', 'zmq.sugar.frame', 'zmq.sugar.tracker', 'zmq.sugar.version', 'zmq.sugar.stopwatch', 'jupyter_client.localinterfaces', 'jupyter_core', 'jupyter_core.version', 'jupyter_core.paths', 'jupyter_client.launcher', 'traitlets.log', 'jupyter_client.client', 'jupyter_client.channels', 'jupyter_client.channelsabc', 'jupyter_client.clientabc', 'jupyter_client.manager', 'jupyter_client.kernelspec', 'jupyter_client.managerabc', 'jupyter_client.blocking', 'jupyter_client.blocking.client', 'jupyter_client.blocking.channels', 'jupyter_client.multikernelmanager', 'uuid', 'ipykernel.kernelapp', 'tornado', 'tornado.ioloop', 'numbers', 'tornado.concurrent', 'tornado.log', 'logging.handlers', 'tornado.escape', 'tornado.util', 'tornado.speedups', 'curses', '_curses', 'zmq.eventloop', 'zmq.eventloop.ioloop', 'tornado.platform', 'tornado.platform.asyncio', 'tornado.gen', 'zmq.eventloop.zmqstream', 'ipykernel.iostream', 'imp', 'jupyter_client.session', 'hmac', 'jupyter_client.jsonutil', 'dateutil', 'dateutil._version', 'dateutil.parser', 'dateutil.parser._parser', 'decimal', '_decimal', 'dateutil.relativedelta', 'dateutil._common', 'dateutil.tz', 'dateutil.tz.tz', 'dateutil.tz._common', 'dateutil.tz._factories', 'dateutil.parser.isoparser', '_strptime', 'jupyter_client.adapter', 'ipykernel.heartbeat', 'ipykernel.ipkernel', 'IPython.utils.tokenutil', 'ipykernel.comm', 'ipykernel.comm.manager', 'ipykernel.comm.comm', 'ipykernel.kernelbase', 'tornado.queues', 'tornado.locks', 'ipykernel.jsonutil', 'ipykernel.zmqshell', 'IPython.core.payloadpage', 'ipykernel.displayhook', 'ipykernel.parentpoller', 'faulthandler', 'ipykernel.datapub', 'ipykernel.serialize', 'ipykernel.pickleutil', 'ipykernel.codeutil', 'IPython.core.completerlib', 'storemagic', 'ipywidgets', 'ipywidgets._version', 'ipywidgets.widgets', 'ipywidgets.widgets.widget', 'ipywidgets.widgets.domwidget', 'ipywidgets.widgets.trait_types', 'ipywidgets.widgets.widget_layout', 'ipywidgets.widgets.widget_style', 'ipywidgets.widgets.valuewidget', 'ipywidgets.widgets.widget_core', 'ipywidgets.widgets.widget_bool', 'ipywidgets.widgets.widget_description', 'ipywidgets.widgets.widget_button', 'ipywidgets.widgets.widget_box', 'ipywidgets.widgets.docutils', 'ipywidgets.widgets.widget_float', 'ipywidgets.widgets.widget_int', 'ipywidgets.widgets.widget_color', 'ipywidgets.widgets.widget_date', 'ipywidgets.widgets.widget_output', 'ipywidgets.widgets.widget_selection', 'ipywidgets.widgets.widget_selectioncontainer', 'ipywidgets.widgets.widget_string', 'ipywidgets.widgets.widget_controller', 'ipywidgets.widgets.interaction', 'ipywidgets.widgets.widget_link', 'ipywidgets.widgets.widget_media', 'sentence_transformers', 'sentence_transformers.datasets', 'sentence_transformers.datasets.DenoisingAutoEncoderDataset', 'torch', 'torch._utils', 'torch._utils_internal', 'torch.torch_version', 'torch.version', 'torch._six', 'torch._C._onnx', 'torch._C._jit', 'torch._C._jit_tree_views', 'torch._C._te', 'torch._C._nvfuser', 'torch._C._monitor', 'torch._C.cpp', 'torch._C.cpp.nn', 'torch._C._lazy', 'torch._C._lazy_ts_backend', 'torch._C._cudart', 'torch._C._nvtx', 'torch._C._cudnn', 'torch._C', 'torch._C._fft', 'torch._C._linalg', 'torch._C._nn', 'torch._C._return_types', 'torch._C._sparse', 'torch._C._special', 'torch._tensor', 'torch._namedtensor_internals', 'torch.overrides', 'torch.utils', 'torch.utils.throughput_benchmark', 'torch.utils._crash_handler', 'torch.utils._mode_utils', 'dataclasses', 'torch.utils.hooks', 'torch.storage', 'torch.types', 'numpy', 'numpy._globals', 'numpy.__config__', 'numpy._version', 'numpy._distributor_init', 'numpy.core', 'numpy.version', 'numpy.core.multiarray', 'numpy.core.overrides', 'numpy.core._multiarray_umath', 'numpy.compat', 'numpy.compat._inspect', 'numpy.compat.py3k', 'numpy.core.umath', 'numpy.core.numerictypes', 'numpy.core._string_helpers', 'numpy.core._type_aliases', 'numpy.core._dtype', 'numpy.core.numeric', 'numpy.core.shape_base', 'numpy.core.fromnumeric', 'numpy.core._methods', 'numpy.core._exceptions', 'numpy.core._ufunc_config', 'numpy.core.arrayprint', 'numpy.core._asarray', 'numpy.core.defchararray', 'numpy.core.records', 'numpy.core.memmap', 'numpy.core.function_base', 'numpy.core.machar', 'numpy.core.getlimits', 'numpy.core.einsumfunc', 'numpy.core._add_newdocs', 'numpy.core._multiarray_tests', 'numpy.core._add_newdocs_scalars', 'numpy.core._dtype_ctypes', 'numpy.core._internal', 'numpy._pytesttester', 'numpy.lib', 'numpy.lib.mixins', 'numpy.lib.scimath', 'numpy.lib.type_check', 'numpy.lib.ufunclike', 'numpy.lib.index_tricks', 'numpy.matrixlib', 'numpy.matrixlib.defmatrix', 'numpy.linalg', 'numpy.linalg.linalg', 'numpy.lib.twodim_base', 'numpy.lib.stride_tricks', 'numpy.linalg.lapack_lite', 'numpy.linalg._umath_linalg', 'numpy.lib.function_base', 'numpy.lib.histograms', 'numpy.lib.nanfunctions', 'numpy.lib.shape_base', 'numpy.lib.polynomial', 'numpy.lib.utils', 'numpy.lib.arraysetops', 'numpy.lib.npyio', 'numpy.lib.format', 'numpy.lib._datasource', 'numpy.lib._iotools', 'numpy.lib.arrayterator', 'numpy.lib.arraypad', 'numpy.lib._version', 'numpy.fft', 'numpy.fft._pocketfft', 'numpy.fft._pocketfft_internal', 'numpy.fft.helper', 'numpy.polynomial', 'numpy.polynomial.polynomial', 'numpy.polynomial.polyutils', 'numpy.polynomial._polybase', 'numpy.polynomial.chebyshev', 'numpy.polynomial.legendre', 'numpy.polynomial.hermite', 'numpy.polynomial.hermite_e', 'numpy.polynomial.laguerre', 'numpy.random', 'numpy.random._pickle', 'numpy.random.mtrand', 'numpy.random.bit_generator', '_cython_0_29_24', 'numpy.random._common', 'secrets', 'numpy.random._bounded_integers', 'numpy.random._mt19937', 'numpy.random._philox', 'numpy.random._pcg64', 'numpy.random._sfc64', 'numpy.random._generator', 'numpy.ctypeslib', 'numpy.ma', 'numpy.ma.core', 'numpy.ma.extras', 'torch.random', 'torch.serialization', 'tarfile', 'torch._sources', 'torch._tensor_str', 'torch.amp', 'torch.amp.autocast_mode', 'torch.cuda', 'torch.cuda._utils', 'torch.cuda.graphs', 'torch.cuda.streams', 'torch.cuda.memory', 'torch.cuda.random', 'torch.cuda.sparse', 'torch.cuda.profiler', 'torch.cuda.nvtx', 'torch.cuda.amp', 'torch.cuda.amp.autocast_mode', 'torch.cuda.amp.grad_scaler', 'torch.cuda.amp.common', 'torch.cuda.jiterator', 'torch.sparse', 'torch.functional', 'torch.nn', 'torch.nn.modules', 'torch.nn.modules.module', 'torch.nn.parameter', 'torch.nn.modules.linear', 'torch.nn.functional', 'torch._VF', 'torch._torch_docs', 'torch._jit_internal', 'torch.distributed', 'torch._C._distributed_c10d', 'torch.distributed.distributed_c10d', 'torch.distributed.constants', 'torch.distributed.rendezvous', 'torch.distributed.remote_device', 'torch.distributed.rpc', 'torch._C._distributed_rpc', 'torch.distributed.rpc.api', 'torch.futures', 'torch.distributed.rpc.internal', 'torch.distributed.rpc.constants', 'torch.distributed.rpc._utils', 'torch.distributed.rpc.backend_registry', 'torch.distributed.rpc.functions', 'torch.distributed.autograd', 'torch._C._distributed_autograd', 'torch.distributed.rpc.options', 'torch.distributed.rpc.server_process_global_profiler', 'torch.autograd', 'torch.autograd.variable', 'torch.autograd.function', 'torch.autograd.gradcheck', 'torch.testing', 'torch.testing._comparison', 'cmath', 'torch.testing._creation', 'torch.testing._deprecated', 'torch.testing._legacy', 'torch._vmap_internals', 'torch.utils._pytree', 'torch.autograd.grad_mode', 'torch.autograd.anomaly_mode', 'torch.autograd.functional', 'torch.autograd.forward_ad', 'torch.autograd.graph', 'torch._C._autograd', 'torch.autograd.profiler', 'torch.autograd.profiler_util', 'torch.autograd.profiler_legacy', 'torch.package', 'torch.package.analyze', 'torch.package.analyze.find_first_use_of_broken_modules', 'torch.package.package_exporter', 'pickletools', 'torch.package._digraph', 'torch.package._importlib', 'torch.package._mangling', 'torch.package._package_pickler', 'torch.package.importer', 'torch.package._stdlib', 'torch.package.find_file_dependencies', 'torch.package.glob_group', 'torch.package.analyze.trace_dependencies', 'torch.package.analyze.is_from_package', 'torch.package.file_structure_representation', 'torch.package.package_importer', 'torch.package._directory_reader', 'torch.package._package_unpickler', 'typing_extensions', 'torch.nn._reduction', 'torch.nn.grad', 'torch.nn.modules.utils', 'torch.nn.init', 'torch.nn.modules.lazy', 'torch.nn.modules.conv', 'torch.nn.common_types', 'torch.nn.modules.activation', 'torch.nn.modules.loss', 'torch.nn.modules.distance', 'torch.nn.modules.container', 'torch.nn.modules.pooling', 'torch.nn.modules.batchnorm', 'torch.nn.modules._functions', 'torch.nn.modules.instancenorm', 'torch.nn.modules.normalization', 'torch.nn.modules.dropout', 'torch.nn.modules.padding', 'torch.nn.modules.sparse', 'torch.nn.modules.rnn', 'torch.nn.utils', 'torch.nn.utils.rnn', 'torch.nn.utils.clip_grad', 'torch.nn.utils.weight_norm', 'torch.nn.utils.convert_parameters', 'torch.nn.utils.spectral_norm', 'torch.nn.utils.fusion', 'torch.nn.utils.memory_format', 'torch.nn.utils.parametrizations', 'torch.nn.utils.parametrize', 'torch.nn.utils.init', 'torch.nn.utils.stateless', 'torch.nn.modules.pixelshuffle', 'torch.nn.modules.upsampling', 'torch.nn.modules.fold', 'torch.nn.modules.adaptive', 'torch.nn.modules.transformer', 'torch.nn.modules.flatten', 'torch.nn.modules.channelshuffle', 'torch.nn.parallel', 'torch.nn.parallel.parallel_apply', 'torch.nn.parallel.replicate', 'torch.nn.parallel.comm', 'torch.cuda.nccl', 'torch.nn.parallel.data_parallel', 'torch.nn.parallel.scatter_gather', 'torch.nn.parallel._functions', 'torch.nn.parallel.distributed', 'torch.distributed.algorithms', 'torch.distributed.algorithms.join', 'torch.distributed.utils', 'torch.nn.parallel._replicated_tensor_ddp_utils', 'torch._lowrank', 'torch._linalg_utils', 'torch.cpu', 'torch.cpu.amp', 'torch.cpu.amp.autocast_mode', 'torch.fft', 'torch.optim', 'torch.optim.adadelta', 'torch.optim.optimizer', 'torch.optim.adagrad', 'torch.optim.adam', 'torch.optim.adamw', 'torch.optim.sparse_adam', 'torch.optim._functional', 'torch.optim.adamax', 'torch.optim.asgd', 'torch.optim.nadam', 'torch.optim.radam', 'torch.optim.rmsprop', 'torch.optim.rprop', 'torch.optim.sgd', 'torch.optim.lbfgs', 'torch.optim.lr_scheduler', 'torch.optim.swa_utils', 'torch.optim._multi_tensor', 'torch.multiprocessing', 'torch.multiprocessing.reductions', 'multiprocessing', 'multiprocessing.context', 'multiprocessing.process', 'multiprocessing.reduction', '__mp_main__', 'multiprocessing.util', 'multiprocessing.resource_sharer', 'torch.multiprocessing.spawn', 'multiprocessing.connection', '_multiprocessing', 'torch.special', 'torch.utils.backcompat', 'torch.onnx', 'torch.jit', 'torch.jit._script', 'torch.jit._recursive', 'torch.jit.frontend', 'torch.jit._monkeytype_config', 'torch.jit.annotations', 'torch.jit._state', 'torch._ops', 'astunparse', 'astunparse.unparser', 'astunparse.printer', 'torch.jit._builtins', 'torch.backends', 'torch.backends.cudnn', 'torch.jit._check', 'torch.jit._fuser', 'torch.jit._serialization', 'torch._classes', 'torch.jit._trace', 'torch.jit._async', 'torch.jit._decomposition_utils', 'torch.jit._freeze', 'torch.jit._ir_utils', 'torch.linalg', 'torch.hub', 'zipfile', 'tqdm', 'tqdm._tqdm', 'tqdm._utils', 'tqdm._monitor', 'tqdm._tqdm_gui', 'tqdm._tqdm_pandas', 'tqdm._main', 'tqdm._version', 'tqdm.auto', 'tqdm.autonotebook', 'tqdm._tqdm_notebook', 'torch.distributions', 'torch.distributions.bernoulli', 'torch.distributions.constraints', 'torch.distributions.exp_family', 'torch.distributions.distribution', 'torch.distributions.utils', 'torch.distributions.beta', 'torch.distributions.dirichlet', 'torch.distributions.binomial', 'torch.distributions.categorical', 'torch.distributions.cauchy', 'torch.distributions.chi2', 'torch.distributions.gamma', 'torch.distributions.constraint_registry', 'torch.distributions.transforms', 'torch.distributions.continuous_bernoulli', 'torch.distributions.exponential', 'torch.distributions.fishersnedecor', 'torch.distributions.geometric', 'torch.distributions.gumbel', 'torch.distributions.uniform', 'torch.distributions.transformed_distribution', 'torch.distributions.independent', 'torch.distributions.half_cauchy', 'torch.distributions.half_normal', 'torch.distributions.normal', 'torch.distributions.kl', 'torch.distributions.laplace', 'torch.distributions.lowrank_multivariate_normal', 'torch.distributions.multivariate_normal', 'torch.distributions.one_hot_categorical', 'torch.distributions.pareto', 'torch.distributions.poisson', 'torch.distributions.kumaraswamy', 'torch.distributions.lkj_cholesky', 'torch.distributions.log_normal', 'torch.distributions.logistic_normal', 'torch.distributions.mixture_same_family', 'torch.distributions.multinomial', 'torch.distributions.negative_binomial', 'torch.distributions.relaxed_bernoulli', 'torch.distributions.relaxed_categorical', 'torch.distributions.studentT', 'torch.distributions.von_mises', 'torch.distributions.weibull', 'torch.distributions.wishart', 'torch.backends.cuda', 'torch.backends.mps', 'torch.backends.mkl', 'torch.backends.mkldnn', 'torch.backends.openmp', 'torch.backends.quantized', 'torch.utils.data', 'torch.utils.data.sampler', 'torch.utils.data.dataset', 'torch.utils.data.datapipes', 'torch.utils.data.datapipes.iter', 'torch.utils.data.datapipes.iter.utils', 'torch.utils.data.datapipes.datapipe', 'torch.utils.data.datapipes._typing', 'torch.utils.data.datapipes.utils', 'torch.utils.data.datapipes.utils.common', 'torch.utils.data._utils', 'torch.utils.data._utils.worker', 'torch.utils.data._utils.signal_handling', 'torch.utils.data._utils.pin_memory', 'torch.utils.data._utils.collate', 'torch.utils.data._utils.fetch', 'torch.utils.data._utils.serialization', 'torch.utils.data.datapipes.iter.callable', 'torch.utils.data.datapipes._decorator', 'torch.utils.data.datapipes.iter.combinatorics', 'torch.utils.data.datapipes.iter.combining', 'torch.utils.data.datapipes.iter.filelister', 'torch.utils.data.datapipes.iter.fileopener', 'torch.utils.data.datapipes.iter.grouping', 'torch.utils.data.datapipes.iter.routeddecoder', 'torch.utils.data.datapipes.utils.decoder', 'torch.utils.data.datapipes.iter.selecting', 'torch.utils.data.datapipes.dataframe', 'torch.utils.data.datapipes.dataframe.dataframes', 'torch.utils.data.datapipes.dataframe.structures', 'torch.utils.data.datapipes.dataframe.datapipes', 'torch.utils.data.datapipes.dataframe.dataframe_wrapper', 'torch.utils.data.datapipes.iter.streamreader', 'torch.utils.data.datapipes.map', 'torch.utils.data.datapipes.map.callable', 'torch.utils.data.datapipes.map.combinatorics', 'torch.utils.data.datapipes.map.combining', 'torch.utils.data.datapipes.map.grouping', 'torch.utils.data.datapipes.map.utils', 'torch.utils.data.dataloader', 'torch.utils.data.graph_settings', 'torch.utils.data.graph', 'torch.utils.data.distributed', 'torch.utils.data.dataloader_experimental', 'torch.utils.data.backward_compatibility', 'torch.utils.data.communication', 'torch.utils.data.communication.eventloop', 'torch.utils.data.communication.iter', 'torch.utils.data.communication.map', 'torch.utils.data.communication.messages', 'torch.utils.data.communication.protocol', 'torch.utils.data.communication.queue', 'torch.__config__', 'torch.__future__', 'torch.profiler', 'torch.profiler.profiler', 'gzip', 'torch.nn.intrinsic', 'torch.nn.intrinsic.modules', 'torch.nn.intrinsic.modules.fused', 'torch.nn.quantizable', 'torch.nn.quantizable.modules', 'torch.nn.quantizable.modules.activation', 'torch.nn.quantized', 'torch.nn.quantized.modules', 'torch.nn.quantized.modules.activation', 'torch.nn.quantized.functional', 'torch.nn.quantized.modules.utils', 'torch.nn.quantized.modules.dropout', 'torch.nn.quantized.modules.batchnorm', 'torch.nn.quantized.modules.normalization', 'torch.nn.quantized.modules.conv', 'torch.nn.intrinsic.qat', 'torch.nn.intrinsic.qat.modules', 'torch.nn.intrinsic.qat.modules.linear_relu', 'torch.nn.qat', 'torch.nn.qat.modules', 'torch.nn.qat.modules.linear', 'torch.nn.qat.modules.conv', 'torch.nn.qat.modules.embedding_ops', 'torch.nn.intrinsic.qat.modules.linear_fused', 'torch.nn.intrinsic.qat.modules.conv_fused', 'torch.nn.quantized.modules.linear', 'torch.nn.quantized.modules.embedding_ops', 'torch.nn.quantized.modules.functional_modules', 'torch.nn.quantizable.modules.rnn', 'torch.ao', 'torch._tensor_docs', 'torch._storage_docs', 'torch.quantization', 'torch.quantization.quantize', 'torch.ao.quantization', 'torch.ao.quantization.fake_quantize', 'torch.ao.quantization.observer', 'torch.ao.quantization.utils', 'torch.ao.quantization.quant_type', 'torch.ao.quantization.fuse_modules', 'torch.ao.quantization.fuser_method_mappings', 'torch.ao.quantization.qconfig', 'torch.ao.quantization.quantization_mappings', 'torch.nn.intrinsic.quantized', 'torch.nn.intrinsic.quantized.modules', 'torch.nn.intrinsic.quantized.modules.linear_relu', 'torch.nn.intrinsic.quantized.modules.conv_relu', 'torch.nn.intrinsic.quantized.modules.bn_relu', 'torch.nn.intrinsic.quantized.dynamic', 'torch.nn.intrinsic.quantized.dynamic.modules', 'torch.nn.intrinsic.quantized.dynamic.modules.linear_relu', 'torch.nn.quantized.dynamic', 'torch.nn.quantized.dynamic.modules', 'torch.nn.quantized.dynamic.modules.linear', 'torch.nn.quantized.dynamic.modules.rnn', 'torch.nn.quantized.dynamic.modules.conv', 'torch.nn.quantized._reference', 'torch.nn.quantized._reference.modules', 'torch.nn.quantized._reference.modules.linear', 'torch.nn.quantized._reference.modules.utils', 'torch.nn.quantized._reference.modules.conv', 'torch.nn.quantized._reference.modules.rnn', 'torch.nn.quantized._reference.modules.sparse', 'torch.nn.qat.dynamic', 'torch.nn.qat.dynamic.modules', 'torch.nn.qat.dynamic.modules.linear', 'torch.ao.nn', 'torch.ao.nn.sparse', 'torch.ao.nn.sparse.quantized', 'torch.ao.nn.sparse.quantized.dynamic', 'torch.ao.nn.sparse.quantized.dynamic.linear', 'torch.ao.nn.sparse.quantized.linear', 'torch.ao.nn.sparse.quantized.utils', 'torch.ao.quantization.stubs', 'torch.ao.quantization.quantize', 'torch.ao.quantization.quantize_jit', 'torch.quantization.observer', 'torch.quantization.qconfig', 'torch.quantization.fake_quantize', 'torch.quantization.fuse_modules', 'torch.quantization.fuser_method_mappings', 'torch.quantization.stubs', 'torch.quantization.quant_type', 'torch.quantization.quantize_jit', 'torch.quantization.quantization_mappings', 'torch.quasirandom', 'torch.multiprocessing._atfork', 'torch._lobpcg', 'torch.utils.dlpack', 'torch._masked', 'torch._masked._docs', 'torch.return_types', 'torch.library', 'torch._meta_registrations', 'torch._prims', 'torch._prims.utils', 'sentence_transformers.readers', 'sentence_transformers.readers.InputExample', 'sentence_transformers.readers.LabelSentenceReader', 'csv', '_csv', 'sentence_transformers.readers.NLIDataReader', 'sentence_transformers.readers.STSDataReader', 'sentence_transformers.readers.TripletReader', 'nltk', 'nltk.internals', 'xml.etree', 'xml.etree.cElementTree', 'xml.etree.ElementTree', 'xml.etree.ElementPath', 'pyexpat.errors', 'pyexpat.model', 'pyexpat', '_elementtree', 'nltk.compat', 'fractions', 'text_unidecode', 'nltk.collocations', 'nltk.probability', 'nltk.util', 'six.moves.urllib', 'six.moves.urllib.request', 'nltk.collections', 'nltk.metrics', 'nltk.metrics.scores', 'scipy', 'scipy._lib', 'scipy._lib._testutils', 'scipy._lib.deprecation', 'scipy._distributor_init', 'scipy.__config__', 'scipy.version', 'scipy._lib._version', 'scipy._lib.six', 'scipy._lib._ccallback', 'scipy._lib._ccallback_c', 'scipy.fft', 'scipy.fft._basic', 'scipy._lib.uarray', 'scipy._lib._uarray', 'scipy._lib._uarray._backend', 'scipy._lib._uarray._uarray', 'scipy.fft._realtransforms', 'scipy.fft._helper', 'scipy.fft._pocketfft', 'scipy.fft._pocketfft.basic', 'scipy.fft._pocketfft.pypocketfft', 'scipy.fft._pocketfft.helper', 'scipy.fft._pocketfft.realtransforms', 'scipy.fft._backend', 'numpy.dual', 'scipy.stats', 'scipy.stats.stats', 'scipy.spatial', 'scipy.spatial.kdtree', 'scipy.sparse', 'scipy.sparse.base', 'scipy._lib._numpy_compat', 'numpy.testing', 'unittest', 'unittest.result', 'unittest.util', 'unittest.case', 'unittest.suite', 'unittest.loader', 'unittest.main', 'unittest.runner', 'unittest.signals', 'numpy.testing._private', 'numpy.testing._private.utils', 'numpy.testing._private.decorators', 'numpy.testing._private.nosetester', 'scipy.sparse.sputils', 'scipy.sparse.csr', 'scipy.sparse._sparsetools', 'scipy.sparse.compressed', 'scipy._lib._util', 'scipy.sparse.data', 'scipy.sparse.dia', 'scipy.sparse._index', 'scipy.sparse.csc', 'scipy.sparse.lil', 'scipy.sparse._csparsetools', 'scipy.sparse.dok', 'scipy.sparse.coo', 'scipy.sparse.bsr', 'scipy.sparse.construct', 'scipy.sparse.extract', 'scipy.sparse._matrix_io', 'scipy.sparse.csgraph', 'scipy.sparse.csgraph._laplacian', 'scipy.sparse.csgraph._shortest_path', '_cython_0_29_14', 'scipy.sparse.csgraph._validation', 'scipy.sparse.csgraph._tools', 'scipy.sparse.csgraph._traversal', 'scipy.sparse.csgraph._min_spanning_tree', 'scipy.sparse.csgraph._flow', 'scipy.sparse.csgraph._matching', 'scipy.sparse.csgraph._reordering', 'scipy.spatial.ckdtree', 'scipy.spatial.qhull', 'scipy._lib.messagestream', 'scipy.spatial._spherical_voronoi', 'scipy.spatial._voronoi', 'scipy.spatial._plotutils', 'scipy._lib.decorator', 'scipy.spatial._procrustes', 'scipy.linalg', 'scipy.linalg.linalg_version', 'scipy.linalg.misc', 'scipy.linalg.blas', 'scipy.linalg._fblas', 'scipy.linalg.lapack', 'scipy.linalg._flapack', 'scipy.linalg.basic', 'scipy.linalg.flinalg', 'scipy.linalg._flinalg', 'scipy.linalg.decomp', 'scipy.linalg.decomp_svd', 'scipy.linalg._solve_toeplitz', 'scipy.linalg.decomp_lu', 'scipy.linalg._decomp_ldl', 'scipy.linalg.decomp_cholesky', 'scipy.linalg.decomp_qr', 'scipy.linalg._decomp_qz', 'scipy.linalg.decomp_schur', 'scipy.linalg._decomp_polar', 'scipy.linalg.matfuncs', 'scipy.linalg.special_matrices', 'scipy.linalg._expm_frechet', 'scipy.linalg._matfuncs_sqrtm', 'scipy.linalg._solvers', 'scipy.linalg._procrustes', 'scipy.linalg._decomp_update', 'scipy.linalg.cython_blas', 'scipy.linalg.cython_lapack', 'scipy.linalg._sketches', 'scipy.spatial.distance', 'scipy.spatial._distance_wrap', 'scipy.spatial._hausdorff', 'scipy.special', 'scipy.special.sf_error', 'scipy.special._ufuncs', 'scipy.special._ufuncs_cxx', 'scipy.special._basic', 'scipy.special.specfun', 'scipy.special.orthogonal', 'scipy.special._comb', 'scipy.special._logsumexp', 'scipy.special.spfun_stats', 'scipy.special._ellip_harm', 'scipy.special._ellip_harm_2', 'scipy.special.lambertw', 'scipy.special._spherical_bessel', 'scipy.spatial.transform', 'scipy.spatial.transform.rotation', 'scipy.spatial.transform._rotation_groups', 'scipy.constants', 'scipy.constants.codata', 'scipy.constants.constants', 'scipy.spatial.transform._rotation_spline', 'scipy.ndimage', 'scipy.ndimage.filters', 'scipy.ndimage._ni_support', 'scipy.ndimage._nd_image', 'scipy.ndimage._ni_docstrings', 'scipy._lib.doccer', 'scipy.ndimage.fourier', 'scipy.ndimage.interpolation', 'scipy.ndimage.measurements', 'scipy.ndimage._ni_label', '_ni_label', 'scipy.ndimage.morphology', 'scipy.stats.distributions', 'scipy.stats._distn_infrastructure', 'scipy.stats._distr_params', 'scipy.optimize', 'scipy.optimize.optimize', 'scipy.optimize.linesearch', 'scipy.optimize.minpack2', 'scipy.optimize._minimize', 'scipy.optimize._trustregion_dogleg', 'scipy.optimize._trustregion', 'scipy.optimize._trustregion_ncg', 'scipy.optimize._trustregion_krylov', 'scipy.optimize._trlib', 'scipy.optimize._trlib._trlib', 'scipy.optimize._trustregion_exact', 'scipy.optimize._trustregion_constr', 'scipy.optimize._trustregion_constr.minimize_trustregion_constr', 'scipy.sparse.linalg', 'scipy.sparse.linalg.isolve', 'scipy.sparse.linalg.isolve.iterative', 'scipy.sparse.linalg.isolve._iterative', 'scipy.sparse.linalg.interface', 'scipy.sparse.linalg.isolve.utils', 'scipy._lib._threadsafety', 'scipy.sparse.linalg.isolve.minres', 'scipy.sparse.linalg.isolve.lgmres', 'scipy.sparse.linalg.isolve._gcrotmk', 'scipy.sparse.linalg.isolve.lsqr', 'scipy.sparse.linalg.isolve.lsmr', 'scipy.sparse.linalg.dsolve', 'scipy.sparse.linalg.dsolve.linsolve', 'scipy.sparse.linalg.dsolve._superlu', 'scipy.sparse.linalg.dsolve._add_newdocs', 'scipy.sparse.linalg.eigen', 'scipy.sparse.linalg.eigen.arpack', 'scipy.sparse.linalg.eigen.arpack.arpack', 'scipy.sparse.linalg.eigen.arpack._arpack', 'scipy.sparse.linalg.eigen.lobpcg', 'scipy.sparse.linalg.eigen.lobpcg.lobpcg', 'scipy.sparse.linalg.matfuncs', 'scipy.sparse.linalg._expm_multiply', 'scipy.sparse.linalg._onenormest', 'scipy.sparse.linalg._norm', 'scipy.optimize._differentiable_functions', 'scipy.optimize._numdiff', 'scipy.optimize._group_columns', 'scipy.optimize._hessian_update_strategy', 'scipy.optimize._constraints', 'scipy.optimize._trustregion_constr.equality_constrained_sqp', 'scipy.optimize._trustregion_constr.projections', 'scipy.optimize._trustregion_constr.qp_subproblem', 'scipy.optimize._trustregion_constr.canonical_constraint', 'scipy.optimize._trustregion_constr.tr_interior_point', 'scipy.optimize._trustregion_constr.report', 'scipy.optimize.lbfgsb', 'scipy.optimize._lbfgsb', 'scipy.optimize.tnc', 'scipy.optimize.moduleTNC', 'scipy.optimize.cobyla', 'scipy.optimize._cobyla', 'scipy.optimize.slsqp', 'scipy.optimize._slsqp', 'scipy.optimize._root', 'scipy.optimize.minpack', 'scipy.optimize._minpack', 'scipy.optimize._lsq', 'scipy.optimize._lsq.least_squares', 'scipy.optimize._lsq.trf', 'scipy.optimize._lsq.common', 'scipy.optimize._lsq.dogbox', 'scipy.optimize._lsq.lsq_linear', 'scipy.optimize._lsq.trf_linear', 'scipy.optimize._lsq.givens_elimination', 'scipy.optimize._lsq.bvls', 'scipy.optimize._spectral', 'scipy.optimize.nonlin', 'scipy.optimize._root_scalar', 'scipy.optimize.zeros', 'scipy.optimize._zeros', 'scipy.optimize.nnls', 'scipy.optimize._nnls', 'scipy.optimize._basinhopping', 'scipy.optimize._linprog', 'scipy.optimize._linprog_ip', 'scipy.optimize._linprog_util', 'scipy.optimize._remove_redundancy', 'scipy.optimize._linprog_simplex', 'scipy.optimize._linprog_rs', 'scipy.optimize._bglu_dense', 'scipy.optimize._lsap', 'scipy.optimize._lsap_module', 'scipy.optimize._differentialevolution', 'scipy.optimize._shgo', 'scipy.optimize._shgo_lib', 'scipy.optimize._shgo_lib.sobol_seq', 'scipy.optimize._shgo_lib.triangulation', 'scipy.optimize._dual_annealing', 'scipy.integrate', 'scipy.integrate.quadrature', 'scipy.integrate.odepack', 'scipy.integrate._odepack', 'scipy.integrate.quadpack', 'scipy.integrate._quadpack', 'scipy.integrate._ode', 'scipy.integrate.vode', 'scipy.integrate._dop', 'scipy.integrate.lsoda', 'scipy.integrate._bvp', 'scipy.integrate._ivp', 'scipy.integrate._ivp.ivp', 'scipy.integrate._ivp.bdf', 'scipy.integrate._ivp.common', 'scipy.integrate._ivp.base', 'scipy.integrate._ivp.radau', 'scipy.integrate._ivp.rk', 'scipy.integrate._ivp.dop853_coefficients', 'scipy.integrate._ivp.lsoda', 'scipy.integrate._quad_vec', 'scipy.misc', 'scipy.misc.doccer', 'scipy.misc.common', 'scipy.stats._constants', 'scipy.stats._continuous_distns', 'scipy.interpolate', 'scipy.interpolate.interpolate', 'scipy.interpolate.fitpack', 'scipy.interpolate._fitpack_impl', 'scipy.interpolate._fitpack', 'scipy.interpolate.dfitpack', 'scipy.interpolate._bsplines', 'scipy.interpolate._bspl', 'scipy.interpolate.polyint', 'scipy.interpolate._ppoly', 'scipy.interpolate.fitpack2', 'scipy.interpolate.interpnd', 'scipy.interpolate.rbf', 'scipy.interpolate._cubic', 'scipy.interpolate.ndgriddata', 'scipy.interpolate._pade', 'scipy.stats._stats', 'scipy.stats._tukeylambda_stats', 'scipy.stats._discrete_distns', 'scipy.stats.mstats_basic', 'scipy.stats._stats_mstats_common', 'scipy.stats._rvs_sampling', 'scipy.stats._hypotests', 'scipy.stats.morestats', 'scipy.stats.statlib', 'scipy.stats.contingency', 'scipy.stats._binned_statistic', 'scipy.stats.kde', 'scipy.stats.mvn', 'scipy.stats.mstats', 'scipy.stats.mstats_extras', 'scipy.stats._multivariate', 'nltk.metrics.confusionmatrix', 'nltk.metrics.distance', 'nltk.metrics.paice', 'nltk.metrics.segmentation', 'nltk.metrics.agreement', 'nltk.metrics.association', 'nltk.metrics.spearman', 'nltk.metrics.aline', 'nltk.decorators', 'nltk.featstruct', 'nltk.sem', 'nltk.sem.util', 'nltk.sem.evaluate', 'nltk.sem.logic', 'nltk.sem.skolemize', 'nltk.sem.lfg', 'nltk.sem.relextract', 'nltk.sem.boxer', 'optparse', 'nltk.sem.drt', 'tkinter', '_tkinter', 'tkinter.constants', 'six.moves.tkinter', 'tkinter.font', 'six.moves.tkinter_font', 'nltk.grammar', 'nltk.text', 'nltk.tree', 'nltk.jsontags', 'nltk.chunk', 'nltk.data', 'nltk.chunk.api', 'nltk.parse', 'nltk.parse.api', 'nltk.parse.chart', 'nltk.parse.featurechart', 'nltk.parse.earleychart', 'nltk.parse.pchart', 'nltk.parse.recursivedescent', 'nltk.parse.shiftreduce', 'nltk.parse.util', 'nltk.parse.viterbi', 'nltk.parse.dependencygraph', 'nltk.parse.projectivedependencyparser', 'nltk.parse.nonprojectivedependencyparser', 'nltk.parse.malt', 'nltk.parse.evaluate', 'nltk.parse.transitionparser', 'sklearn', 'sklearn._config', 'sklearn.__check_build', 'sklearn.__check_build._check_build', 'sklearn.base', 'sklearn.externals', 'sklearn.externals.six', 'sklearn.externals.six.moves', 'sklearn.externals.six.moves.urllib_parse', 'sklearn.externals.six.moves.urllib.parse', 'sklearn.externals.six.moves.urllib_error', 'sklearn.externals.six.moves.urllib.error', 'sklearn.externals.six.moves.urllib_request', 'sklearn.externals.six.moves.urllib.request', 'sklearn.externals.six.moves.urllib_response', 'sklearn.externals.six.moves.urllib.response', 'sklearn.externals.six.moves.urllib_robotparser', 'sklearn.externals.six.moves.urllib.robotparser', 'sklearn.externals.six.moves.urllib', 'sklearn.utils', 'sklearn.utils.murmurhash', 'sklearn.utils.class_weight', 'sklearn.utils._joblib', 'sklearn.externals.joblib', 'sklearn.externals.joblib.memory', 'sklearn.externals.joblib.hashing', 'sklearn.externals.joblib._compat', 'sklearn.externals.joblib.func_inspect', 'sklearn.externals.joblib.logger', 'sklearn.externals.joblib.disk', 'sklearn.externals.joblib._memory_helpers', 'sklearn.externals.joblib._store_backends', 'sklearn.externals.joblib.backports', 'distutils', 'distutils.version', 'sklearn.externals.joblib.numpy_pickle', 'sklearn.externals.joblib.compressor', 'sklearn.externals.joblib.numpy_pickle_utils', 'sklearn.externals.joblib.numpy_pickle_compat', 'sklearn.externals.joblib.parallel', 'sklearn.externals.joblib._multiprocessing_helpers', 'multiprocessing.synchronize', 'multiprocessing.semaphore_tracker', 'multiprocessing.spawn', 'sklearn.externals.joblib.format_stack', 'sklearn.externals.joblib.my_exceptions', 'sklearn.externals.joblib._parallel_backends', 'sklearn.externals.joblib.pool', 'sklearn.externals.joblib._memmapping_reducer', 'mmap', 'multiprocessing.pool', 'sklearn.externals.joblib.executor', 'sklearn.externals.joblib.externals', 'sklearn.externals.joblib.externals.loky', 'sklearn.externals.joblib.externals.loky._base', 'sklearn.externals.joblib.externals.loky.backend', 'sklearn.externals.joblib.externals.loky.backend.context', 'sklearn.externals.joblib.externals.loky.backend.process', 'sklearn.externals.joblib.externals.loky.backend.compat', 'sklearn.externals.joblib.externals.loky.backend.compat_posix', 'sklearn.externals.joblib.externals.loky.backend.reduction', 'sklearn.externals.joblib.externals.loky.backend._posix_reduction', 'sklearn.externals.joblib.externals.cloudpickle', 'sklearn.externals.joblib.externals.cloudpickle.cloudpickle', 'sklearn.externals.joblib.externals.loky.reusable_executor', 'sklearn.externals.joblib.externals.loky.process_executor', 'sklearn.externals.joblib.externals.loky.backend.queues', 'multiprocessing.queues', 'sklearn.externals.joblib.externals.loky.backend.utils', 'psutil', 'psutil._common', 'psutil._compat', 'psutil._pslinux', 'psutil._psposix', 'psutil._psutil_linux', 'psutil._psutil_posix', 'concurrent.futures.process', 'sklearn.externals.joblib.externals.loky.cloudpickle_wrapper', 'sklearn.exceptions', 'sklearn.utils.fixes', 'sklearn.utils.deprecation', 'sklearn.utils.validation', 'sklearn.utils._show_versions', 'sklearn.datasets', 'sklearn.datasets.base', 'sklearn.datasets.covtype', 'sklearn.datasets.kddcup99', 'sklearn.datasets.mlcomp', 'sklearn.datasets.lfw', 'sklearn.datasets.twenty_newsgroups', 'sklearn.feature_extraction', 'sklearn.feature_extraction.dict_vectorizer', 'sklearn.feature_extraction.hashing', 'sklearn.feature_extraction._hashing', 'sklearn.feature_extraction.image', 'sklearn.feature_extraction.text', 'sklearn.preprocessing', 'sklearn.preprocessing._function_transformer', 'sklearn.utils.testing', 'scipy.io', 'scipy.io.matlab', 'scipy.io.matlab.mio', 'scipy.io.matlab.miobase', 'scipy.io.matlab.byteordercodes', 'scipy.io.matlab.mio4', 'scipy.io.matlab.mio_utils', 'scipy.io.matlab.mio5', 'scipy.io.matlab.mio5_utils', 'scipy.io.matlab.streams', 'scipy.io.matlab.mio5_params', 'scipy.io.netcdf', 'scipy.io._fortran', 'scipy.io.mmio', 'scipy.io.idl', 'scipy.io.harwell_boeing', 'scipy.io.harwell_boeing.hb', 'scipy.io.harwell_boeing._fortran_format_parser', 'sklearn.utils._unittest_backport', 'nose', 'nose.core', 'nose.config', 'configparser', 'nose.util', 'nose.pyversion', 'nose.plugins', 'nose.plugins.base', 'nose.plugins.manager', 'nose.failure', 'pkg_resources', 'plistlib', 'xml.parsers', 'xml.parsers.expat', 'xml.parsers.expat.model', 'xml.parsers.expat.errors', 'pkg_resources.extern', 'pkg_resources._vendor', 'pkg_resources.extern.six', 'pkg_resources._vendor.six', 'pkg_resources.extern.six.moves', 'pkg_resources._vendor.six.moves', 'pkg_resources.py31compat', 'pkg_resources.extern.appdirs', 'pkg_resources._vendor.packaging.__about__', 'pkg_resources.extern.packaging', 'pkg_resources.extern.packaging.version', 'pkg_resources.extern.packaging._structures', 'pkg_resources.extern.packaging.specifiers', 'pkg_resources.extern.packaging._compat', 'pkg_resources.extern.packaging.requirements', 'pkg_resources.extern.pyparsing', 'pkg_resources.extern.six.moves.urllib', 'pkg_resources.extern.packaging.markers', 'sysconfig', 'nose.plugins.plugintest', 'nose.loader', 'nose.case', 'nose.importer', 'nose.selector', 'nose.suite', 'nose.proxy', 'nose.result', 'nose.exc', 'nose.plugins.skip', 'nose.plugins.errorclass', 'nose.plugins.deprecated', 'nose.tools', 'nose.tools.nontrivial', 'nose.tools.trivial', 'pytest', '_pytest', '_pytest._version', '_pytest.assertion', '_pytest.assertion.rewrite', 'atomicwrites', 'py', 'py._error', 'py.error', 'py._vendored_packages', 'py._vendored_packages.apipkg', 'py._version', 'py.test', 'py.process', 'py.apipkg', 'py.iniconfig', 'py.path', 'py.code', 'py.builtin', 'py.io', 'py.xml', 'py.log', '_pytest._io', '_pytest._io.saferepr', '_pytest.assertion.util', '_pytest._code', '_pytest._code.code', 'attr', 'attr.converters', 'attr._make', 'attr._config', 'attr._compat', 'attr.exceptions', 'attr.filters', 'attr.validators', 'attr._funcs', 'pluggy', 'pluggy._version', 'pluggy.manager', 'pluggy._tracing', 'pluggy.callers', 'pluggy.hooks', '_pytest.compat', '_pytest.outcomes', 'py._path', 'py._path.local', 'py._path.common', '_pytest._code.source', '_pytest.pathlib', '_pytest.assertion.truncate', '_pytest.config', '_pytest.hookspec', '_pytest.deprecated', '_pytest.warning_types', '_pytest.config.exceptions', '_pytest.config.findpaths', '_pytest.debugging', 'doctest', '_pytest.fixtures', '_pytest.nodes', '_pytest.mark', '_pytest.mark.legacy', '_pytest.mark.structures', '_pytest.freeze_support', '_pytest.main', '_pytest.runner', '_pytest.reports', '_pytest.python', '_pytest.python_api', 'more_itertools', 'more_itertools.more', 'more_itertools.recipes', '_pytest.recwarn', 'sklearn.preprocessing.data', 'sklearn.utils.extmath', 'sklearn.utils._logistic_sigmoid', '_cython_0_28_4', 'sklearn.utils.sparsefuncs_fast', 'sklearn.utils.sparsefuncs', 'sklearn.preprocessing._encoders', 'sklearn.preprocessing.base', 'sklearn.preprocessing.label', 'sklearn.utils.multiclass', 'sklearn.preprocessing._discretization', 'sklearn.preprocessing.imputation', 'sklearn.feature_extraction.stop_words', 'sklearn.datasets.mldata', 'sklearn.datasets.openml', 'sklearn.externals._arff', 'sklearn.datasets.samples_generator', 'sklearn.utils.random', 'sklearn.utils._random', 'sklearn.datasets.svmlight_format', 'sklearn.datasets._svmlight_format', 'sklearn.datasets.olivetti_faces', 'sklearn.datasets.species_distributions', 'sklearn.datasets.california_housing', 'sklearn.datasets.rcv1', 'sklearn.svm', 'sklearn.svm.classes', 'sklearn.svm.base', 'sklearn.svm.libsvm', 'sklearn.svm.liblinear', 'sklearn.svm.libsvm_sparse', 'sklearn.linear_model', 'sklearn.linear_model.base', 'sklearn.utils.seq_dataset', 'sklearn.linear_model.bayes', 'sklearn.linear_model.least_angle', 'sklearn.utils.arrayfuncs', 'sklearn.model_selection', 'sklearn.model_selection._split', 'sklearn.model_selection._validation', 'sklearn.utils.metaestimators', 'sklearn.metrics', 'sklearn.metrics.ranking', 'sklearn.metrics.base', 'sklearn.metrics.classification', 'sklearn.metrics.cluster', 'sklearn.metrics.cluster.supervised', 'sklearn.metrics.cluster.expected_mutual_info_fast', 'sklearn.utils.lgamma', 'sklearn.metrics.cluster.unsupervised', 'sklearn.metrics.pairwise', 'sklearn.metrics.pairwise_fast', 'sklearn.metrics.cluster.bicluster', 'sklearn.utils.linear_assignment_', 'sklearn.metrics.regression', 'sklearn.metrics.scorer', 'sklearn.model_selection._search', 'sklearn.linear_model.coordinate_descent', 'sklearn.linear_model.cd_fast', 'sklearn.linear_model.huber', 'sklearn.linear_model.sgd_fast', 'sklearn.utils.weight_vector', 'sklearn.linear_model.stochastic_gradient', 'sklearn.linear_model.ridge', 'sklearn.linear_model.sag', 'sklearn.linear_model.sag_fast', 'sklearn.linear_model.logistic', 'sklearn.utils.optimize', 'sklearn.linear_model.omp', 'sklearn.linear_model.passive_aggressive', 'sklearn.linear_model.perceptron', 'sklearn.linear_model.randomized_l1', 'sklearn.feature_selection', 'sklearn.feature_selection.univariate_selection', 'sklearn.feature_selection.base', 'sklearn.feature_selection.variance_threshold', 'sklearn.feature_selection.rfe', 'sklearn.feature_selection.from_model', 'sklearn.feature_selection.mutual_info_', 'sklearn.neighbors', 'sklearn.neighbors.ball_tree', 'sklearn.neighbors.dist_metrics', 'sklearn.neighbors.typedefs', 'sklearn.neighbors.kd_tree', 'sklearn.neighbors.graph', 'sklearn.neighbors.base', 'sklearn.neighbors.unsupervised', 'sklearn.neighbors.classification', 'sklearn.neighbors.regression', 'sklearn.neighbors.nearest_centroid', 'sklearn.neighbors.kde', 'sklearn.neighbors.approximate', 'sklearn.random_projection', 'sklearn.neighbors.lof', 'sklearn.linear_model.ransac', 'sklearn.linear_model.theil_sen', 'sklearn.svm.bounds', 'nltk.parse.bllip', 'nltk.parse.corenlp', 'nltk.tag', 'nltk.tag.api', 'nltk.tag.util', 'nltk.tag.sequential', 'nltk.classify', 'nltk.classify.api', 'nltk.classify.megam', 'nltk.classify.weka', 'nltk.classify.naivebayes', 'nltk.classify.positivenaivebayes', 'nltk.classify.decisiontree', 'nltk.classify.rte_classify', 'nltk.tokenize', 'nltk.tokenize.casual', 'nltk.tokenize.mwe', 'nltk.tokenize.api', 'nltk.tokenize.util', 'xml.sax', 'xml.sax.xmlreader', 'xml.sax.handler', 'xml.sax._exceptions', 'xml.sax.saxutils', 'nltk.tokenize.punkt', 'nltk.tokenize.regexp', 'nltk.tokenize.repp', 'nltk.tokenize.sexpr', 'nltk.tokenize.simple', 'nltk.tokenize.texttiling', 'nltk.tokenize.toktok', 'nltk.tokenize.treebank', 'nltk.tokenize.stanford_segmenter', 'nltk.classify.util', 'nltk.classify.maxent', 'nltk.classify.tadm', 'nltk.classify.scikitlearn', 'nltk.classify.senna', 'nltk.classify.textcat', 'regex', 'regex.regex', 'regex._regex_core', 'regex._regex', 'nltk.tag.brill', 'nltk.tbl', 'nltk.tbl.template', 'nltk.tbl.feature', 'nltk.tbl.rule', 'nltk.tbl.erroranalysis', 'nltk.tag.brill_trainer', 'nltk.tag.tnt', 'nltk.tag.hunpos', 'nltk.tag.stanford', 'nltk.tag.hmm', 'nltk.tag.senna', 'nltk.tag.mapping', 'nltk.tag.crf', 'nltk.tag.perceptron', 'nltk.chunk.util', 'nltk.chunk.regexp', 'nltk.inference', 'nltk.inference.api', 'nltk.inference.mace', 'nltk.inference.prover9', 'nltk.inference.resolution', 'nltk.inference.tableau', 'nltk.inference.discourse', 'nltk.sem.glue', 'nltk.sem.linearlogic', 'nltk.translate', 'nltk.translate.api', 'nltk.translate.ibm_model', 'nltk.translate.ibm1', 'nltk.translate.ibm2', 'nltk.translate.ibm3', 'nltk.translate.ibm4', 'nltk.translate.ibm5', 'nltk.translate.bleu_score', 'nltk.translate.ribes_score', 'nltk.translate.metrics', 'nltk.translate.stack_decoder', 'nltk.stem', 'nltk.stem.api', 'nltk.stem.regexp', 'nltk.stem.lancaster', 'nltk.stem.isri', 'nltk.stem.porter', 'nltk.stem.snowball', 'nltk.corpus', 'nltk.corpus.util', 'nltk.corpus.reader', 'nltk.corpus.reader.plaintext', 'nltk.corpus.reader.util', 'nltk.corpus.reader.api', 'nltk.corpus.reader.tagged', 'nltk.corpus.reader.timit', 'nltk.corpus.reader.cmudict', 'nltk.corpus.reader.conll', 'nltk.corpus.reader.chunked', 'nltk.corpus.reader.bracket_parse', 'nltk.corpus.reader.wordlist', 'nltk.corpus.reader.xmldocs', 'nltk.corpus.reader.ppattach', 'nltk.corpus.reader.senseval', 'nltk.corpus.reader.ieer', 'nltk.corpus.reader.sinica_treebank', 'nltk.corpus.reader.indian', 'nltk.corpus.reader.toolbox', 'nltk.toolbox', 'nltk.corpus.reader.ycoe', 'nltk.corpus.reader.rte', 'nltk.corpus.reader.string_category', 'nltk.corpus.reader.propbank', 'nltk.corpus.reader.verbnet', 'nltk.corpus.reader.bnc', 'nltk.corpus.reader.nps_chat', 'nltk.corpus.reader.wordnet', 'nltk.corpus.reader.switchboard', 'nltk.corpus.reader.dependency', 'nltk.corpus.reader.nombank', 'nltk.corpus.reader.ipipan', 'nltk.corpus.reader.pl196x', 'nltk.corpus.reader.knbc', 'nltk.corpus.reader.chasen', 'nltk.corpus.reader.childes', 'nltk.corpus.reader.aligned', 'nltk.corpus.reader.lin', 'nltk.corpus.reader.semcor', 'nltk.corpus.reader.framenet', 'nltk.corpus.reader.udhr', 'nltk.corpus.reader.sentiwordnet', 'nltk.corpus.reader.twitter', 'nltk.corpus.reader.nkjp', 'nltk.corpus.reader.crubadan', 'nltk.corpus.reader.mte', 'nltk.corpus.reader.reviews', 'nltk.corpus.reader.opinion_lexicon', 'nltk.corpus.reader.pros_cons', 'nltk.corpus.reader.categorized_sents', 'nltk.corpus.reader.comparative_sents', 'nltk.corpus.reader.panlex_lite', 'nltk.stem.util', 'nltk.stem.wordnet', 'nltk.stem.rslp', 'nltk.stem.cistem', 'nltk.lazyimport', 'nltk.cluster', 'nltk.cluster.util', 'nltk.cluster.api', 'nltk.cluster.kmeans', 'nltk.cluster.gaac', 'nltk.cluster.em', 'nltk.downloader', 'tkinter.messagebox', 'tkinter.commondialog', 'six.moves.tkinter_messagebox', 'nltk.draw', 'nltk.draw.cfg', 'nltk.draw.tree', 'nltk.draw.util', 'tkinter.filedialog', 'tkinter.dialog', 'six.moves.tkinter_tkfiledialog', 'nltk.draw.table', 'nltk.draw.dispersion', 'six.moves.urllib.error', 'nltk.ccg', 'nltk.ccg.combinator', 'nltk.ccg.api', 'nltk.ccg.chart', 'nltk.ccg.lexicon', 'nltk.ccg.logic', 'nltk.help', 'nltk.misc', 'nltk.misc.chomsky', 'nltk.misc.wordfinder', 'nltk.misc.minimalset', 'nltk.misc.babelfish', 'nltk.wsd', 'nltk.treetransforms', 'sentence_transformers.datasets.NoDuplicatesDataLoader', 'sentence_transformers.datasets.ParallelSentencesDataset', 'sentence_transformers.SentenceTransformer', 'requests', 'urllib3', 'urllib3.connectionpool', 'urllib3.exceptions', 'urllib3.packages', 'urllib3.packages.ssl_match_hostname', 'urllib3.packages.six', 'urllib3.packages.six.moves', 'urllib3.packages.six.moves.http_client', 'urllib3.connection', 'urllib3.util', 'urllib3.util.connection', 'urllib3.util.wait', 'urllib3.contrib', 'urllib3.contrib._appengine_environ', 'urllib3.util.request', 'urllib3.util.response', 'urllib3.util.ssl_', 'urllib3.util.timeout', 'urllib3.util.retry', 'urllib3.util.url', 'urllib3._collections', 'urllib3.request', 'urllib3.filepost', 'urllib3.fields', 'urllib3.packages.six.moves.urllib', 'urllib3.packages.six.moves.urllib.parse', 'urllib3.response', 'urllib3.util.queue', 'urllib3.poolmanager', 'chardet', 'chardet.compat', 'chardet.universaldetector', 'chardet.charsetgroupprober', 'chardet.enums', 'chardet.charsetprober', 'chardet.escprober', 'chardet.codingstatemachine', 'chardet.escsm', 'chardet.latin1prober', 'chardet.mbcsgroupprober', 'chardet.utf8prober', 'chardet.mbcssm', 'chardet.sjisprober', 'chardet.mbcharsetprober', 'chardet.chardistribution', 'chardet.euctwfreq', 'chardet.euckrfreq', 'chardet.gb2312freq', 'chardet.big5freq', 'chardet.jisfreq', 'chardet.jpcntx', 'chardet.eucjpprober', 'chardet.gb2312prober', 'chardet.euckrprober', 'chardet.cp949prober', 'chardet.big5prober', 'chardet.euctwprober', 'chardet.sbcsgroupprober', 'chardet.sbcharsetprober', 'chardet.langcyrillicmodel', 'chardet.langgreekmodel', 'chardet.langbulgarianmodel', 'chardet.langthaimodel', 'chardet.langhebrewmodel', 'chardet.hebrewprober', 'chardet.langturkishmodel', 'chardet.version', 'requests.exceptions', 'urllib3.contrib.pyopenssl', 'OpenSSL', 'OpenSSL.crypto', 'cryptography', 'cryptography.__about__', 'cryptography.x509', 'cryptography.x509.certificate_transparency', 'cryptography.x509.base', 'cryptography.utils', 'cryptography.hazmat', 'cryptography.hazmat.primitives', 'cryptography.hazmat.primitives.asymmetric', 'cryptography.hazmat.primitives.asymmetric.dsa', 'cryptography.hazmat.primitives.asymmetric.ec', 'cryptography.hazmat._oid', 'cryptography.hazmat.primitives.asymmetric.rsa', 'cryptography.exceptions', 'cryptography.hazmat.backends', 'cryptography.hazmat.backends.interfaces', 'cryptography.x509.extensions', 'ipaddress', 'asn1crypto', 'asn1crypto.version', 'asn1crypto.keys', 'asn1crypto._elliptic_curve', 'asn1crypto._int', 'asn1crypto.util', 'asn1crypto._errors', 'asn1crypto._iri', 'encodings.idna', 'stringprep', 'asn1crypto._types', 'asn1crypto._ordereddict', 'asn1crypto._ffi', 'asn1crypto._perf', 'asn1crypto._perf._big_num_ctypes', 'ctypes.util', 'asn1crypto.algos', 'asn1crypto.core', 'asn1crypto._teletex_codec', 'asn1crypto.parser', 'cryptography.hazmat.primitives.constant_time', 'cryptography.hazmat.bindings', '_cffi_backend', '_constant_time.lib', '_constant_time', 'cryptography.hazmat.bindings._constant_time', 'cryptography.hazmat.primitives.serialization', 'cryptography.hazmat.primitives.serialization.base', 'cryptography.hazmat.primitives.serialization.ssh', 'cryptography.hazmat.primitives.asymmetric.ed25519', 'cryptography.x509.general_name', 'cryptography.x509.name', 'cryptography.x509.oid', 'cryptography.hazmat.primitives.hashes', 'OpenSSL._util', 'cryptography.hazmat.bindings.openssl', 'cryptography.hazmat.bindings.openssl.binding', '_openssl.lib', '_openssl', 'cryptography.hazmat.bindings._openssl', 'cryptography.hazmat.bindings.openssl._conditional', 'OpenSSL.SSL', 'OpenSSL.version', 'cryptography.hazmat.backends.openssl', 'cryptography.hazmat.backends.openssl.backend', 'cryptography.hazmat.backends.openssl.aead', 'cryptography.hazmat.backends.openssl.ciphers', 'cryptography.hazmat.primitives.ciphers', 'cryptography.hazmat.primitives.ciphers.base', 'cryptography.hazmat.primitives.ciphers.modes', 'cryptography.hazmat.backends.openssl.cmac', 'cryptography.hazmat.primitives.mac', 'cryptography.hazmat.backends.openssl.decode_asn1', 'cryptography.hazmat.backends.openssl.dh', 'cryptography.hazmat.primitives.asymmetric.dh', 'cryptography.hazmat.backends.openssl.dsa', 'cryptography.hazmat.backends.openssl.utils', 'cryptography.hazmat.primitives.asymmetric.utils', 'cryptography.hazmat.backends.openssl.ec', 'cryptography.hazmat.backends.openssl.ed25519', 'cryptography.hazmat.backends.openssl.ed448', 'cryptography.hazmat.primitives.asymmetric.ed448', 'cryptography.hazmat.backends.openssl.encode_asn1', 'cryptography.hazmat.backends.openssl.hashes', 'cryptography.hazmat.backends.openssl.hmac', 'cryptography.hazmat.backends.openssl.ocsp', 'cryptography.hazmat.backends.openssl.x509', 'cryptography.x509.ocsp', 'cryptography.hazmat.backends.openssl.rsa', 'cryptography.hazmat.primitives.asymmetric.padding', 'cryptography.hazmat.backends.openssl.x25519', 'cryptography.hazmat.primitives.asymmetric.x25519', 'cryptography.hazmat.backends.openssl.x448', 'cryptography.hazmat.primitives.asymmetric.x448', 'cryptography.hazmat.primitives.ciphers.algorithms', 'cryptography.hazmat.primitives.kdf', 'cryptography.hazmat.primitives.kdf.scrypt', 'urllib3.packages.backports', 'urllib3.packages.backports.makefile', 'requests.__version__', 'requests.utils', 'requests.certs', 'certifi', 'certifi.core', 'requests._internal_utils', 'requests.compat', 'http.cookiejar', 'http.cookies', 'requests.cookies', 'requests.structures', 'requests.packages', 'requests.packages.urllib3', 'requests.packages.urllib3.connectionpool', 'requests.packages.urllib3.exceptions', 'requests.packages.urllib3.packages', 'requests.packages.urllib3.packages.ssl_match_hostname', 'requests.packages.urllib3.packages.six', 'requests.packages.urllib3.packages.six.moves', 'requests.packages.urllib3.packages.six.moves.http_client', 'requests.packages.urllib3.connection', 'requests.packages.urllib3.util', 'requests.packages.urllib3.util.connection', 'requests.packages.urllib3.util.wait', 'requests.packages.urllib3.contrib', 'requests.packages.urllib3.contrib._appengine_environ', 'requests.packages.urllib3.util.request', 'requests.packages.urllib3.util.response', 'requests.packages.urllib3.util.ssl_', 'requests.packages.urllib3.util.timeout', 'requests.packages.urllib3.util.retry', 'requests.packages.urllib3.util.url', 'requests.packages.urllib3._collections', 'requests.packages.urllib3.request', 'requests.packages.urllib3.filepost', 'requests.packages.urllib3.fields', 'requests.packages.urllib3.packages.six.moves.urllib', 'requests.packages.urllib3.packages.six.moves.urllib.parse', 'requests.packages.urllib3.response', 'requests.packages.urllib3.util.queue', 'requests.packages.urllib3.poolmanager', 'requests.packages.urllib3.contrib.pyopenssl', 'requests.packages.urllib3.packages.backports', 'requests.packages.urllib3.packages.backports.makefile', 'idna', 'idna.package_data', 'idna.core', 'idna.idnadata', 'idna.intranges', 'requests.packages.idna', 'requests.packages.idna.package_data', 'requests.packages.idna.core', 'requests.packages.idna.idnadata', 'requests.packages.idna.intranges', 'requests.packages.chardet', 'requests.packages.chardet.compat', 'requests.packages.chardet.universaldetector', 'requests.packages.chardet.charsetgroupprober', 'requests.packages.chardet.enums', 'requests.packages.chardet.charsetprober', 'requests.packages.chardet.escprober', 'requests.packages.chardet.codingstatemachine', 'requests.packages.chardet.escsm', 'requests.packages.chardet.latin1prober', 'requests.packages.chardet.mbcsgroupprober', 'requests.packages.chardet.utf8prober', 'requests.packages.chardet.mbcssm', 'requests.packages.chardet.sjisprober', 'requests.packages.chardet.mbcharsetprober', 'requests.packages.chardet.chardistribution', 'requests.packages.chardet.euctwfreq', 'requests.packages.chardet.euckrfreq', 'requests.packages.chardet.gb2312freq', 'requests.packages.chardet.big5freq', 'requests.packages.chardet.jisfreq', 'requests.packages.chardet.jpcntx', 'requests.packages.chardet.eucjpprober', 'requests.packages.chardet.gb2312prober', 'requests.packages.chardet.euckrprober', 'requests.packages.chardet.cp949prober', 'requests.packages.chardet.big5prober', 'requests.packages.chardet.euctwprober', 'requests.packages.chardet.sbcsgroupprober', 'requests.packages.chardet.sbcharsetprober', 'requests.packages.chardet.langcyrillicmodel', 'requests.packages.chardet.langgreekmodel', 'requests.packages.chardet.langbulgarianmodel', 'requests.packages.chardet.langthaimodel', 'requests.packages.chardet.langhebrewmodel', 'requests.packages.chardet.hebrewprober', 'requests.packages.chardet.langturkishmodel', 'requests.packages.chardet.version', 'requests.models', 'requests.hooks', 'requests.auth', 'requests.status_codes', 'requests.api', 'requests.sessions', 'requests.adapters', 'urllib3.contrib.socks', 'socks', 'transformers', 'transformers.dependency_versions_check', 'transformers.dependency_versions_table', 'transformers.utils', 'packaging', 'packaging.__about__', 'packaging.version', 'packaging._structures', 'transformers.utils.doc', 'transformers.utils.generic', 'transformers.utils.import_utils', 'transformers.utils.versions', 'importlib_metadata', 'importlib_metadata.api', 'importlib_metadata._hooks', 'zipp', 'transformers.utils.logging', 'transformers.utils.hub', 'filelock', 'huggingface_hub', 'huggingface_hub.hf_api', 'huggingface_hub._commit_api', 'concurrent.futures.thread', 'huggingface_hub.constants', 'huggingface_hub.lfs', 'huggingface_hub.utils', 'huggingface_hub.utils.tqdm', 'huggingface_hub.utils._datetime', 'huggingface_hub.utils._errors', 'huggingface_hub.utils._fixes', 'huggingface_hub.utils._paths', 'huggingface_hub.utils._subprocess', 'huggingface_hub.utils.logging', 'huggingface_hub.utils.sha', 'huggingface_hub.community', 'huggingface_hub.utils._deprecation', 'huggingface_hub.utils.endpoint_helpers', 'huggingface_hub.repository', 'huggingface_hub.repocard', 'yaml', 'yaml.error', 'yaml.tokens', 'yaml.events', 'yaml.nodes', 'yaml.loader', 'yaml.reader', 'yaml.scanner', 'yaml.parser', 'yaml.composer', 'yaml.constructor', 'yaml.resolver', 'yaml.dumper', 'yaml.emitter', 'yaml.serializer', 'yaml.representer', 'yaml.cyaml', '_yaml', 'huggingface_hub.file_download', 'huggingface_hub.repocard_types', 'transformers.utils.dummy_speech_objects', 'transformers.utils.dummy_tensorflow_text_objects', 'transformers.utils.dummy_sentencepiece_and_speech_objects', 'transformers.utils.dummy_timm_objects', 'transformers.utils.dummy_scatter_objects', 'transformers.utils.dummy_flax_objects', 'distutils.dir_util', 'distutils.errors', 'distutils.log', 'sentence_transformers.evaluation', 'sentence_transformers.evaluation.SentenceEvaluator', 'sentence_transformers.evaluation.SimilarityFunction', 'sentence_transformers.evaluation.BinaryClassificationEvaluator', 'sentence_transformers.evaluation.EmbeddingSimilarityEvaluator', 'sentence_transformers.evaluation.InformationRetrievalEvaluator', 'sentence_transformers.util', 'sentence_transformers.evaluation.LabelAccuracyEvaluator', 'sentence_transformers.evaluation.MSEEvaluator', 'sentence_transformers.evaluation.MSEEvaluatorFromDataFrame', 'sentence_transformers.evaluation.ParaphraseMiningEvaluator', 'sentence_transformers.evaluation.SequentialEvaluator', 'sentence_transformers.evaluation.TranslationEvaluator', 'sentence_transformers.evaluation.TripletEvaluator', 'sentence_transformers.evaluation.RerankingEvaluator', 'sentence_transformers.models', 'sentence_transformers.models.Transformer', 'transformers.models', 'transformers.models.albert', 'transformers.models.auto', 'transformers.models.bart', 'transformers.models.barthez', 'transformers.models.bartpho', 'transformers.models.beit', 'transformers.models.bert', 'transformers.models.bert_generation', 'transformers.models.bert_japanese', 'transformers.models.bertweet', 'transformers.models.big_bird', 'transformers.models.bigbird_pegasus', 'transformers.models.blenderbot', 'transformers.models.blenderbot_small', 'transformers.models.bloom', 'transformers.models.bort', 'transformers.models.byt5', 'transformers.models.camembert', 'transformers.models.canine', 'transformers.models.clip', 'transformers.models.codegen', 'transformers.models.convbert', 'transformers.models.convnext', 'transformers.models.cpm', 'transformers.models.ctrl', 'transformers.models.cvt', 'transformers.models.data2vec', 'transformers.models.deberta', 'transformers.models.deberta_v2', 'transformers.models.decision_transformer', 'transformers.models.deit', 'transformers.models.detr', 'transformers.models.dialogpt', 'transformers.models.distilbert', 'transformers.models.dit', 'transformers.models.dpr', 'transformers.models.dpt', 'transformers.file_utils', 'transformers.models.electra', 'transformers.models.encoder_decoder', 'transformers.models.flaubert', 'transformers.models.flava', 'transformers.models.fnet', 'transformers.models.fsmt', 'transformers.models.funnel', 'transformers.models.glpn', 'transformers.models.gpt2', 'transformers.models.gpt_neo', 'transformers.models.gpt_neox', 'transformers.models.gptj', 'transformers.models.groupvit', 'transformers.models.herbert', 'transformers.models.hubert', 'transformers.models.ibert', 'transformers.models.imagegpt', 'transformers.models.layoutlm', 'transformers.models.layoutlmv2', 'transformers.models.layoutlmv3', 'transformers.models.layoutxlm', 'transformers.models.led', 'transformers.models.levit', 'transformers.models.longformer', 'transformers.models.longt5', 'transformers.models.luke', 'transformers.models.lxmert', 'transformers.models.m2m_100', 'transformers.models.marian', 'transformers.models.maskformer', 'transformers.models.mbart', 'transformers.models.mbart50', 'transformers.models.mctct', 'transformers.models.megatron_bert', 'transformers.models.megatron_gpt2', 'transformers.models.mluke', 'transformers.models.mmbt', 'transformers.models.mobilebert', 'transformers.models.mobilevit', 'transformers.models.mpnet', 'transformers.models.mt5', 'transformers.models.t5', 'transformers.models.t5.tokenization_t5', 'sentencepiece', 'swig_runtime_data4', 'sentencepiece._sentencepiece', 'transformers.tokenization_utils', 'transformers.tokenization_utils_base', 'transformers.dynamic_module_utils', 'tokenizers', 'tokenizers.tokenizers', 'tokenizers.implementations', 'tokenizers.implementations.base_tokenizer', 'tokenizers.models', 'tokenizers.normalizers', 'tokenizers.pre_tokenizers', 'tokenizers.processors', 'tokenizers.decoders', 'tokenizers.implementations.byte_level_bpe', 'tokenizers.implementations.char_level_bpe', 'tokenizers.implementations.sentencepiece_bpe', 'tokenizers.implementations.sentencepiece_unigram', 'tokenizers.implementations.bert_wordpiece', 'transformers.models.t5.tokenization_t5_fast', 'transformers.tokenization_utils_fast', 'tokenizers.trainers', 'transformers.convert_slow_tokenizer', 'transformers.models.mvp', 'transformers.models.nezha', 'transformers.models.nllb', 'transformers.models.nystromformer', 'transformers.models.openai', 'transformers.models.opt', 'transformers.models.owlvit', 'transformers.models.pegasus', 'transformers.models.perceiver', 'transformers.models.phobert', 'transformers.models.plbart', 'transformers.models.poolformer', 'transformers.models.prophetnet', 'transformers.models.qdqbert', 'transformers.models.rag', 'transformers.models.realm', 'transformers.models.reformer', 'transformers.models.regnet', 'transformers.models.rembert', 'transformers.models.resnet', 'transformers.models.retribert', 'transformers.models.roberta', 'transformers.models.roformer', 'transformers.models.segformer', 'transformers.models.sew', 'transformers.models.sew_d', 'transformers.models.speech_encoder_decoder', 'transformers.models.speech_to_text', 'transformers.models.speech_to_text_2', 'transformers.models.splinter', 'transformers.models.squeezebert', 'transformers.models.swin', 'transformers.models.tapas', 'transformers.models.tapex', 'transformers.models.trajectory_transformer', 'transformers.models.transfo_xl', 'transformers.models.trocr', 'transformers.models.unispeech', 'transformers.models.unispeech_sat', 'transformers.models.van', 'transformers.models.vilt', 'transformers.models.vision_encoder_decoder', 'transformers.models.vision_text_dual_encoder', 'transformers.models.visual_bert', 'transformers.models.vit', 'transformers.models.vit_mae', 'transformers.models.wav2vec2', 'transformers.models.wav2vec2_conformer', 'transformers.models.wav2vec2_phoneme', 'transformers.models.wav2vec2_with_lm', 'transformers.models.wavlm', 'transformers.models.xglm', 'transformers.models.xlm', 'transformers.models.xlm_prophetnet', 'transformers.models.xlm_roberta', 'transformers.models.xlm_roberta_xl', 'transformers.models.xlnet', 'transformers.models.yolos', 'transformers.models.yoso', 'transformers.models.auto.modeling_auto', 'transformers.models.auto.auto_factory', 'transformers.configuration_utils', 'transformers.models.auto.configuration_auto', 'transformers.models.auto.tokenization_auto', 'transformers.models.encoder_decoder.configuration_encoder_decoder', 'transformers.models.t5.configuration_t5', 'transformers.onnx', 'transformers.onnx.config', 'transformers.onnx.utils', 'PIL', 'PIL._version', 'PIL.Image', 'PIL._util', 'PIL.ImageMode', 'PIL._binary', 'PIL._imaging', 'cffi', 'cffi.api', 'cffi.lock', 'cffi.error', 'cffi.model', 'sentence_transformers.models.Asym', 'sentence_transformers.models.BoW', 'sentence_transformers.models.tokenizer', 'sentence_transformers.models.tokenizer.WordTokenizer', 'sentence_transformers.models.tokenizer.WhitespaceTokenizer', 'sentence_transformers.models.tokenizer.PhraseTokenizer', 'sentence_transformers.models.CNN', 'sentence_transformers.models.Dense', 'sentence_transformers.models.Dropout', 'sentence_transformers.models.LayerNorm', 'sentence_transformers.models.LSTM', 'sentence_transformers.models.Normalize', 'sentence_transformers.models.Pooling', 'sentence_transformers.models.WeightedLayerPooling', 'sentence_transformers.models.WordEmbeddings', 'sentence_transformers.models.WordWeights', 'sentence_transformers.models.CLIPModel', 'sentence_transformers.model_card_templates', 'sentence_transformers.datasets.SentencesDataset', 'sentence_transformers.datasets.SentenceLabelDataset', 'sentence_transformers.LoggingHandler', 'sentence_transformers.cross_encoder', 'sentence_transformers.cross_encoder.CrossEncoder', 'sentence_transformers.cross_encoder.evaluation', 'sentence_transformers.cross_encoder.evaluation.CEBinaryAccuracyEvaluator', 'sentence_transformers.cross_encoder.evaluation.CEBinaryClassificationEvaluator', 'sentence_transformers.cross_encoder.evaluation.CECorrelationEvaluator', 'sentence_transformers.cross_encoder.evaluation.CESoftmaxAccuracyEvaluator', 'sentence_transformers.cross_encoder.evaluation.CERerankingEvaluator', 'netrc', 'encodings.charmap', 'transformers.models.bert.configuration_bert', 'transformers.models.albert.configuration_albert', 'transformers.models.bart.configuration_bart', 'transformers.models.big_bird.configuration_big_bird', 'transformers.models.bigbird_pegasus.configuration_bigbird_pegasus', 'transformers.models.bloom.configuration_bloom', 'transformers.models.camembert.configuration_camembert', 'transformers.models.roberta.configuration_roberta', 'transformers.models.canine.configuration_canine', 'transformers.models.convbert.configuration_convbert', 'transformers.models.ctrl.configuration_ctrl', 'transformers.models.data2vec.configuration_data2vec_text', 'transformers.models.deberta.configuration_deberta', 'transformers.models.deberta_v2.configuration_deberta_v2', 'transformers.models.distilbert.configuration_distilbert', 'transformers.models.electra.configuration_electra', 'transformers.models.flaubert.configuration_flaubert', 'transformers.models.xlm.configuration_xlm', 'transformers.models.fnet.configuration_fnet', 'transformers.models.funnel.configuration_funnel', 'transformers.models.gpt2.configuration_gpt2', 'transformers.models.gpt_neo.configuration_gpt_neo', 'transformers.models.gptj.configuration_gptj', 'transformers.models.ibert.configuration_ibert', 'transformers.models.layoutlm.configuration_layoutlm', 'transformers.models.layoutlmv2.configuration_layoutlmv2', 'transformers.models.layoutlmv3.configuration_layoutlmv3', 'transformers.models.led.configuration_led', 'transformers.models.longformer.configuration_longformer', 'transformers.models.mbart.configuration_mbart', 'transformers.models.megatron_bert.configuration_megatron_bert', 'transformers.models.mobilebert.configuration_mobilebert', 'transformers.models.mpnet.configuration_mpnet', 'transformers.models.mvp.configuration_mvp', 'transformers.models.nezha.configuration_nezha', 'transformers.models.nystromformer.configuration_nystromformer', 'transformers.models.openai.configuration_openai', 'transformers.models.opt.configuration_opt', 'transformers.models.perceiver.configuration_perceiver', 'transformers.feature_extraction_utils', 'transformers.models.plbart.configuration_plbart', 'transformers.models.qdqbert.configuration_qdqbert', 'transformers.models.reformer.configuration_reformer', 'transformers.models.rembert.configuration_rembert', 'transformers.models.roformer.configuration_roformer', 'transformers.models.squeezebert.configuration_squeezebert', 'transformers.models.tapas.configuration_tapas', 'transformers.models.transfo_xl.configuration_transfo_xl', 'transformers.models.xlm_roberta.configuration_xlm_roberta', 'transformers.models.xlm_roberta_xl.configuration_xlm_roberta_xl', 'transformers.models.xlnet.configuration_xlnet', 'transformers.models.yoso.configuration_yoso', 'transformers.models.bert.modeling_bert', 'torch.utils.checkpoint', 'transformers.activations', 'transformers.modeling_outputs', 'transformers.modeling_utils', 'transformers.deepspeed', 'transformers.generation_utils', 'transformers.generation_beam_constraints', 'transformers.generation_beam_search', 'transformers.generation_logits_process', 'transformers.generation_stopping_criteria', 'transformers.pytorch_utils', 'transformers.models.bert.tokenization_bert_fast', 'transformers.models.bert.tokenization_bert', 'sentence_transformers.losses', 'sentence_transformers.losses.CosineSimilarityLoss', 'sentence_transformers.losses.SoftmaxLoss', 'sentence_transformers.losses.MultipleNegativesRankingLoss', 'sentence_transformers.losses.MultipleNegativesSymmetricRankingLoss', 'sentence_transformers.losses.TripletLoss', 'sentence_transformers.losses.MarginMSELoss', 'sentence_transformers.losses.MSELoss', 'sentence_transformers.losses.ContrastiveLoss', 'sentence_transformers.losses.ContrastiveTensionLoss', 'sentence_transformers.losses.OnlineContrastiveLoss', 'sentence_transformers.losses.MegaBatchMarginLoss', 'sentence_transformers.losses.DenoisingAutoEncoderLoss', 'sentence_transformers.losses.BatchHardTripletLoss', 'sentence_transformers.losses.BatchHardSoftMarginTripletLoss', 'sentence_transformers.losses.BatchSemiHardTripletLoss', 'sentence_transformers.losses.BatchAllTripletLoss', 'torch.fx', 'torch.fx.graph_module', 'torch.fx.graph', 'torch.fx.node', 'torch.fx._compatibility', 'torch.fx.immutable_collections', 'torch.fx.operator_schemas', 'torch.fx._pytree', 'torch.fx._symbolic_trace', 'torch.fx.proxy', 'torch.fx.interpreter', 'torch.fx.subgraph_rewriter', 'transformers.optimization', 'transformers.trainer_utils', 'tensorflow', 'tensorflow.python', 'tensorflow.python.pywrap_tensorflow', 'tensorflow.python.platform', 'tensorflow.python.platform.self_check', 'tensorflow.python.platform.build_info', 'tensorflow.python.pywrap_tensorflow_internal', '_pywrap_tensorflow_internal', 'tensorflow.core', 'tensorflow.core.framework', 'tensorflow.core.framework.graph_pb2', 'google.protobuf', 'google.protobuf.descriptor', 'google.protobuf.internal', 'google.protobuf.internal.api_implementation', 'google.protobuf.internal._api_implementation', 'google.protobuf.pyext', 'google.protobuf.internal.containers', 'google.protobuf.internal.enum_type_wrapper', 'google.protobuf.message', 'google.protobuf.pyext._message', 'google.protobuf.reflection', 'google.protobuf.message_factory', 'google.protobuf.descriptor_pool', 'google.protobuf.descriptor_database', 'google.protobuf.text_encoding', 'google.protobuf.pyext.cpp_message', 'google.protobuf.symbol_database', 'tensorflow.core.framework.function_pb2', 'tensorflow.core.framework.attr_value_pb2', 'tensorflow.core.framework.tensor_pb2', 'tensorflow.core.framework.resource_handle_pb2', 'tensorflow.core.framework.tensor_shape_pb2', 'google.protobuf.internal.well_known_types', 'tensorflow.core.framework.types_pb2', 'tensorflow.core.framework.node_def_pb2', 'tensorflow.core.framework.op_def_pb2', 'tensorflow.core.framework.versions_pb2', 'tensorflow.core.framework.summary_pb2', 'tensorflow.core.protobuf', 'tensorflow.core.protobuf.meta_graph_pb2', 'google.protobuf.any_pb2', 'tensorflow.core.protobuf.saved_object_graph_pb2', 'tensorflow.core.framework.variable_pb2', 'tensorflow.core.protobuf.struct_pb2', 'tensorflow.core.protobuf.trackable_object_graph_pb2', 'tensorflow.core.protobuf.saver_pb2', 'tensorflow.core.protobuf.config_pb2', 'tensorflow.core.framework.cost_graph_pb2', 'tensorflow.core.framework.step_stats_pb2', 'tensorflow.core.framework.allocation_description_pb2', 'tensorflow.core.framework.tensor_description_pb2', 'tensorflow.core.protobuf.cluster_pb2', 'tensorflow.core.protobuf.debug_pb2', 'tensorflow.core.protobuf.rewriter_config_pb2', 'tensorflow.core.protobuf.verifier_config_pb2', 'tensorflow.core.protobuf.tensorflow_server_pb2', 'tensorflow.core.protobuf.device_filters_pb2', 'tensorflow.core.util', 'tensorflow.core.util.event_pb2', 'tensorflow.python.framework', 'tensorflow.python.framework.framework_lib', 'tensorflow.python.framework.device', 'tensorflow.python.tf2', 'tensorflow.python.framework.device_spec', 'tensorflow.python.util', 'tensorflow.python.util.tf_export', 'tensorflow.python.util.tf_decorator', 'tensorflow.python.util.tf_stack', 'tensorflow.python._tf_stack', 'tensorflow.python.util.tf_inspect', 'tensorflow.python.framework.ops', 'tensorflow.python.pywrap_tfe', 'tensorflow.python._pywrap_tfe', 'tensorflow.python.client', 'tensorflow.python.client.pywrap_tf_session', 'tensorflow.python._pywrap_tf_session', 'tensorflow.python.eager', 'tensorflow.python.eager.context', 'absl', 'absl.logging', 'absl.flags', 'absl.flags._argument_parser', 'absl.flags._helpers', 'absl.flags._defines', 'absl.flags._exceptions', 'absl.flags._flag', 'absl.flags._flagvalues', 'absl.flags._validators', 'absl.logging.converter', 'tensorflow.python.eager.executor', 'tensorflow.python.eager.monitoring', 'tensorflow.python.framework.c_api_util', 'tensorflow.core.framework.api_def_pb2', 'tensorflow.python.util.compat', 'tensorflow.python.util.tf_contextlib', 'tensorflow.python.util.is_in_graph_mode', 'tensorflow.python.eager.core', 'tensorflow.python.framework.errors', 'tensorflow.python.framework.errors_impl', 'tensorflow.core.lib', 'tensorflow.core.lib.core', 'tensorflow.core.lib.core.error_codes_pb2', 'tensorflow.core.protobuf.error_codes_pb2', 'tensorflow.python._pywrap_py_exception_registry', 'tensorflow.python.framework.error_interpolation', 'tensorflow.core.protobuf.graph_debug_info_pb2', 'tensorflow.python.util.deprecation', 'tensorflow.python.platform.tf_logging', 'tensorflow.python.util.decorator_utils', 'tensorflow.python.eager.tape', 'tensorflow.python.util.lazy_loader', 'tensorflow.python.framework.composite_tensor', 'tensorflow.python._pywrap_utils', 'tensorflow.python.util.nest', 'wrapt', 'wrapt.wrappers', 'wrapt._wrappers', 'wrapt.decorators', 'wrapt.importer', 'tensorflow.python.framework.dtypes', 'tensorflow.python._pywrap_bfloat16', 'tensorflow.python._dtypes', 'tensorflow.python.framework.indexed_slices', 'tensorflow.python.framework.tensor_conversion_registry', 'tensorflow.python.framework.tensor_like', 'tensorflow.python.framework.tensor_shape', 'tensorflow.python.framework.type_spec', 'tensorflow.python.framework.registry', 'tensorflow.python.framework.traceable_stack', 'tensorflow.python.framework.versions', 'tensorflow.python.ops', 'tensorflow.python.ops.control_flow_util', 'tensorflow.python.platform.app', 'absl.app', 'absl.command_name', 'tensorflow.python.platform.flags', 'tensorflow.python.util.function_utils', 'tensorflow.python.util.lock_util', 'tensorflow.python.util.memory', 'tensorflow.python.util.object_identity', 'tensorflow.python.framework.sparse_tensor', 'tensorflow.python.framework.constant_op', 'tensorflow.python.eager.execute', 'google.protobuf.text_format', 'google.protobuf.internal.decoder', 'google.protobuf.internal.encoder', 'google.protobuf.internal.wire_format', 'google.protobuf.internal.type_checkers', 'tensorflow.python.framework.tensor_util', 'tensorflow.python.framework.fast_tensor_util', 'tensorflow.python.framework.tensor_spec', 'tensorflow.python.framework.common_shapes', 'tensorflow.python.ops.gen_sparse_ops', 'tensorflow.python.framework.op_def_registry', 'tensorflow.python._op_def_registry', 'tensorflow.python.framework.op_def_library', 'tensorflow.python.framework.op_callbacks', 'tensorflow.python.util.dispatch', 'tensorflow.python.framework.random_seed', 'tensorflow.python.framework.importer', 'tensorflow.python.framework.function', 'tensorflow.python.framework.graph_to_function_def', 'tensorflow.python.ops.array_ops', 'tensorflow.python.ops.gen_array_ops', 'tensorflow.python.ops.gen_math_ops', 'tensorflow.python.ops.resource_variable_ops', 'tensorflow.python.framework.auto_control_deps_utils', 'tensorflow.python.framework.cpp_shape_inference_pb2', 'tensorflow.python.ops.gen_logging_ops', 'tensorflow.python.ops.gen_resource_variable_ops', 'tensorflow.python.ops.gen_state_ops', 'tensorflow.python.ops.math_ops', 'tensorflow.python.framework.graph_util', 'tensorflow.python.framework.graph_util_impl', 'tensorflow.python.ops.gen_data_flow_ops', 'tensorflow.python.ops.gen_nn_ops', 'tensorflow.python.ops.state_ops', 'tensorflow.python.ops.variables', 'tensorflow.python.ops.control_flow_ops', 'tensorflow.core.protobuf.control_flow_pb2', 'tensorflow.python.ops.gen_control_flow_ops', 'tensorflow.python.ops.tensor_array_ops', 'tensorflow.python.ops.list_ops', 'tensorflow.python.ops.gen_list_ops', 'tensorflow.python.util.tf_should_use', 'tensorflow.python.training', 'tensorflow.python.training.tracking', 'tensorflow.python.training.tracking.base', 'tensorflow.python.ops.gen_io_ops', 'tensorflow.python.training.saving', 'tensorflow.python.training.saving.saveable_object', 'tensorflow.python.ops.variable_scope', 'tensorflow.python.client.session', 'tensorflow.python.ops.session_ops', 'tensorflow.python.training.experimental', 'tensorflow.python.training.experimental.mixed_precision_global_state', 'tensorflow.python.ops.init_ops', 'tensorflow.python.ops.gen_linalg_ops', 'tensorflow.python.ops.linalg_ops_impl', 'tensorflow.python.ops.random_ops', 'tensorflow.python.ops.gen_random_ops', 'tensorflow.python.framework.load_library', 'tensorflow.python._pywrap_python_op_gen', 'tensorflow.python.lib', 'tensorflow.python.lib.io', 'tensorflow.python.lib.io.file_io', 'tensorflow.python._pywrap_file_io', 'tensorflow.python.framework.config', 'tensorflow.python.client.client_lib', 'tensorflow.python.ops.standard_ops', 'tensorflow.python.autograph', 'tensorflow.python.autograph.operators', 'tensorflow.python.autograph.operators.control_flow', 'tensorflow.python.autograph.operators.py_builtins', 'tensorflow.python.autograph.utils', 'tensorflow.python.autograph.utils.context_managers', 'tensorflow.python.autograph.utils.misc', 'tensorflow.python.autograph.utils.py_func', 'tensorflow.python.ops.script_ops', 'tensorflow.python._pywrap_py_func', 'tensorflow.python.eager.backprop', 'tensorflow.python.eager.backprop_util', 'tensorflow.python.eager.imperative_grad', 'tensorflow.python.ops.unconnected_gradients', 'tensorflow.python.ops.check_ops', 'tensorflow.python.ops.default_gradient', 'tensorflow.python.framework.func_graph', 'tensorflow.python.eager.graph_only_ops', 'tensorflow.python.framework.auto_control_deps', 'tensorflow.python.ops.custom_gradient', 'tensorflow.python.ops.op_selector', 'tensorflow.python.ops.gen_script_ops', 'tensorflow.python.autograph.utils.tensor_list', 'tensorflow.python.autograph.utils.testing', 'tensorflow.python.autograph.utils.type_check', 'tensorflow.python.autograph.utils.tensors', 'tensorflow.python.data', 'tensorflow.python.data.experimental', 'tensorflow.python.data.experimental.ops', 'tensorflow.python.data.experimental.ops.batching', 'tensorflow.python.data.ops', 'tensorflow.python.data.ops.dataset_ops', 'tensorflow.python.compat', 'tensorflow.python.compat.compat', 'tensorflow.python.data.experimental.ops.distribute_options', 'tensorflow.python.data.util', 'tensorflow.python.data.util.options', 'tensorflow.python.data.experimental.ops.optimization_options', 'tensorflow.python.data.experimental.ops.stats_options', 'tensorflow.python.data.experimental.ops.stats_aggregator', 'tensorflow.python.ops.gen_experimental_dataset_ops', 'tensorflow.python.ops.summary_ops_v2', 'tensorflow.python.eager.profiler', 'tensorflow.python._pywrap_events_writer', 'tensorflow.python.platform.gfile', 'tensorflow.python.profiler', 'tensorflow.python.profiler.internal', 'tensorflow.python.profiler.internal._pywrap_profiler', 'tensorflow.python.framework.smart_cond', 'tensorflow.python.ops.gen_summary_ops', 'tensorflow.python.ops.summary_op_util', 'tensorflow.python.training.training_util', 'tensorflow.python.framework.graph_io', 'tensorflow.python.data.experimental.ops.threading_options', 'tensorflow.python.data.ops.iterator_ops', 'tensorflow.python.data.ops.optional_ops', 'tensorflow.python.data.util.structure', 'tensorflow.python.data.util.nest', 'tensorflow.python.ops.ragged', 'tensorflow.python.ops.ragged.ragged_array_ops', 'tensorflow.python.ops.sort_ops', 'tensorflow.python.ops.nn_ops', 'tensorflow.python.platform.device_context', 'tensorflow.python.ops.ragged.ragged_functional_ops', 'tensorflow.python.ops.ragged.ragged_config', 'tensorflow.python.ops.ragged.ragged_tensor', 'tensorflow.python.ops.gen_ragged_conversion_ops', 'tensorflow.python.ops.ragged.ragged_tensor_value', 'tensorflow.python.ops.ragged.ragged_util', 'tensorflow.python.ops.gen_ragged_math_ops', 'tensorflow.python.ops.ragged.segment_id_ops', 'tensorflow.python.ops.ragged.ragged_math_ops', 'tensorflow.python.ops.ragged.ragged_batch_gather_ops', 'tensorflow.python.ops.ragged.ragged_gather_ops', 'tensorflow.python.ops.gen_ragged_array_ops', 'tensorflow.python.ops.ragged.ragged_batch_gather_with_default_op', 'tensorflow.python.ops.ragged.ragged_dispatch', 'tensorflow.python.ops.clip_ops', 'tensorflow.python.ops.data_flow_ops', 'tensorflow.python.lib.io.python_io', 'tensorflow.python.lib.io.tf_record', 'tensorflow.python._pywrap_record_io', 'tensorflow.python.ops.gen_bitwise_ops', 'tensorflow.python.ops.parsing_ops', 'tensorflow.python.ops.gen_parsing_ops', 'tensorflow.python.ops.parsing_config', 'tensorflow.python.ops.sparse_ops', 'tensorflow.python.ops.string_ops', 'tensorflow.python.ops.gen_string_ops', 'tensorflow.python.ops.ragged.ragged_concat_ops', 'tensorflow.python.ops.ragged.ragged_squeeze_op', 'tensorflow.python.ops.ragged.ragged_string_ops', 'tensorflow.python.ops.ragged.ragged_tensor_shape', 'tensorflow.python.ops.ragged.ragged_where_op', 'tensorflow.python.ops.ragged.ragged_operators', 'tensorflow.python.ops.ragged.ragged_getitem', 'tensorflow.python.ops.ragged.ragged_conversion_ops', 'tensorflow.python.ops.ragged.ragged_factory_ops', 'tensorflow.python.ops.ragged.ragged_map_ops', 'tensorflow.python.ops.gen_dataset_ops', 'tensorflow.python.training.saver', 'tensorflow.python.framework.meta_graph', 'tensorflow.python.ops.io_ops', 'tensorflow.python.training.checkpoint_management', 'tensorflow.python.training.checkpoint_state_pb2', 'tensorflow.python.training.py_checkpoint_reader', 'tensorflow.python._pywrap_checkpoint_reader', 'tensorflow.python.training.saving.saveable_object_util', 'tensorflow.python.data.util.random_seed', 'tensorflow.python.data.util.traverse', 'tensorflow.python.eager.function', 'tensorflow.python.eager.forwardprop_util', 'tensorflow.python.ops.functional_ops', 'tensorflow.python.ops.gen_functional_ops', 'tensorflow.python.ops.gradients_util', 'tensorflow.python.ops.control_flow_state', 'tensorflow.python.ops.control_flow_v2_func_graphs', 'tensorflow.python.training.tracking.tracking', 'tensorflow.python.eager.def_function', 'tensorflow.python.eager.lift_to_graph', 'tensorflow.python.training.tracking.data_structures', 'tensorflow.python.saved_model', 'tensorflow.python.saved_model.revived_types', 'tensorflow.python.training.tracking.layer_utils', 'tensorflow.python.data.util.convert', 'tensorflow.python.data.experimental.ops.cardinality', 'tensorflow.python.data.experimental.ops.counter', 'tensorflow.python.data.experimental.ops.scan_ops', 'tensorflow.python.data.experimental.ops.enumerate_ops', 'tensorflow.python.data.experimental.ops.error_ops', 'tensorflow.python.data.experimental.ops.get_single_element', 'tensorflow.python.data.experimental.ops.grouping', 'tensorflow.python.data.experimental.ops.interleave_ops', 'tensorflow.python.data.experimental.ops.random_ops', 'tensorflow.python.data.ops.readers', 'tensorflow.python.ops.gen_stateless_random_ops', 'tensorflow.python.data.experimental.ops.iterator_ops', 'tensorflow.python.training.basic_session_run_hooks', 'tensorflow.python.client.timeline', 'tensorflow.python.training.session_run_hook', 'tensorflow.python.training.summary_io', 'tensorflow.python.summary', 'tensorflow.python.summary.summary_iterator', 'tensorflow.python.summary.writer', 'tensorflow.python.summary.writer.writer', 'tensorflow.python.summary.plugin_asset', 'tensorflow.python.summary.writer.event_file_writer', 'tensorflow.python.summary.writer.event_file_writer_v2', 'tensorflow.python.summary.writer.writer_cache', 'tensorflow.python.data.experimental.ops.parsing_ops', 'tensorflow.python.data.experimental.ops.prefetching_ops', 'tensorflow.python.data.experimental.ops.readers', 'tensorflow.python.data.experimental.ops.resampling', 'tensorflow.python.ops.logging_ops', 'tensorflow.python.data.experimental.ops.shuffle_ops', 'tensorflow.python.data.experimental.ops.stats_ops', 'tensorflow.python.data.experimental.ops.take_while_ops', 'tensorflow.python.data.experimental.ops.unique', 'tensorflow.python.data.experimental.ops.writers', 'tensorflow.python.util.all_util', 'tensorflow.python.autograph.operators.special_values', 'tensorflow.python.autograph.utils.ag_logging', 'tensorflow.python.autograph.utils.compat_util', 'tensorflow.python.autograph.operators.data_structures', 'tensorflow.python.autograph.operators.exceptions', 'tensorflow.python.autograph.operators.logical', 'tensorflow.python.autograph.operators.slices', 'tensorflow.python.autograph.core', 'tensorflow.python.autograph.core.converter', 'tensorflow.python.autograph.pyct', 'tensorflow.python.autograph.pyct.anno', 'gast', 'gast.gast', 'gast.ast3', 'gast.astn', 'tensorflow.python.autograph.pyct.ast_util', 'tensorflow.python.autograph.pyct.parser', 'tensorflow.python.autograph.pyct.errors', 'tensorflow.python.autograph.pyct.inspect_utils', 'tensorflow.python.autograph.pyct.qual_names', 'tensorflow.python.autograph.pyct.cfg', 'tensorflow.python.autograph.pyct.templates', 'tensorflow.python.autograph.pyct.transformer', 'tensorflow.python.autograph.pyct.loader', 'tensorflow.python.autograph.pyct.origin_info', 'tensorflow.python.autograph.pyct.pretty_printer', 'termcolor', 'tensorflow.python.autograph.pyct.static_analysis', 'tensorflow.python.autograph.pyct.static_analysis.activity', 'tensorflow.python.autograph.pyct.static_analysis.annos', 'tensorflow.python.autograph.pyct.static_analysis.liveness', 'tensorflow.python.autograph.pyct.static_analysis.reaching_definitions', 'tensorflow.python.autograph.impl', 'tensorflow.python.autograph.impl.api', 'tensorflow.python.autograph.core.ag_ctx', 'tensorflow.python.autograph.impl.conversion', 'tensorflow.python.autograph.converters', 'tensorflow.python.autograph.converters.arg_defaults', 'tensorflow.python.autograph.converters.asserts', 'tensorflow.python.autograph.converters.break_statements', 'tensorflow.python.autograph.converters.call_trees', 'tensorflow.python.autograph.converters.conditional_expressions', 'tensorflow.python.autograph.converters.continue_statements', 'tensorflow.python.autograph.converters.control_flow', 'tensorflow.python.autograph.lang', 'tensorflow.python.autograph.lang.directives', 'tensorflow.python.autograph.converters.directives', 'tensorflow.python.autograph.converters.function_scopes', 'tensorflow.python.autograph.converters.lists', 'tensorflow.python.autograph.converters.logical_expressions', 'tensorflow.python.autograph.converters.return_statements', 'tensorflow.python.autograph.converters.slices', 'tensorflow.python.autograph.core.config', 'tensorflow.python.autograph.core.config_lib', 'tensorflow.python.autograph.core.function_wrappers', 'tensorflow.python.autograph.core.naming', 'tensorflow.python.autograph.core.unsupported_features_checker', 'tensorflow.python.autograph.lang.special_functions', 'tensorflow.python.autograph.pyct.error_utils', 'tensorflow.python.training.experimental.loss_scaling_gradient_tape', 'tensorflow.python.distribute', 'tensorflow.python.distribute.cluster_resolver', 'tensorflow.python.distribute.cluster_resolver.cluster_resolver', 'tensorflow.python.training.server_lib', 'tensorflow.python.distribute.cluster_resolver.gce_cluster_resolver', 'tensorflow.python.distribute.cluster_resolver.kubernetes_cluster_resolver', 'tensorflow.python.distribute.cluster_resolver.slurm_cluster_resolver', 'tensorflow.python.distribute.cluster_resolver.tfconfig_cluster_resolver', 'tensorflow.python.distribute.cluster_resolver.tpu_cluster_resolver', 'tensorflow.python.tpu', 'tensorflow.python.tpu.client', 'tensorflow.python.tpu.client.client', 'tensorflow.python.distribute.cross_device_ops', 'tensorflow.python.client.device_lib', 'tensorflow.core.framework.device_attributes_pb2', 'tensorflow.python._pywrap_device_lib', 'tensorflow.python.distribute.collective_util', 'tensorflow.python.distribute.cross_device_utils', 'tensorflow.python.distribute.all_reduce', 'tensorflow.python.ops.nccl_ops', 'tensorflow.python.ops.gen_nccl_ops', 'tensorflow.python.distribute.values', 'tensorflow.python.distribute.device_util', 'tensorflow.python.distribute.distribute_lib', 'tensorflow.python.distribute.distribution_strategy_context', 'tensorflow.python.distribute.numpy_dataset', 'tensorflow.python.distribute.reduce_util', 'tensorflow.python.ops.losses', 'tensorflow.python.ops.losses.loss_reduction', 'tensorflow.python.ops.losses.losses_impl', 'tensorflow.python.ops.confusion_matrix', 'tensorflow.python.ops.nn', 'tensorflow.python.ops.ctc_ops', 'tensorflow.python.ops.gen_ctc_ops', 'tensorflow.python.ops.inplace_ops', 'tensorflow.python.ops.linalg_ops', 'tensorflow.python.ops.map_fn', 'tensorflow.python.ops.nn_grad', 'tensorflow.python.ops.embedding_ops', 'tensorflow.python.ops.data_flow_grad', 'tensorflow.python.ops.nn_impl', 'tensorflow.python.ops.candidate_sampling_ops', 'tensorflow.python.ops.gen_candidate_sampling_ops', 'tensorflow.python.ops.losses.util', 'tensorflow.python.ops.weights_broadcast_ops', 'tensorflow.python.ops.sets', 'tensorflow.python.ops.sets_impl', 'tensorflow.python.ops.gen_set_ops', 'tensorflow.tools', 'tensorflow.tools.docs', 'tensorflow.tools.docs.doc_controls', 'tensorflow.python.ops.collective_ops', 'tensorflow.python.ops.gen_collective_ops', 'tensorflow.python.distribute.tpu_values', 'tensorflow.python.tpu.tpu', 'tensorflow.core.protobuf.tpu', 'tensorflow.core.protobuf.tpu.dynamic_padding_pb2', 'tensorflow.python.compiler', 'tensorflow.python.compiler.xla', 'tensorflow.python.compiler.xla.jit', 'tensorflow.python.compiler.xla.xla', 'tensorflow.compiler', 'tensorflow.compiler.jit', 'tensorflow.compiler.jit.ops', 'tensorflow.compiler.jit.ops.xla_ops', 'tensorflow.compiler.jit.ops.xla_ops_grad', 'tensorflow.python.distribute.summary_op_util', 'tensorflow.python.tpu.tpu_function', 'tensorflow.python.tpu.ops', 'tensorflow.python.tpu.ops.tpu_ops', 'tensorflow.python.ops.gen_tpu_ops', 'tensorflow.python.framework.kernels', 'tensorflow.core.framework.kernel_def_pb2', 'tensorflow.python.distribute.mirrored_strategy', 'tensorflow.python.distribute.input_lib', 'tensorflow.python.data.experimental.ops.distribute', 'tensorflow.python.data.ops.multi_device_iterator_ops', 'tensorflow.python.distribute.input_ops', 'tensorflow.python.distribute.multi_worker_util', 'tensorflow.python.distribute.distribute_coordinator_context', 'tensorflow.python.distribute.shared_variable_creator', 'tensorflow.python.training.coordinator', 'tensorflow.python.distribute.one_device_strategy', 'tensorflow.python.distribute.experimental', 'tensorflow.python.distribute.central_storage_strategy', 'tensorflow.python.distribute.parameter_server_strategy', 'tensorflow.python.training.device_setter', 'tensorflow.python.distribute.collective_all_reduce_strategy', 'tensorflow.python.distribute.tpu_strategy', 'tensorflow.compiler.xla', 'tensorflow.compiler.xla.experimental', 'tensorflow.compiler.xla.experimental.xla_sharding', 'tensorflow.compiler.xla.experimental.xla_sharding.xla_sharding', 'tensorflow.compiler.tf2xla', 'tensorflow.compiler.tf2xla.python', 'tensorflow.compiler.tf2xla.python.xla', 'tensorflow.compiler.tf2xla.ops', 'tensorflow.compiler.tf2xla.ops.gen_xla_ops', 'tensorflow.python.ops.bitwise_ops', 'tensorflow.compiler.xla.xla_data_pb2', 'tensorflow.python.tpu.device_assignment', 'tensorflow.python.tpu.topology', 'tensorflow.core.protobuf.tpu.topology_pb2', 'tensorflow.python.tpu.tpu_strategy_util', 'tensorflow.python.tpu.tpu_system_metadata', 'tensorflow.python.tpu.training_loop', 'tensorflow.python.tpu.tensor_tracer', 'tensorflow.python.platform.analytics', 'tensorflow.python.tpu.tensor_tracer_flags', 'tensorflow.python.tpu.tensor_tracer_report', 'tensorflow.python.tpu.tensor_tracer_pb2', 'tensorflow.python.training.experimental.loss_scale', 'tensorflow.python.ops.array_grad', 'tensorflow.python.ops.cudnn_rnn_grad', 'tensorflow.python.ops.gen_cudnn_rnn_ops', 'tensorflow.python.ops.manip_grad', 'tensorflow.python.ops.manip_ops', 'tensorflow.python.ops.gen_manip_ops', 'tensorflow.python.ops.math_grad', 'tensorflow.python.ops.random_grad', 'tensorflow.python.ops.rnn_grad', 'tensorflow.python.ops.gen_rnn_ops', 'tensorflow.python.ops.sparse_grad', 'tensorflow.python.ops.state_grad', 'tensorflow.python.ops.tensor_array_grad', 'tensorflow.python.ops.special_math_ops', 'opt_einsum', 'opt_einsum.blas', 'opt_einsum.helpers', 'opt_einsum.parser', 'opt_einsum.paths', 'opt_einsum.path_random', 'opt_einsum.contract', 'opt_einsum.backends', 'opt_einsum.backends.cupy', 'opt_einsum.sharing', 'opt_einsum.backends.dispatch', 'opt_einsum.backends.jax', 'opt_einsum.backends.tensorflow', 'opt_einsum.backends.theano', 'opt_einsum.backends.torch', 'opt_einsum._version', 'tensorflow.python.ops.gen_special_math_ops', 'tensorflow.python.eager.wrap_function', 'tensorflow.python.saved_model.nested_structure_coder', 'tensorflow.python.ops.batch_ops', 'tensorflow.python.ops.gen_batch_ops', 'tensorflow.python.ops.critical_section_ops', 'tensorflow.python.ops.gradients', 'tensorflow.python.eager.forwardprop', 'tensorflow.python.ops.gradients_impl', 'tensorflow.python.ops.control_flow_grad', 'tensorflow.python.ops.image_grad', 'tensorflow.python.ops.gen_image_ops', 'tensorflow.python.ops.linalg_grad', 'tensorflow.python.ops.linalg', 'tensorflow.python.ops.linalg.linalg_impl', 'tensorflow.python.ops.optional_grad', 'tensorflow.python.ops.histogram_ops', 'tensorflow.python.ops.lookup_ops', 'tensorflow.python.ops.gen_lookup_ops', 'tensorflow.python.ops.numerics', 'tensorflow.python.ops.partitioned_variables', 'tensorflow.python.ops.proto_ops', 'tensorflow.python.ops.gen_decode_proto_ops', 'tensorflow.python.ops.gen_encode_proto_ops', 'tensorflow.python.ops.stateless_random_ops', 'tensorflow.python.ops.template', 'tensorflow.python.training.tracking.util', 'tensorflow.python.training.saving.functional_saver', 'tensorflow.python.training.saving.saveable_hook', 'tensorflow.python.training.tracking.graph_view', 'tensorflow.python.training.optimizer', 'tensorflow.python.training.slot_creator', 'tensorflow.python.ops.parallel_for', 'tensorflow.python.ops.parallel_for.control_flow_ops', 'tensorflow.python.ops.parallel_for.pfor', 'tensorflow.python.ops.gen_spectral_ops', 'tensorflow.python.ops.parallel_for.gradients', 'tensorflow.python.compiler.tensorrt', 'tensorflow.python.compiler.tensorrt.trt_convert', 'tensorflow.python.framework.convert_to_constants', 'tensorflow.python.grappler', 'tensorflow.python.grappler.tf_optimizer', 'tensorflow.python._pywrap_tf_optimizer', 'tensorflow.python.grappler.cluster', 'tensorflow.core.grappler', 'tensorflow.core.grappler.costs', 'tensorflow.core.grappler.costs.op_performance_data_pb2', 'tensorflow.core.protobuf.device_properties_pb2', 'tensorflow.python._pywrap_tf_cluster', 'tensorflow.python.saved_model.builder', 'tensorflow.python.saved_model.builder_impl', 'tensorflow.core.protobuf.saved_model_pb2', 'tensorflow.python.saved_model.constants', 'tensorflow.python.saved_model.signature_def_utils', 'tensorflow.python.saved_model.signature_def_utils_impl', 'tensorflow.python.saved_model.signature_constants', 'tensorflow.python.saved_model.utils_impl', 'tensorflow.python.saved_model.load', 'tensorflow.python.saved_model.function_deserialization', 'tensorflow.python.framework.function_def_to_graph', 'tensorflow.python.saved_model.load_v1_in_v2', 'tensorflow.python.saved_model.loader_impl', 'tensorflow.python.saved_model.signature_serialization', 'tensorflow.python.saved_model.function_serialization', 'tensorflow.python.training.monitored_session', 'tensorflow.python.ops.resources', 'tensorflow.python.summary.summary', 'google.protobuf.json_format', 'tensorflow.python.training.queue_runner', 'tensorflow.python.training.queue_runner_impl', 'tensorflow.core.protobuf.queue_runner_pb2', 'tensorflow.python.training.session_manager', 'tensorflow.python.saved_model.loader', 'tensorflow.python.saved_model.save', 'tensorflow.python.saved_model.save_options', 'tensorflow.python.saved_model.tag_constants', 'tensorflow.compiler.tf2tensorrt', 'tensorflow.compiler.tf2tensorrt.ops', 'tensorflow.compiler.tf2tensorrt.ops.gen_trt_ops', 'tensorflow.python.ops.initializers_ns', 'tensorflow.python.keras', 'tensorflow.python.keras.models', 'tensorflow.python.keras.backend', 'tensorflow.python.distribute.distribute_coordinator', 'tensorflow.python.keras.backend_config', 'tensorflow.python.ops.image_ops', 'tensorflow.python.ops.image_ops_impl', 'tensorflow.python.training.moving_averages', 'tensorflow.python.keras.metrics', 'tensorflow.python.keras.engine', 'tensorflow.python.keras.engine.base_layer', 'tensorflow.python.keras.constraints', 'tensorflow.python.keras.utils', 'tensorflow.python.keras.utils.generic_utils', 'tensorflow.python.keras.initializers', 'tensorflow.python.ops.init_ops_v2', 'tensorflow.python.keras.regularizers', 'tensorflow.python.keras.engine.base_layer_utils', 'tensorflow.python.keras.engine.input_spec', 'tensorflow.python.keras.engine.node', 'tensorflow.python.keras.mixed_precision', 'tensorflow.python.keras.mixed_precision.experimental', 'tensorflow.python.keras.mixed_precision.experimental.autocast_variable', 'tensorflow.python.keras.mixed_precision.experimental.loss_scale_optimizer', 'tensorflow.python.keras.optimizers', 'tensorflow.python.keras.optimizer_v2', 'tensorflow.python.keras.optimizer_v2.adadelta', 'tensorflow.python.keras.optimizer_v2.optimizer_v2', 'tensorflow.python.keras.optimizer_v2.learning_rate_schedule', 'tensorflow.python.keras.utils.tf_utils', 'tensorflow.python.training.training_ops', 'tensorflow.python.training.gen_training_ops', 'tensorflow.python.keras.optimizer_v2.adagrad', 'tensorflow.python.keras.optimizer_v2.adam', 'tensorflow.python.keras.optimizer_v2.adamax', 'tensorflow.python.keras.optimizer_v2.ftrl', 'tensorflow.python.keras.optimizer_v2.gradient_descent', 'tensorflow.python.keras.optimizer_v2.nadam', 'tensorflow.python.keras.optimizer_v2.rmsprop', 'tensorflow.python.keras.mixed_precision.experimental.loss_scale', 'tensorflow.python.keras.mixed_precision.experimental.policy', 'tensorflow.python.keras.mixed_precision.experimental.device_compatibility_check', 'tensorflow.python.framework.gpu_util', 'tensorflow.python.keras.saving', 'tensorflow.python.keras.saving.saved_model', 'tensorflow.python.keras.saving.saved_model.layer_serialization', 'tensorflow.python.keras.saving.saved_model.base_serialization', 'tensorflow.python.keras.saving.saved_model.json_utils', 'tensorflow.python.util.serialization', 'tensorflow.python.keras.saving.saved_model.constants', 'tensorflow.python.keras.saving.saved_model.save_impl', 'tensorflow.python.keras.saving.saving_utils', 'tensorflow.python.keras.losses', 'tensorflow.python.keras.utils.losses_utils', 'tensorflow.python.keras.utils.io_utils', 'h5py', 'h5py._errors', 'h5py._hl', 'h5py._hl.compat', 'h5py.version', 'h5py.h5', '_cython_0_29_13', 'h5py.defs', 'h5py._objects', 'h5py._conv', 'h5py.h5r', 'h5py.h5t', 'h5py.utils', 'h5py.h5py_warnings', 'h5py.h5z', 'h5py.h5a', 'h5py.h5s', 'h5py.h5p', 'h5py.h5ac', 'h5py._proxy', 'h5py.h5d', 'h5py.h5ds', 'h5py.h5f', 'h5py.h5g', 'h5py.h5i', 'h5py.h5fd', 'h5py.h5pl', 'h5py._hl.filters', 'h5py._hl.base', 'h5py._hl.files', 'h5py._hl.group', 'h5py.h5o', 'h5py.h5l', 'h5py._hl.dataset', 'h5py._hl.selections', 'h5py._hl.selections2', 'h5py._hl.datatype', 'h5py._hl.vds', 'h5py._hl.attrs', 'tensorflow.python.keras.saving.saved_model.load', 'tensorflow.python.keras.saving.saved_model.utils', 'tensorflow.python.keras.saving.saved_model.serialized_attributes', 'tensorflow.python.keras.utils.metrics_utils', 'tensorflow.python.keras.utils.layer_utils', 'tensorflow.python.keras.utils.conv_utils', 'tensorflow.python.keras.utils.version_utils', 'tensorflow.python.module', 'tensorflow.python.module.module', 'tensorflow.python.keras.saving.saved_model.metric_serialization', 'tensorflow.python.keras.engine.network', 'tensorflow.python.keras.engine.compile_utils', 'tensorflow.python.keras.engine.input_layer', 'tensorflow.python.keras.distribute', 'tensorflow.python.keras.distribute.distributed_training_utils', 'tensorflow.python.keras.callbacks', 'tensorflow.python.distribute.distributed_file_utils', 'tensorflow.python.keras.distribute.multi_worker_training_state', 'tensorflow.python.keras.utils.mode_keys', 'tensorflow.python.saved_model.model_utils', 'tensorflow.python.saved_model.model_utils.export_output', 'tensorflow.python.saved_model.model_utils.export_utils', 'tensorflow.python.saved_model.model_utils.mode_keys', 'tensorflow.python.keras.utils.data_utils', 'multiprocessing.dummy', 'multiprocessing.dummy.connection', 'tensorflow.python.profiler.profiler_v2', 'tensorflow.python.keras.engine.training_utils', 'tensorflow.python.framework.composite_tensor_utils', 'tensorflow.python.keras.saving.hdf5_format', 'tensorflow.python.keras.saving.model_config', 'tensorflow.python.keras.saving.save', 'tensorflow.python.keras.saving.saved_model.save', 'tensorflow.python.keras.saving.saved_model.network_serialization', 'tensorflow.python.keras.engine.sequential', 'tensorflow.python.keras.layers', 'tensorflow.python.keras.engine.base_preprocessing_layer', 'tensorflow.python.keras.engine.training_generator', 'tensorflow.python.keras.layers.preprocessing', 'tensorflow.python.keras.layers.preprocessing.image_preprocessing', 'tensorflow.python.ops.stateful_random_ops', 'tensorflow.python.ops.gen_stateful_random_ops', 'tensorflow.python.keras.layers.preprocessing.normalization', 'tensorflow.python.keras.layers.preprocessing.normalization_v1', 'tensorflow.python.keras.engine.base_preprocessing_layer_v1', 'tensorflow.python.keras.layers.preprocessing.text_vectorization', 'tensorflow.python.keras.layers.preprocessing.categorical_encoding', 'tensorflow.python.keras.layers.preprocessing.index_lookup', 'tensorflow.python.keras.layers.preprocessing.text_vectorization_v1', 'tensorflow.python.keras.layers.preprocessing.categorical_encoding_v1', 'tensorflow.python.keras.layers.preprocessing.index_lookup_v1', 'tensorflow.python.keras.layers.advanced_activations', 'tensorflow.python.keras.layers.convolutional', 'tensorflow.python.keras.activations', 'tensorflow.python.keras.layers.pooling', 'tensorflow.python.keras.layers.core', 'tensorflow.python.keras.layers.dense_attention', 'tensorflow.python.keras.layers.embeddings', 'tensorflow.python.keras.layers.local', 'tensorflow.python.keras.layers.merge', 'tensorflow.python.keras.layers.noise', 'tensorflow.python.keras.layers.normalization', 'tensorflow.python.keras.layers.normalization_v2', 'tensorflow.python.keras.layers.kernelized', 'tensorflow.python.keras.layers.recurrent', 'tensorflow.python.keras.layers.recurrent_v2', 'tensorflow.python.keras.layers.convolutional_recurrent', 'tensorflow.python.keras.layers.cudnn_recurrent', 'tensorflow.python.keras.layers.wrappers', 'tensorflow.python.keras.layers.rnn_cell_wrapper_v2', 'tensorflow.python.ops.rnn_cell_wrapper_impl', 'tensorflow.python.keras.layers.serialization', 'tensorflow.python.keras.engine.training', 'tensorflow.python.keras.engine.data_adapter', 'pandas', 'pytz', 'pytz.exceptions', 'pytz.lazy', 'pytz.tzinfo', 'pytz.tzfile', 'pandas.compat', 'pandas.compat.numpy', 'pandas._libs', 'pandas._libs.tslibs', 'pandas._libs.tslibs.conversion', 'pandas._libs.tslibs.c_timestamp', '_cython_0_28_2', 'pandas._libs.tslibs.nattype', 'pandas._libs.tslibs.np_datetime', 'pandas._libs.tslibs.timezones', 'pandas._libs.tslibs.tzconversion', 'pandas._libs.tslibs.timedeltas', 'pandas._libs.tslibs.offsets', 'pandas._libs.tslibs.ccalendar', 'pandas._config', 'pandas._config.config', 'pandas._config.dates', 'pandas._config.display', 'pandas._config.localization', 'pandas._libs.tslibs.strptime', 'pandas._libs.tslibs.fields', 'pandas._libs.tslibs.parsing', 'pandas._libs.tslibs.period', 'pandas._libs.tslibs.frequencies', 'pandas._libs.tslibs.timestamps', 'pandas._libs.tslibs.resolution', 'pandas._libs.hashtable', 'pandas._libs.missing', 'pandas._libs.lib', 'pandas._libs.tslib', 'pandas.core', 'pandas.core.config_init', 'pandas.core.api', 'pandas.core.arrays', 'pandas.core.arrays.array_', 'pandas.core.dtypes', 'pandas.core.dtypes.common', 'pandas._libs.algos', 'pandas.core.dtypes.dtypes', 'pandas._libs.interval', 'pandas.core.dtypes.generic', 'pandas.core.dtypes.base', 'pandas.errors', 'pandas.core.dtypes.inference', 'pandas._typing', 'pandas.core.arrays.base', 'pandas.compat.numpy.function', 'pandas.util', 'pandas.util._decorators', 'pandas._libs.properties', 'pandas.core.util', 'pandas.core.util.hashing', 'pandas._libs.hashing', 'pandas.core.dtypes.cast', 'pandas.core.dtypes.missing', 'pandas.util._validators', 'pandas.core.ops', 'pandas._libs.ops', 'pandas.core.common', 'pandas.core.ops.missing', 'pandas.core.ops.roperator', 'pandas.core.ops.docstrings', 'pandas.core.sorting', 'pandas.core.algorithms', 'pandas.core.indexers', 'pandas.core.arrays.categorical', 'pandas.core.accessor', 'pandas.core.base', 'pandas.core.nanops', 'pandas.compat._optional', 'bottleneck', 'bottleneck.reduce', 'bottleneck.nonreduce', 'bottleneck.nonreduce_axis', 'bottleneck.move', 'bottleneck.slow', 'bottleneck.slow.reduce', 'bottleneck.slow.nonreduce', 'bottleneck.slow.nonreduce_axis', 'bottleneck.slow.move', 'bottleneck.version', 'bottleneck.benchmark', 'bottleneck.benchmark.bench', 'bottleneck.benchmark.autotimeit', 'bottleneck.benchmark.bench_detailed', 'bottleneck.tests', 'bottleneck.tests.util', 'pandas.core.missing', 'pandas.io', 'pandas.io.formats', 'pandas.io.formats.console', 'pandas.core.arrays.datetimes', 'pandas.core.arrays.datetimelike', 'pandas.tseries', 'pandas.tseries.frequencies', 'pandas.tseries.offsets', 'dateutil.easter', 'pandas.core.tools', 'pandas.core.tools.datetimes', 'pandas.core.arrays._ranges', 'pandas.core.arrays.integer', 'pandas.core.tools.numeric', 'pandas.core.arrays.interval', 'pandas.core.indexes', 'pandas.core.indexes.base', 'pandas._libs.index', 'pandas._libs.join', 'pandas.core.dtypes.concat', 'pandas.core.indexes.frozen', 'pandas.io.formats.printing', 'pandas.core.strings', 'pandas.core.arrays.numpy_', 'pandas.core.arrays.period', 'pandas.core.arrays.sparse', 'pandas._libs.sparse', 'pandas.core.arrays.timedeltas', 'pandas.core.groupby', 'pandas.core.groupby.generic', 'pandas.core.frame', 'pandas.core.generic', 'pandas.core.index', 'pandas.core.indexes.api', 'pandas.core.indexes.category', 'pandas.core.indexes.datetimes', 'pandas.core.indexes.datetimelike', 'pandas.core.tools.timedeltas', 'pandas.core.indexes.numeric', 'pandas.core.indexes.interval', 'pandas.util._exceptions', 'pandas.core.indexes.multi', 'pandas.core.indexes.timedeltas', 'pandas.core.indexes.period', 'pandas.core.indexes.range', 'pandas.core.indexing', 'pandas._libs.indexing', 'pandas.core.internals', 'pandas.core.internals.blocks', 'pandas._libs.internals', 'pandas.core.internals.arrays', 'pandas.core.internals.managers', 'pandas.core.internals.concat', 'pandas.io.formats.format', 'pandas.io.common', 'pandas.core.internals.construction', 'pandas.core.series', 'pandas._libs.reshape', 'pandas.core.indexes.accessors', 'pandas.plotting', 'pandas.plotting._core', 'pandas.plotting._matplotlib', 'pandas.plotting._matplotlib.boxplot', 'matplotlib', 'matplotlib.cbook', 'matplotlib.cbook.deprecation', 'matplotlib.rcsetup', 'matplotlib.fontconfig_pattern', 'pyparsing', 'matplotlib.colors', 'matplotlib._color_data', 'cycler', 'matplotlib._version']\n",
            "I0914 16:51:05.916604 140604938979136 __init__.py:415] CACHEDIR=/home/ubuntu/.cache/matplotlib\n",
            "I0914 16:51:05.918007 140604938979136 font_manager.py:1362] Using fontManager instance from /home/ubuntu/.cache/matplotlib/fontlist-v300.json\n"
          ]
        },
        {
          "data": {
            "application/vnd.jupyter.widget-view+json": {
              "model_id": "57d858ebdc1c4ecebb07d80fb903544b",
              "version_major": 2,
              "version_minor": 0
            },
            "text/plain": [
              "HBox(children=(IntProgress(value=0, description='Epoch', max=10, style=ProgressStyle(description_width='initia…"
            ]
          },
          "metadata": {},
          "output_type": "display_data"
        },
        {
          "data": {
            "application/vnd.jupyter.widget-view+json": {
              "model_id": "881ce66421284074b023063be31a161e",
              "version_major": 2,
              "version_minor": 0
            },
            "text/plain": [
              "HBox(children=(IntProgress(value=0, description='Iteration', max=5632, style=ProgressStyle(description_width='…"
            ]
          },
          "metadata": {},
          "output_type": "display_data"
        }
      ],
      "source": [
        "response = model.fit(train_dataloader=train_dataloader,\n",
        "          epochs=num_epochs,\n",
        "          warmup_steps=warmup_steps, \n",
        "          evaluator=evaluator, \n",
        "          evaluation_steps=500,\n",
        "            callback = testModel,\n",
        "          output_path=\"models\")\n",
        "\n",
        "\n",
        "\n",
        "# evaluator2 = evaluation.BinaryClassificationEvaluator ([row[0] for row in train[0:10000]], \n",
        "#                 [row[1] for row in train[0:10000]], \n",
        "#                 [row[2] for row in train[0:10000]], \n",
        "#                 show_progress_bar = True)\n",
        "# evaluator2(model)#0.9179824272299182"
      ]
    },
    {
      "cell_type": "code",
      "execution_count": null,
      "metadata": {
        "colab": {
          "base_uri": "https://localhost:8080/"
        },
        "id": "mcxXxZJF_S9k",
        "outputId": "09c36647-30c0-43ad-bd20-2f43172a14f7"
      },
      "outputs": [
        {
          "data": {
            "text/plain": [
              "0.9666181938058408"
            ]
          },
          "execution_count": 14,
          "metadata": {},
          "output_type": "execute_result"
        }
      ],
      "source": [
        "evaluator(model)\n"
      ]
    },
    {
      "cell_type": "code",
      "execution_count": null,
      "metadata": {
        "colab": {
          "base_uri": "https://localhost:8080/"
        },
        "id": "Q7ri0nrhGhvb",
        "outputId": "2a620300-8079-43ca-aceb-30eebb2e5649"
      },
      "outputs": [
        {
          "data": {
            "text/plain": [
              "0.10241470481115691"
            ]
          },
          "execution_count": 15,
          "metadata": {},
          "output_type": "execute_result"
        }
      ],
      "source": [
        "evaluatortest(model)"
      ]
    },
    {
      "cell_type": "code",
      "execution_count": null,
      "metadata": {
        "id": "hXljUuAPKFOb"
      },
      "outputs": [],
      "source": [
        "evaluatorAll(model)"
      ]
    },
    {
      "cell_type": "code",
      "execution_count": null,
      "metadata": {
        "colab": {
          "base_uri": "https://localhost:8080/"
        },
        "id": "dfkQYSi2GJ_U",
        "outputId": "71fd015e-8f48-4843-fe9e-2eed78538df0"
      },
      "outputs": [
        {
          "data": {
            "text/plain": [
              "(0.00033773977, 0)"
            ]
          },
          "execution_count": 8,
          "metadata": {},
          "output_type": "execute_result"
        }
      ],
      "source": [
        "i=300\n",
        "model.predict([train[i][0],train[i][1]]),train[i][2]"
      ]
    },
    {
      "cell_type": "code",
      "execution_count": null,
      "metadata": {
        "colab": {
          "base_uri": "https://localhost:8080/"
        },
        "id": "j5E0NTs7TfeM",
        "outputId": "e5af28b2-c1ae-4aa7-eea7-113f05749d03"
      },
      "outputs": [
        {
          "data": {
            "text/plain": [
              "0.95272636"
            ]
          },
          "execution_count": 19,
          "metadata": {},
          "output_type": "execute_result"
        }
      ],
      "source": [
        "model.predict([\"The college placement \",\"The college has 100% placement record. The highest package offered is 1.25 Crore per annum, and the lowest package is 4 LPA, and the average package is around 12-15 LPA. The top recruiter is Goldman Sachs. About 30% of students got internships. But the internships for branches like CSE, IT, etc., is more than 80%. Students also got PPO offers. Software developer is the top role offered.\"])\n",
        "## add min limit in sent rand step, and in case < 5 words match, add as 0, \n"
      ]
    },
    {
      "cell_type": "code",
      "execution_count": null,
      "metadata": {
        "id": "P1yb4_1bUA_w"
      },
      "outputs": [],
      "source": [
        "# https://colab.research.google.com/github/UKPLab/sentence-transformers/blob/master/examples/applications/retrieve_rerank/retrieve_rerank_simple_wikipedia.ipynb"
      ]
    }
  ],
  "metadata": {
    "colab": {
      "collapsed_sections": [],
      "provenance": []
    },
    "gpuClass": "standard",
    "kernelspec": {
      "display_name": "Python 3",
      "language": "python",
      "name": "python3"
    },
    "language_info": {
      "codemirror_mode": {
        "name": "ipython",
        "version": 3
      },
      "file_extension": ".py",
      "mimetype": "text/x-python",
      "name": "python",
      "nbconvert_exporter": "python",
      "pygments_lexer": "ipython3",
      "version": "3.7.3"
    },
    "widgets": {
      "application/vnd.jupyter.widget-state+json": {
        "08cbac32233046ce8a63e0953e63e9fe": {
          "model_module": "@jupyter-widgets/controls",
          "model_module_version": "1.5.0",
          "model_name": "ProgressStyleModel",
          "state": {
            "_model_module": "@jupyter-widgets/controls",
            "_model_module_version": "1.5.0",
            "_model_name": "ProgressStyleModel",
            "_view_count": null,
            "_view_module": "@jupyter-widgets/base",
            "_view_module_version": "1.2.0",
            "_view_name": "StyleView",
            "bar_color": null,
            "description_width": ""
          }
        },
        "11c23ef21acc4d1c936295a523488785": {
          "model_module": "@jupyter-widgets/base",
          "model_module_version": "1.2.0",
          "model_name": "LayoutModel",
          "state": {
            "_model_module": "@jupyter-widgets/base",
            "_model_module_version": "1.2.0",
            "_model_name": "LayoutModel",
            "_view_count": null,
            "_view_module": "@jupyter-widgets/base",
            "_view_module_version": "1.2.0",
            "_view_name": "LayoutView",
            "align_content": null,
            "align_items": null,
            "align_self": null,
            "border": null,
            "bottom": null,
            "display": null,
            "flex": null,
            "flex_flow": null,
            "grid_area": null,
            "grid_auto_columns": null,
            "grid_auto_flow": null,
            "grid_auto_rows": null,
            "grid_column": null,
            "grid_gap": null,
            "grid_row": null,
            "grid_template_areas": null,
            "grid_template_columns": null,
            "grid_template_rows": null,
            "height": null,
            "justify_content": null,
            "justify_items": null,
            "left": null,
            "margin": null,
            "max_height": null,
            "max_width": null,
            "min_height": null,
            "min_width": null,
            "object_fit": null,
            "object_position": null,
            "order": null,
            "overflow": null,
            "overflow_x": null,
            "overflow_y": null,
            "padding": null,
            "right": null,
            "top": null,
            "visibility": null,
            "width": null
          }
        },
        "21d6e0d41b3342d0825de4d2c839dd90": {
          "model_module": "@jupyter-widgets/controls",
          "model_module_version": "1.5.0",
          "model_name": "DescriptionStyleModel",
          "state": {
            "_model_module": "@jupyter-widgets/controls",
            "_model_module_version": "1.5.0",
            "_model_name": "DescriptionStyleModel",
            "_view_count": null,
            "_view_module": "@jupyter-widgets/base",
            "_view_module_version": "1.2.0",
            "_view_name": "StyleView",
            "description_width": ""
          }
        },
        "23c98d8c41f74de79616bd3ee56de1fb": {
          "model_module": "@jupyter-widgets/controls",
          "model_module_version": "1.5.0",
          "model_name": "DescriptionStyleModel",
          "state": {
            "_model_module": "@jupyter-widgets/controls",
            "_model_module_version": "1.5.0",
            "_model_name": "DescriptionStyleModel",
            "_view_count": null,
            "_view_module": "@jupyter-widgets/base",
            "_view_module_version": "1.2.0",
            "_view_name": "StyleView",
            "description_width": ""
          }
        },
        "27db5435feb348d4bae4be611eca91bc": {
          "model_module": "@jupyter-widgets/base",
          "model_module_version": "1.2.0",
          "model_name": "LayoutModel",
          "state": {
            "_model_module": "@jupyter-widgets/base",
            "_model_module_version": "1.2.0",
            "_model_name": "LayoutModel",
            "_view_count": null,
            "_view_module": "@jupyter-widgets/base",
            "_view_module_version": "1.2.0",
            "_view_name": "LayoutView",
            "align_content": null,
            "align_items": null,
            "align_self": null,
            "border": null,
            "bottom": null,
            "display": null,
            "flex": null,
            "flex_flow": null,
            "grid_area": null,
            "grid_auto_columns": null,
            "grid_auto_flow": null,
            "grid_auto_rows": null,
            "grid_column": null,
            "grid_gap": null,
            "grid_row": null,
            "grid_template_areas": null,
            "grid_template_columns": null,
            "grid_template_rows": null,
            "height": null,
            "justify_content": null,
            "justify_items": null,
            "left": null,
            "margin": null,
            "max_height": null,
            "max_width": null,
            "min_height": null,
            "min_width": null,
            "object_fit": null,
            "object_position": null,
            "order": null,
            "overflow": null,
            "overflow_x": null,
            "overflow_y": null,
            "padding": null,
            "right": null,
            "top": null,
            "visibility": null,
            "width": null
          }
        },
        "28868bd0250a425eb7ccbe8adcfa5204": {
          "model_module": "@jupyter-widgets/base",
          "model_module_version": "1.2.0",
          "model_name": "LayoutModel",
          "state": {
            "_model_module": "@jupyter-widgets/base",
            "_model_module_version": "1.2.0",
            "_model_name": "LayoutModel",
            "_view_count": null,
            "_view_module": "@jupyter-widgets/base",
            "_view_module_version": "1.2.0",
            "_view_name": "LayoutView",
            "align_content": null,
            "align_items": null,
            "align_self": null,
            "border": null,
            "bottom": null,
            "display": null,
            "flex": null,
            "flex_flow": null,
            "grid_area": null,
            "grid_auto_columns": null,
            "grid_auto_flow": null,
            "grid_auto_rows": null,
            "grid_column": null,
            "grid_gap": null,
            "grid_row": null,
            "grid_template_areas": null,
            "grid_template_columns": null,
            "grid_template_rows": null,
            "height": null,
            "justify_content": null,
            "justify_items": null,
            "left": null,
            "margin": null,
            "max_height": null,
            "max_width": null,
            "min_height": null,
            "min_width": null,
            "object_fit": null,
            "object_position": null,
            "order": null,
            "overflow": null,
            "overflow_x": null,
            "overflow_y": null,
            "padding": null,
            "right": null,
            "top": null,
            "visibility": null,
            "width": null
          }
        },
        "2d07014ce7644fc0bd914d7f49703300": {
          "model_module": "@jupyter-widgets/controls",
          "model_module_version": "1.5.0",
          "model_name": "DescriptionStyleModel",
          "state": {
            "_model_module": "@jupyter-widgets/controls",
            "_model_module_version": "1.5.0",
            "_model_name": "DescriptionStyleModel",
            "_view_count": null,
            "_view_module": "@jupyter-widgets/base",
            "_view_module_version": "1.2.0",
            "_view_name": "StyleView",
            "description_width": ""
          }
        },
        "3158c32774ee436c949ed9c3c7b46bb7": {
          "model_module": "@jupyter-widgets/base",
          "model_module_version": "1.2.0",
          "model_name": "LayoutModel",
          "state": {
            "_model_module": "@jupyter-widgets/base",
            "_model_module_version": "1.2.0",
            "_model_name": "LayoutModel",
            "_view_count": null,
            "_view_module": "@jupyter-widgets/base",
            "_view_module_version": "1.2.0",
            "_view_name": "LayoutView",
            "align_content": null,
            "align_items": null,
            "align_self": null,
            "border": null,
            "bottom": null,
            "display": null,
            "flex": null,
            "flex_flow": null,
            "grid_area": null,
            "grid_auto_columns": null,
            "grid_auto_flow": null,
            "grid_auto_rows": null,
            "grid_column": null,
            "grid_gap": null,
            "grid_row": null,
            "grid_template_areas": null,
            "grid_template_columns": null,
            "grid_template_rows": null,
            "height": null,
            "justify_content": null,
            "justify_items": null,
            "left": null,
            "margin": null,
            "max_height": null,
            "max_width": null,
            "min_height": null,
            "min_width": null,
            "object_fit": null,
            "object_position": null,
            "order": null,
            "overflow": null,
            "overflow_x": null,
            "overflow_y": null,
            "padding": null,
            "right": null,
            "top": null,
            "visibility": null,
            "width": null
          }
        },
        "3720a24bb8dd458db7130c8873c348e9": {
          "model_module": "@jupyter-widgets/base",
          "model_module_version": "1.2.0",
          "model_name": "LayoutModel",
          "state": {
            "_model_module": "@jupyter-widgets/base",
            "_model_module_version": "1.2.0",
            "_model_name": "LayoutModel",
            "_view_count": null,
            "_view_module": "@jupyter-widgets/base",
            "_view_module_version": "1.2.0",
            "_view_name": "LayoutView",
            "align_content": null,
            "align_items": null,
            "align_self": null,
            "border": null,
            "bottom": null,
            "display": null,
            "flex": null,
            "flex_flow": null,
            "grid_area": null,
            "grid_auto_columns": null,
            "grid_auto_flow": null,
            "grid_auto_rows": null,
            "grid_column": null,
            "grid_gap": null,
            "grid_row": null,
            "grid_template_areas": null,
            "grid_template_columns": null,
            "grid_template_rows": null,
            "height": null,
            "justify_content": null,
            "justify_items": null,
            "left": null,
            "margin": null,
            "max_height": null,
            "max_width": null,
            "min_height": null,
            "min_width": null,
            "object_fit": null,
            "object_position": null,
            "order": null,
            "overflow": null,
            "overflow_x": null,
            "overflow_y": null,
            "padding": null,
            "right": null,
            "top": null,
            "visibility": null,
            "width": null
          }
        },
        "4d56f3fcda8a46f2a4abca17436ab177": {
          "model_module": "@jupyter-widgets/controls",
          "model_module_version": "1.5.0",
          "model_name": "HBoxModel",
          "state": {
            "_dom_classes": [],
            "_model_module": "@jupyter-widgets/controls",
            "_model_module_version": "1.5.0",
            "_model_name": "HBoxModel",
            "_view_count": null,
            "_view_module": "@jupyter-widgets/controls",
            "_view_module_version": "1.5.0",
            "_view_name": "HBoxView",
            "box_style": "",
            "children": [
              "IPY_MODEL_bff3770dc92042f9888661980939fa6d",
              "IPY_MODEL_aec7a226bca847ea91ff72ff1294fd3d",
              "IPY_MODEL_5cb0f1e6be0a47e295a88c2fe87b1b3e"
            ],
            "layout": "IPY_MODEL_956307948974420cb7c563e61576cb87"
          }
        },
        "57212ff8bceb4e93b632477b968fd106": {
          "model_module": "@jupyter-widgets/controls",
          "model_module_version": "1.5.0",
          "model_name": "HTMLModel",
          "state": {
            "_dom_classes": [],
            "_model_module": "@jupyter-widgets/controls",
            "_model_module_version": "1.5.0",
            "_model_name": "HTMLModel",
            "_view_count": null,
            "_view_module": "@jupyter-widgets/controls",
            "_view_module_version": "1.5.0",
            "_view_name": "HTMLView",
            "description": "",
            "description_tooltip": null,
            "layout": "IPY_MODEL_27db5435feb348d4bae4be611eca91bc",
            "placeholder": "​",
            "style": "IPY_MODEL_2d07014ce7644fc0bd914d7f49703300",
            "value": "Epoch:  10%"
          }
        },
        "5ca438dabca8407b85be1575c14ea25b": {
          "model_module": "@jupyter-widgets/controls",
          "model_module_version": "1.5.0",
          "model_name": "DescriptionStyleModel",
          "state": {
            "_model_module": "@jupyter-widgets/controls",
            "_model_module_version": "1.5.0",
            "_model_name": "DescriptionStyleModel",
            "_view_count": null,
            "_view_module": "@jupyter-widgets/base",
            "_view_module_version": "1.2.0",
            "_view_name": "StyleView",
            "description_width": ""
          }
        },
        "5cb0f1e6be0a47e295a88c2fe87b1b3e": {
          "model_module": "@jupyter-widgets/controls",
          "model_module_version": "1.5.0",
          "model_name": "HTMLModel",
          "state": {
            "_dom_classes": [],
            "_model_module": "@jupyter-widgets/controls",
            "_model_module_version": "1.5.0",
            "_model_name": "HTMLModel",
            "_view_count": null,
            "_view_module": "@jupyter-widgets/controls",
            "_view_module_version": "1.5.0",
            "_view_name": "HTMLView",
            "description": "",
            "description_tooltip": null,
            "layout": "IPY_MODEL_3158c32774ee436c949ed9c3c7b46bb7",
            "placeholder": "​",
            "style": "IPY_MODEL_21d6e0d41b3342d0825de4d2c839dd90",
            "value": " 6250/6250 [11:32&lt;00:00, 10.07it/s]"
          }
        },
        "6c6f0b90cc2b43479100e9532430ddc6": {
          "model_module": "@jupyter-widgets/base",
          "model_module_version": "1.2.0",
          "model_name": "LayoutModel",
          "state": {
            "_model_module": "@jupyter-widgets/base",
            "_model_module_version": "1.2.0",
            "_model_name": "LayoutModel",
            "_view_count": null,
            "_view_module": "@jupyter-widgets/base",
            "_view_module_version": "1.2.0",
            "_view_name": "LayoutView",
            "align_content": null,
            "align_items": null,
            "align_self": null,
            "border": null,
            "bottom": null,
            "display": null,
            "flex": null,
            "flex_flow": null,
            "grid_area": null,
            "grid_auto_columns": null,
            "grid_auto_flow": null,
            "grid_auto_rows": null,
            "grid_column": null,
            "grid_gap": null,
            "grid_row": null,
            "grid_template_areas": null,
            "grid_template_columns": null,
            "grid_template_rows": null,
            "height": null,
            "justify_content": null,
            "justify_items": null,
            "left": null,
            "margin": null,
            "max_height": null,
            "max_width": null,
            "min_height": null,
            "min_width": null,
            "object_fit": null,
            "object_position": null,
            "order": null,
            "overflow": null,
            "overflow_x": null,
            "overflow_y": null,
            "padding": null,
            "right": null,
            "top": null,
            "visibility": null,
            "width": null
          }
        },
        "7549303c56ac4ca1bcc90b2d6a1a2166": {
          "model_module": "@jupyter-widgets/controls",
          "model_module_version": "1.5.0",
          "model_name": "HBoxModel",
          "state": {
            "_dom_classes": [],
            "_model_module": "@jupyter-widgets/controls",
            "_model_module_version": "1.5.0",
            "_model_name": "HBoxModel",
            "_view_count": null,
            "_view_module": "@jupyter-widgets/controls",
            "_view_module_version": "1.5.0",
            "_view_name": "HBoxView",
            "box_style": "",
            "children": [
              "IPY_MODEL_57212ff8bceb4e93b632477b968fd106",
              "IPY_MODEL_9d95a091a6ac4b9087f3dbfc9dde9672",
              "IPY_MODEL_a03a837203c74c27970fc99af18f252b"
            ],
            "layout": "IPY_MODEL_d2dc17cb19b545ca8e05320112006adb"
          }
        },
        "872cb7d4bfa544feb5dde3c881285cc9": {
          "model_module": "@jupyter-widgets/controls",
          "model_module_version": "1.5.0",
          "model_name": "FloatProgressModel",
          "state": {
            "_dom_classes": [],
            "_model_module": "@jupyter-widgets/controls",
            "_model_module_version": "1.5.0",
            "_model_name": "FloatProgressModel",
            "_view_count": null,
            "_view_module": "@jupyter-widgets/controls",
            "_view_module_version": "1.5.0",
            "_view_name": "ProgressView",
            "bar_style": "danger",
            "description": "",
            "description_tooltip": null,
            "layout": "IPY_MODEL_ebe2e54d484244f6b2890a995e27225a",
            "max": 6250,
            "min": 0,
            "orientation": "horizontal",
            "style": "IPY_MODEL_8f46ba730212472f9f1957adac13c612",
            "value": 57
          }
        },
        "88978f7e26ae434e9906df75e9512bc0": {
          "model_module": "@jupyter-widgets/base",
          "model_module_version": "1.2.0",
          "model_name": "LayoutModel",
          "state": {
            "_model_module": "@jupyter-widgets/base",
            "_model_module_version": "1.2.0",
            "_model_name": "LayoutModel",
            "_view_count": null,
            "_view_module": "@jupyter-widgets/base",
            "_view_module_version": "1.2.0",
            "_view_name": "LayoutView",
            "align_content": null,
            "align_items": null,
            "align_self": null,
            "border": null,
            "bottom": null,
            "display": null,
            "flex": null,
            "flex_flow": null,
            "grid_area": null,
            "grid_auto_columns": null,
            "grid_auto_flow": null,
            "grid_auto_rows": null,
            "grid_column": null,
            "grid_gap": null,
            "grid_row": null,
            "grid_template_areas": null,
            "grid_template_columns": null,
            "grid_template_rows": null,
            "height": null,
            "justify_content": null,
            "justify_items": null,
            "left": null,
            "margin": null,
            "max_height": null,
            "max_width": null,
            "min_height": null,
            "min_width": null,
            "object_fit": null,
            "object_position": null,
            "order": null,
            "overflow": null,
            "overflow_x": null,
            "overflow_y": null,
            "padding": null,
            "right": null,
            "top": null,
            "visibility": null,
            "width": null
          }
        },
        "8f46ba730212472f9f1957adac13c612": {
          "model_module": "@jupyter-widgets/controls",
          "model_module_version": "1.5.0",
          "model_name": "ProgressStyleModel",
          "state": {
            "_model_module": "@jupyter-widgets/controls",
            "_model_module_version": "1.5.0",
            "_model_name": "ProgressStyleModel",
            "_view_count": null,
            "_view_module": "@jupyter-widgets/base",
            "_view_module_version": "1.2.0",
            "_view_name": "StyleView",
            "bar_color": null,
            "description_width": ""
          }
        },
        "956307948974420cb7c563e61576cb87": {
          "model_module": "@jupyter-widgets/base",
          "model_module_version": "1.2.0",
          "model_name": "LayoutModel",
          "state": {
            "_model_module": "@jupyter-widgets/base",
            "_model_module_version": "1.2.0",
            "_model_name": "LayoutModel",
            "_view_count": null,
            "_view_module": "@jupyter-widgets/base",
            "_view_module_version": "1.2.0",
            "_view_name": "LayoutView",
            "align_content": null,
            "align_items": null,
            "align_self": null,
            "border": null,
            "bottom": null,
            "display": null,
            "flex": null,
            "flex_flow": null,
            "grid_area": null,
            "grid_auto_columns": null,
            "grid_auto_flow": null,
            "grid_auto_rows": null,
            "grid_column": null,
            "grid_gap": null,
            "grid_row": null,
            "grid_template_areas": null,
            "grid_template_columns": null,
            "grid_template_rows": null,
            "height": null,
            "justify_content": null,
            "justify_items": null,
            "left": null,
            "margin": null,
            "max_height": null,
            "max_width": null,
            "min_height": null,
            "min_width": null,
            "object_fit": null,
            "object_position": null,
            "order": null,
            "overflow": null,
            "overflow_x": null,
            "overflow_y": null,
            "padding": null,
            "right": null,
            "top": null,
            "visibility": null,
            "width": null
          }
        },
        "9af5b6f44da54edc96709d24fabe21ff": {
          "model_module": "@jupyter-widgets/base",
          "model_module_version": "1.2.0",
          "model_name": "LayoutModel",
          "state": {
            "_model_module": "@jupyter-widgets/base",
            "_model_module_version": "1.2.0",
            "_model_name": "LayoutModel",
            "_view_count": null,
            "_view_module": "@jupyter-widgets/base",
            "_view_module_version": "1.2.0",
            "_view_name": "LayoutView",
            "align_content": null,
            "align_items": null,
            "align_self": null,
            "border": null,
            "bottom": null,
            "display": null,
            "flex": null,
            "flex_flow": null,
            "grid_area": null,
            "grid_auto_columns": null,
            "grid_auto_flow": null,
            "grid_auto_rows": null,
            "grid_column": null,
            "grid_gap": null,
            "grid_row": null,
            "grid_template_areas": null,
            "grid_template_columns": null,
            "grid_template_rows": null,
            "height": null,
            "justify_content": null,
            "justify_items": null,
            "left": null,
            "margin": null,
            "max_height": null,
            "max_width": null,
            "min_height": null,
            "min_width": null,
            "object_fit": null,
            "object_position": null,
            "order": null,
            "overflow": null,
            "overflow_x": null,
            "overflow_y": null,
            "padding": null,
            "right": null,
            "top": null,
            "visibility": null,
            "width": null
          }
        },
        "9b169a5302094d1eb5408530af66e3bb": {
          "model_module": "@jupyter-widgets/controls",
          "model_module_version": "1.5.0",
          "model_name": "HBoxModel",
          "state": {
            "_dom_classes": [],
            "_model_module": "@jupyter-widgets/controls",
            "_model_module_version": "1.5.0",
            "_model_name": "HBoxModel",
            "_view_count": null,
            "_view_module": "@jupyter-widgets/controls",
            "_view_module_version": "1.5.0",
            "_view_name": "HBoxView",
            "box_style": "",
            "children": [
              "IPY_MODEL_d28d8a05f191491b89221014ef20e8cd",
              "IPY_MODEL_872cb7d4bfa544feb5dde3c881285cc9",
              "IPY_MODEL_d2fdc871a12343f4824bed15770e827a"
            ],
            "layout": "IPY_MODEL_ebb4ba9bc188410bac595d334cb64821"
          }
        },
        "9d95a091a6ac4b9087f3dbfc9dde9672": {
          "model_module": "@jupyter-widgets/controls",
          "model_module_version": "1.5.0",
          "model_name": "FloatProgressModel",
          "state": {
            "_dom_classes": [],
            "_model_module": "@jupyter-widgets/controls",
            "_model_module_version": "1.5.0",
            "_model_name": "FloatProgressModel",
            "_view_count": null,
            "_view_module": "@jupyter-widgets/controls",
            "_view_module_version": "1.5.0",
            "_view_name": "ProgressView",
            "bar_style": "danger",
            "description": "",
            "description_tooltip": null,
            "layout": "IPY_MODEL_3720a24bb8dd458db7130c8873c348e9",
            "max": 10,
            "min": 0,
            "orientation": "horizontal",
            "style": "IPY_MODEL_b4e20643538a4325b4b6c4e784f9bd42",
            "value": 1
          }
        },
        "a03a837203c74c27970fc99af18f252b": {
          "model_module": "@jupyter-widgets/controls",
          "model_module_version": "1.5.0",
          "model_name": "HTMLModel",
          "state": {
            "_dom_classes": [],
            "_model_module": "@jupyter-widgets/controls",
            "_model_module_version": "1.5.0",
            "_model_name": "HTMLModel",
            "_view_count": null,
            "_view_module": "@jupyter-widgets/controls",
            "_view_module_version": "1.5.0",
            "_view_name": "HTMLView",
            "description": "",
            "description_tooltip": null,
            "layout": "IPY_MODEL_11c23ef21acc4d1c936295a523488785",
            "placeholder": "​",
            "style": "IPY_MODEL_5ca438dabca8407b85be1575c14ea25b",
            "value": " 1/10 [11:41&lt;1:44:11, 694.58s/it]"
          }
        },
        "aec7a226bca847ea91ff72ff1294fd3d": {
          "model_module": "@jupyter-widgets/controls",
          "model_module_version": "1.5.0",
          "model_name": "FloatProgressModel",
          "state": {
            "_dom_classes": [],
            "_model_module": "@jupyter-widgets/controls",
            "_model_module_version": "1.5.0",
            "_model_name": "FloatProgressModel",
            "_view_count": null,
            "_view_module": "@jupyter-widgets/controls",
            "_view_module_version": "1.5.0",
            "_view_name": "ProgressView",
            "bar_style": "success",
            "description": "",
            "description_tooltip": null,
            "layout": "IPY_MODEL_28868bd0250a425eb7ccbe8adcfa5204",
            "max": 6250,
            "min": 0,
            "orientation": "horizontal",
            "style": "IPY_MODEL_08cbac32233046ce8a63e0953e63e9fe",
            "value": 6250
          }
        },
        "b4e20643538a4325b4b6c4e784f9bd42": {
          "model_module": "@jupyter-widgets/controls",
          "model_module_version": "1.5.0",
          "model_name": "ProgressStyleModel",
          "state": {
            "_model_module": "@jupyter-widgets/controls",
            "_model_module_version": "1.5.0",
            "_model_name": "ProgressStyleModel",
            "_view_count": null,
            "_view_module": "@jupyter-widgets/base",
            "_view_module_version": "1.2.0",
            "_view_name": "StyleView",
            "bar_color": null,
            "description_width": ""
          }
        },
        "bff3770dc92042f9888661980939fa6d": {
          "model_module": "@jupyter-widgets/controls",
          "model_module_version": "1.5.0",
          "model_name": "HTMLModel",
          "state": {
            "_dom_classes": [],
            "_model_module": "@jupyter-widgets/controls",
            "_model_module_version": "1.5.0",
            "_model_name": "HTMLModel",
            "_view_count": null,
            "_view_module": "@jupyter-widgets/controls",
            "_view_module_version": "1.5.0",
            "_view_name": "HTMLView",
            "description": "",
            "description_tooltip": null,
            "layout": "IPY_MODEL_9af5b6f44da54edc96709d24fabe21ff",
            "placeholder": "​",
            "style": "IPY_MODEL_23c98d8c41f74de79616bd3ee56de1fb",
            "value": "Iteration: 100%"
          }
        },
        "c9ba57def25d4b7daf0d9b5ef5c6e9ec": {
          "model_module": "@jupyter-widgets/controls",
          "model_module_version": "1.5.0",
          "model_name": "DescriptionStyleModel",
          "state": {
            "_model_module": "@jupyter-widgets/controls",
            "_model_module_version": "1.5.0",
            "_model_name": "DescriptionStyleModel",
            "_view_count": null,
            "_view_module": "@jupyter-widgets/base",
            "_view_module_version": "1.2.0",
            "_view_name": "StyleView",
            "description_width": ""
          }
        },
        "d28d8a05f191491b89221014ef20e8cd": {
          "model_module": "@jupyter-widgets/controls",
          "model_module_version": "1.5.0",
          "model_name": "HTMLModel",
          "state": {
            "_dom_classes": [],
            "_model_module": "@jupyter-widgets/controls",
            "_model_module_version": "1.5.0",
            "_model_name": "HTMLModel",
            "_view_count": null,
            "_view_module": "@jupyter-widgets/controls",
            "_view_module_version": "1.5.0",
            "_view_name": "HTMLView",
            "description": "",
            "description_tooltip": null,
            "layout": "IPY_MODEL_88978f7e26ae434e9906df75e9512bc0",
            "placeholder": "​",
            "style": "IPY_MODEL_fc36f06dac7a4e4995884004c2974fb3",
            "value": "Iteration:   1%"
          }
        },
        "d2dc17cb19b545ca8e05320112006adb": {
          "model_module": "@jupyter-widgets/base",
          "model_module_version": "1.2.0",
          "model_name": "LayoutModel",
          "state": {
            "_model_module": "@jupyter-widgets/base",
            "_model_module_version": "1.2.0",
            "_model_name": "LayoutModel",
            "_view_count": null,
            "_view_module": "@jupyter-widgets/base",
            "_view_module_version": "1.2.0",
            "_view_name": "LayoutView",
            "align_content": null,
            "align_items": null,
            "align_self": null,
            "border": null,
            "bottom": null,
            "display": null,
            "flex": null,
            "flex_flow": null,
            "grid_area": null,
            "grid_auto_columns": null,
            "grid_auto_flow": null,
            "grid_auto_rows": null,
            "grid_column": null,
            "grid_gap": null,
            "grid_row": null,
            "grid_template_areas": null,
            "grid_template_columns": null,
            "grid_template_rows": null,
            "height": null,
            "justify_content": null,
            "justify_items": null,
            "left": null,
            "margin": null,
            "max_height": null,
            "max_width": null,
            "min_height": null,
            "min_width": null,
            "object_fit": null,
            "object_position": null,
            "order": null,
            "overflow": null,
            "overflow_x": null,
            "overflow_y": null,
            "padding": null,
            "right": null,
            "top": null,
            "visibility": null,
            "width": null
          }
        },
        "d2fdc871a12343f4824bed15770e827a": {
          "model_module": "@jupyter-widgets/controls",
          "model_module_version": "1.5.0",
          "model_name": "HTMLModel",
          "state": {
            "_dom_classes": [],
            "_model_module": "@jupyter-widgets/controls",
            "_model_module_version": "1.5.0",
            "_model_name": "HTMLModel",
            "_view_count": null,
            "_view_module": "@jupyter-widgets/controls",
            "_view_module_version": "1.5.0",
            "_view_name": "HTMLView",
            "description": "",
            "description_tooltip": null,
            "layout": "IPY_MODEL_6c6f0b90cc2b43479100e9532430ddc6",
            "placeholder": "​",
            "style": "IPY_MODEL_c9ba57def25d4b7daf0d9b5ef5c6e9ec",
            "value": " 57/6250 [00:06&lt;11:01,  9.36it/s]"
          }
        },
        "ebb4ba9bc188410bac595d334cb64821": {
          "model_module": "@jupyter-widgets/base",
          "model_module_version": "1.2.0",
          "model_name": "LayoutModel",
          "state": {
            "_model_module": "@jupyter-widgets/base",
            "_model_module_version": "1.2.0",
            "_model_name": "LayoutModel",
            "_view_count": null,
            "_view_module": "@jupyter-widgets/base",
            "_view_module_version": "1.2.0",
            "_view_name": "LayoutView",
            "align_content": null,
            "align_items": null,
            "align_self": null,
            "border": null,
            "bottom": null,
            "display": null,
            "flex": null,
            "flex_flow": null,
            "grid_area": null,
            "grid_auto_columns": null,
            "grid_auto_flow": null,
            "grid_auto_rows": null,
            "grid_column": null,
            "grid_gap": null,
            "grid_row": null,
            "grid_template_areas": null,
            "grid_template_columns": null,
            "grid_template_rows": null,
            "height": null,
            "justify_content": null,
            "justify_items": null,
            "left": null,
            "margin": null,
            "max_height": null,
            "max_width": null,
            "min_height": null,
            "min_width": null,
            "object_fit": null,
            "object_position": null,
            "order": null,
            "overflow": null,
            "overflow_x": null,
            "overflow_y": null,
            "padding": null,
            "right": null,
            "top": null,
            "visibility": null,
            "width": null
          }
        },
        "ebe2e54d484244f6b2890a995e27225a": {
          "model_module": "@jupyter-widgets/base",
          "model_module_version": "1.2.0",
          "model_name": "LayoutModel",
          "state": {
            "_model_module": "@jupyter-widgets/base",
            "_model_module_version": "1.2.0",
            "_model_name": "LayoutModel",
            "_view_count": null,
            "_view_module": "@jupyter-widgets/base",
            "_view_module_version": "1.2.0",
            "_view_name": "LayoutView",
            "align_content": null,
            "align_items": null,
            "align_self": null,
            "border": null,
            "bottom": null,
            "display": null,
            "flex": null,
            "flex_flow": null,
            "grid_area": null,
            "grid_auto_columns": null,
            "grid_auto_flow": null,
            "grid_auto_rows": null,
            "grid_column": null,
            "grid_gap": null,
            "grid_row": null,
            "grid_template_areas": null,
            "grid_template_columns": null,
            "grid_template_rows": null,
            "height": null,
            "justify_content": null,
            "justify_items": null,
            "left": null,
            "margin": null,
            "max_height": null,
            "max_width": null,
            "min_height": null,
            "min_width": null,
            "object_fit": null,
            "object_position": null,
            "order": null,
            "overflow": null,
            "overflow_x": null,
            "overflow_y": null,
            "padding": null,
            "right": null,
            "top": null,
            "visibility": null,
            "width": null
          }
        },
        "fc36f06dac7a4e4995884004c2974fb3": {
          "model_module": "@jupyter-widgets/controls",
          "model_module_version": "1.5.0",
          "model_name": "DescriptionStyleModel",
          "state": {
            "_model_module": "@jupyter-widgets/controls",
            "_model_module_version": "1.5.0",
            "_model_name": "DescriptionStyleModel",
            "_view_count": null,
            "_view_module": "@jupyter-widgets/base",
            "_view_module_version": "1.2.0",
            "_view_name": "StyleView",
            "description_width": ""
          }
        }
      }
    }
  },
  "nbformat": 4,
  "nbformat_minor": 0
}